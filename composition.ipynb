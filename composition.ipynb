{
 "cells": [
  {
   "cell_type": "markdown",
   "id": "cc409527-feea-4ce6-aacd-4ec85d739da1",
   "metadata": {},
   "source": [
    "1.Explain the concept of composition in Python and how it is used to build complex objects from simpler ones.\n",
    "\n",
    "Concept of Composition in Python\n",
    "\n",
    "Composition is a design principle in object-oriented programming where a class is composed of one or more objects from other classes, rather than inheriting from a parent class. It represents a \"has-a\" relationship, where one class contains or is built using instances of other classes. This allows complex objects to be constructed from simpler, more manageable components, promoting modularity and reusability."
   ]
  },
  {
   "cell_type": "code",
   "execution_count": 1,
   "id": "b964a759-911b-4cf7-88e2-cd8e6e090361",
   "metadata": {},
   "outputs": [
    {
     "name": "stdout",
     "output_type": "stream",
     "text": [
      "Engine starting...\n",
      "Driving the Toyota\n"
     ]
    }
   ],
   "source": [
    "class Engine:\n",
    "    def __init__(self, horsepower):\n",
    "        self.horsepower = horsepower\n",
    "\n",
    "    def start(self):\n",
    "        print(\"Engine starting...\")\n",
    "\n",
    "class Car:\n",
    "    def __init__(self, model, engine):\n",
    "        self.model = model\n",
    "        self.engine = engine  # Composition: Car \"has a\" Engine\n",
    "\n",
    "    def drive(self):\n",
    "        self.engine.start()\n",
    "        print(f\"Driving the {self.model}\")\n",
    "\n",
    "# Creating Engine and Car objects\n",
    "my_engine = Engine(horsepower=150)\n",
    "my_car = Car(model=\"Toyota\", engine=my_engine)\n",
    "\n",
    "my_car.drive()\n"
   ]
  },
  {
   "cell_type": "markdown",
   "id": "f3dd044c-fe40-4122-8f56-f039fed55966",
   "metadata": {},
   "source": [
    "2. Describe the difference between composition and inheritance in object-oriented programming."
   ]
  },
  {
   "cell_type": "markdown",
   "id": "d1846871-f51d-4b0d-b7e7-52bfc3691075",
   "metadata": {},
   "source": [
    "2. Difference Between Composition and Inheritance\n",
    "\n",
    "Inheritance: A class inherits attributes and methods from a parent class. It represents an \"is-a\" relationship. For example, a Dog class might inherit from an Animal class because a dog \"is an\" animal.\n",
    "\n",
    "Composition: A class uses other classes to build its functionality. It represents a \"has-a\" relationship. For example, a Car class might use an Engine class because a car \"has an\" engine.\n",
    "\n",
    "Key Differences:\n",
    "\n",
    "Flexibility: Composition offers more flexibility as you can change the composed objects at runtime or replace them with other objects. Inheritance is more rigid.\n",
    "\n",
    "Reusability: Composition allows for better reuse of code and modularity since components can be used across different classes without altering their definitions.\n",
    "\n",
    "Coupling: Composition tends to reduce coupling compared to inheritance, as classes are less dependent on a fixed hierarchy."
   ]
  },
  {
   "cell_type": "markdown",
   "id": "2fbcd4a2-398f-4f92-a54e-bcb06527cce0",
   "metadata": {},
   "source": [
    "3. Create a Python class called `Author` with attributes for name and birthdate. Then, create a `Book` class\n",
    "that contains an instance of `Author` as a composition. Provide an example of creating a `Book` object."
   ]
  },
  {
   "cell_type": "code",
   "execution_count": 2,
   "id": "b2382bcb-71ff-4091-8e9f-54c85faa915e",
   "metadata": {},
   "outputs": [
    {
     "name": "stdout",
     "output_type": "stream",
     "text": [
      "'1984' by George Orwell, born on 1903-06-25\n"
     ]
    }
   ],
   "source": [
    "from datetime import date\n",
    "\n",
    "class Author:\n",
    "    def __init__(self, name, birthdate):\n",
    "        self.name = name\n",
    "        self.birthdate = birthdate\n",
    "\n",
    "    def __str__(self):\n",
    "        return f\"{self.name}, born on {self.birthdate}\"\n",
    "\n",
    "class Book:\n",
    "    def __init__(self, title, author):\n",
    "        self.title = title\n",
    "        self.author = author  # Composition: Book \"has an\" Author\n",
    "\n",
    "    def __str__(self):\n",
    "        return f\"'{self.title}' by {self.author}\"\n",
    "\n",
    "# Creating Author and Book objects\n",
    "author = Author(name=\"George Orwell\", birthdate=date(1903, 6, 25))\n",
    "book = Book(title=\"1984\", author=author)\n",
    "\n",
    "print(book)\n"
   ]
  },
  {
   "cell_type": "markdown",
   "id": "f1edd909-7cfa-44a3-abe0-265b5c5d9426",
   "metadata": {},
   "source": [
    "4. Discuss the benefits of using composition over inheritance in Python, especially in terms of code flexibility\n",
    "and reusability."
   ]
  },
  {
   "cell_type": "markdown",
   "id": "c7ab83e4-8d53-48d2-8fbb-ab4cce63b370",
   "metadata": {},
   "source": [
    "4. Benefits of Using Composition Over Inheritance\n",
    "\n",
    "Flexibility: Composition allows for more dynamic behavior. You can change or replace the components of a class without modifying its overall structure.\n",
    "\n",
    "Reusability: Components can be reused across different classes, enhancing code reuse and reducing redundancy.\n",
    "\n",
    "Encapsulation: Composition helps in keeping concerns separate and encapsulated. Each class handles its own functionality and interacts through well-defined interfaces.\n",
    "\n",
    "Avoiding Inheritance Pitfalls: Inheritance can lead to a rigid class hierarchy and make the code harder to maintain, especially with deep inheritance trees. Composition avoids this issue."
   ]
  },
  {
   "cell_type": "markdown",
   "id": "70205482-c692-467b-a5f2-c3ed6c5be1b3",
   "metadata": {},
   "source": [
    "5. How can you implement composition in Python classes? Provide examples of using composition to create\n",
    "complex objects."
   ]
  },
  {
   "cell_type": "code",
   "execution_count": 3,
   "id": "15e479d8-3383-456c-9096-f32c7db41b2d",
   "metadata": {},
   "outputs": [
    {
     "name": "stdout",
     "output_type": "stream",
     "text": [
      "John Doe lives at 123 Elm St, Springfield\n"
     ]
    }
   ],
   "source": [
    "class Address:\n",
    "    def __init__(self, street, city):\n",
    "        self.street = street\n",
    "        self.city = city\n",
    "\n",
    "class Person:\n",
    "    def __init__(self, name, address):\n",
    "        self.name = name\n",
    "        self.address = address  # Composition: Person \"has an\" Address\n",
    "\n",
    "    def __str__(self):\n",
    "        return f\"{self.name} lives at {self.address.street}, {self.address.city}\"\n",
    "\n",
    "# Creating Address and Person objects\n",
    "address = Address(street=\"123 Elm St\", city=\"Springfield\")\n",
    "person = Person(name=\"John Doe\", address=address)\n",
    "\n",
    "print(person)\n"
   ]
  },
  {
   "cell_type": "markdown",
   "id": "e30cd495-fbae-41c6-b2d9-ea0855f7add6",
   "metadata": {},
   "source": [
    "6. Create a Python class hierarchy for a music player system, using composition to represent playlists and\n",
    "songs."
   ]
  },
  {
   "cell_type": "code",
   "execution_count": 4,
   "id": "462b67e6-7588-4499-a21f-2942cf0a4998",
   "metadata": {},
   "outputs": [
    {
     "name": "stdout",
     "output_type": "stream",
     "text": [
      "Playlist 'My Playlist' contains: Song 1 by Artist 1, Song 2 by Artist 2\n"
     ]
    }
   ],
   "source": [
    "class Song:\n",
    "    def __init__(self, title, artist):\n",
    "        self.title = title\n",
    "        self.artist = artist\n",
    "\n",
    "    def __str__(self):\n",
    "        return f\"{self.title} by {self.artist}\"\n",
    "\n",
    "class Playlist:\n",
    "    def __init__(self, name):\n",
    "        self.name = name\n",
    "        self.songs = []  # Playlist \"has many\" Songs\n",
    "\n",
    "    def add_song(self, song):\n",
    "        self.songs.append(song)\n",
    "\n",
    "    def __str__(self):\n",
    "        return f\"Playlist '{self.name}' contains: \" + \", \".join(str(song) for song in self.songs)\n",
    "\n",
    "# Creating Songs and Playlist objects\n",
    "song1 = Song(title=\"Song 1\", artist=\"Artist 1\")\n",
    "song2 = Song(title=\"Song 2\", artist=\"Artist 2\")\n",
    "playlist = Playlist(name=\"My Playlist\")\n",
    "playlist.add_song(song1)\n",
    "playlist.add_song(song2)\n",
    "\n",
    "print(playlist)\n"
   ]
  },
  {
   "cell_type": "markdown",
   "id": "5377f9e5-c68c-414b-ac5c-20655edfbc84",
   "metadata": {},
   "source": [
    "7. Explain the concept of \"has-a\" relationships in composition and how it helps design software systems."
   ]
  },
  {
   "cell_type": "markdown",
   "id": "2d837c65-253d-44a6-a97b-68fbdcb2bb1a",
   "metadata": {},
   "source": [
    "7. \"Has-a\" Relationships in Composition\n",
    "\n",
    "In composition, a \"has-a\" relationship signifies that one class contains an instance of another class. This allows objects to be assembled from smaller components, enhancing modularity and making it easier to manage and modify complex systems. For instance, a Car \"has an\" Engine, which means the Engine is a component of the Car."
   ]
  },
  {
   "cell_type": "markdown",
   "id": "56caabf8-d78f-44ce-9484-b81a7f099899",
   "metadata": {},
   "source": [
    "8. Create a Python class for a computer system, using composition to represent components like CPU, RAM,\n",
    "and storage devices."
   ]
  },
  {
   "cell_type": "code",
   "execution_count": 5,
   "id": "158f858d-3be2-4e63-975c-1ae089042ff2",
   "metadata": {},
   "outputs": [
    {
     "name": "stdout",
     "output_type": "stream",
     "text": [
      "Computer with Intel i7 CPU, 16GB RAM, and 512GB Storage\n"
     ]
    }
   ],
   "source": [
    "class CPU:\n",
    "    def __init__(self, model):\n",
    "        self.model = model\n",
    "\n",
    "class RAM:\n",
    "    def __init__(self, size):\n",
    "        self.size = size\n",
    "\n",
    "class Storage:\n",
    "    def __init__(self, capacity):\n",
    "        self.capacity = capacity\n",
    "\n",
    "class Computer:\n",
    "    def __init__(self, cpu, ram, storage):\n",
    "        self.cpu = cpu\n",
    "        self.ram = ram\n",
    "        self.storage = storage  # Composition: Computer \"has a\" CPU, RAM, and Storage\n",
    "\n",
    "    def __str__(self):\n",
    "        return f\"Computer with {self.cpu.model} CPU, {self.ram.size}GB RAM, and {self.storage.capacity}GB Storage\"\n",
    "\n",
    "# Creating components and Computer object\n",
    "cpu = CPU(model=\"Intel i7\")\n",
    "ram = RAM(size=16)\n",
    "storage = Storage(capacity=512)\n",
    "computer = Computer(cpu=cpu, ram=ram, storage=storage)\n",
    "\n",
    "print(computer)\n"
   ]
  },
  {
   "cell_type": "markdown",
   "id": "a8208fcb-eb24-416e-8de1-58355ca7f17e",
   "metadata": {},
   "source": [
    "9. Describe the concept of \"delegation\" in composition and how it simplifies the design of complex systems."
   ]
  },
  {
   "cell_type": "markdown",
   "id": "78136006-e9f0-4d98-b5d5-aa843ccfe6a0",
   "metadata": {},
   "source": [
    "9. Delegation in Composition\n",
    "\n",
    "Delegation is a technique where a class forwards certain method calls to an instance of another class. This allows one class to use the functionality of another without needing to inherit from it. It simplifies the design by promoting code reuse and separation of concerns."
   ]
  },
  {
   "cell_type": "code",
   "execution_count": 6,
   "id": "268be44a-0718-4818-b838-812752188d17",
   "metadata": {},
   "outputs": [
    {
     "name": "stdout",
     "output_type": "stream",
     "text": [
      "Printing: This is a test document.\n"
     ]
    }
   ],
   "source": [
    "class Printer:\n",
    "    def print(self, document):\n",
    "        print(f\"Printing: {document}\")\n",
    "\n",
    "class Document:\n",
    "    def __init__(self, content):\n",
    "        self.content = content\n",
    "\n",
    "class PrinterDelegator:\n",
    "    def __init__(self, printer):\n",
    "        self.printer = printer  # Delegation: PrinterDelegator \"has a\" Printer\n",
    "\n",
    "    def print_document(self, document):\n",
    "        self.printer.print(document.content)\n",
    "\n",
    "# Creating Printer and Document objects\n",
    "printer = Printer()\n",
    "document = Document(content=\"This is a test document.\")\n",
    "delegator = PrinterDelegator(printer=printer)\n",
    "\n",
    "delegator.print_document(document)\n"
   ]
  },
  {
   "cell_type": "markdown",
   "id": "c2a001b0-8781-46a7-9443-96b883f02759",
   "metadata": {},
   "source": [
    "10. Create a Python class for a car, using composition to represent components like the engine, wheels, and\n",
    "transmission."
   ]
  },
  {
   "cell_type": "code",
   "execution_count": 7,
   "id": "526bc514-27b4-4f2e-90b3-acb4cc58e91d",
   "metadata": {},
   "outputs": [
    {
     "name": "stdout",
     "output_type": "stream",
     "text": [
      "Car model: Sedan\n",
      "Engine horsepower: 200\n",
      "Wheels: 16 inch, 16 inch, 16 inch, 16 inch\n",
      "Transmission type: Automatic\n"
     ]
    }
   ],
   "source": [
    "class Engine:\n",
    "    def __init__(self, horsepower):\n",
    "        self.horsepower = horsepower\n",
    "\n",
    "class Wheel:\n",
    "    def __init__(self, size):\n",
    "        self.size = size\n",
    "\n",
    "class Transmission:\n",
    "    def __init__(self, type):\n",
    "        self.type = type\n",
    "\n",
    "class Car:\n",
    "    def __init__(self, model, engine, wheels, transmission):\n",
    "        self.model = model\n",
    "        self.engine = engine\n",
    "        self.wheels = wheels  # Car \"has many\" Wheels\n",
    "        self.transmission = transmission\n",
    "\n",
    "    def __str__(self):\n",
    "        wheels_info = \", \".join(f\"{wheel.size} inch\" for wheel in self.wheels)\n",
    "        return (f\"Car model: {self.model}\\n\"\n",
    "                f\"Engine horsepower: {self.engine.horsepower}\\n\"\n",
    "                f\"Wheels: {wheels_info}\\n\"\n",
    "                f\"Transmission type: {self.transmission.type}\")\n",
    "\n",
    "# Creating components and Car object\n",
    "engine = Engine(horsepower=200)\n",
    "wheels = [Wheel(size=16) for _ in range(4)]\n",
    "transmission = Transmission(type=\"Automatic\")\n",
    "car = Car(model=\"Sedan\", engine=engine, wheels=wheels, transmission=transmission)\n",
    "\n",
    "print(car)\n"
   ]
  },
  {
   "cell_type": "markdown",
   "id": "dcf0cd11-9599-450d-acc0-bbe70b1246d6",
   "metadata": {},
   "source": [
    "11. How can you encapsulate and hide the details of composed objects in Python classes to maintain\n",
    "abstraction?"
   ]
  },
  {
   "cell_type": "markdown",
   "id": "e7bd4ab5-aef6-4014-9814-3811078acc67",
   "metadata": {},
   "source": [
    "11. Encapsulation and Hiding Details in Composition\n",
    "\n",
    "Encapsulation in composition involves hiding the internal details of composed objects and exposing only necessary functionality through a well-defined interface. This is achieved by:\n",
    "\n",
    "Using Private Attributes: Make attributes private (using a leading underscore) so that they cannot be accessed directly from outside the class.\n",
    "\n",
    "Providing Public Methods: Offer methods to interact with the composed objects, rather than accessing them directly.\n",
    "\n",
    "    Hiding Implementation Details: Only expose high-level operations that make sense for the users of the class."
   ]
  },
  {
   "cell_type": "code",
   "execution_count": 8,
   "id": "00c3c7d2-6a07-4609-a3dd-9558a7da3533",
   "metadata": {},
   "outputs": [
    {
     "name": "stdout",
     "output_type": "stream",
     "text": [
      "Engine starting...\n",
      "Driving the Toyota\n"
     ]
    }
   ],
   "source": [
    "class Engine:\n",
    "    def __init__(self, horsepower):\n",
    "        self.__horsepower = horsepower  # Private attribute\n",
    "\n",
    "    def start(self):\n",
    "        print(\"Engine starting...\")\n",
    "\n",
    "    def get_horsepower(self):\n",
    "        return self.__horsepower  # Public method to access private attribute\n",
    "\n",
    "class Car:\n",
    "    def __init__(self, model, engine):\n",
    "        self.model = model\n",
    "        self.__engine = engine  # Private composed object\n",
    "\n",
    "    def drive(self):\n",
    "        self.__engine.start()  # Encapsulated use of composed object\n",
    "        print(f\"Driving the {self.model}\")\n",
    "\n",
    "# Creating Engine and Car objects\n",
    "engine = Engine(horsepower=150)\n",
    "car = Car(model=\"Toyota\", engine=engine)\n",
    "\n",
    "car.drive()\n",
    "# print(car.__engine.get_horsepower())  # Would raise an AttributeError\n"
   ]
  },
  {
   "cell_type": "markdown",
   "id": "c88010e8-ed34-4858-9b56-dbe6064150da",
   "metadata": {},
   "source": [
    "12. Create a Python class for a university course, using composition to represent students, instructors, and\n",
    "course materials."
   ]
  },
  {
   "cell_type": "code",
   "execution_count": 9,
   "id": "2fe549d6-7a19-40cc-ae00-e1a6946d06cc",
   "metadata": {},
   "outputs": [
    {
     "name": "stdout",
     "output_type": "stream",
     "text": [
      "Course: Computer Science 101\n",
      "Instructor: Dr. Smith\n",
      "Students: Alice, Bob\n",
      "Materials: Textbook, Lecture Notes\n"
     ]
    }
   ],
   "source": [
    "class Student:\n",
    "    def __init__(self, name):\n",
    "        self.name = name\n",
    "\n",
    "    def __str__(self):\n",
    "        return self.name\n",
    "\n",
    "class Instructor:\n",
    "    def __init__(self, name):\n",
    "        self.name = name\n",
    "\n",
    "    def __str__(self):\n",
    "        return self.name\n",
    "\n",
    "class CourseMaterial:\n",
    "    def __init__(self, material_name):\n",
    "        self.material_name = material_name\n",
    "\n",
    "    def __str__(self):\n",
    "        return self.material_name\n",
    "\n",
    "class UniversityCourse:\n",
    "    def __init__(self, course_name, instructor, students, materials):\n",
    "        self.course_name = course_name\n",
    "        self.instructor = instructor  # Composition: Course \"has an\" Instructor\n",
    "        self.students = students  # Composition: Course \"has many\" Students\n",
    "        self.materials = materials  # Composition: Course \"has many\" Materials\n",
    "\n",
    "    def __str__(self):\n",
    "        students_list = \", \".join(str(student) for student in self.students)\n",
    "        materials_list = \", \".join(str(material) for material in self.materials)\n",
    "        return (f\"Course: {self.course_name}\\n\"\n",
    "                f\"Instructor: {self.instructor}\\n\"\n",
    "                f\"Students: {students_list}\\n\"\n",
    "                f\"Materials: {materials_list}\")\n",
    "\n",
    "# Creating objects\n",
    "instructor = Instructor(name=\"Dr. Smith\")\n",
    "students = [Student(name=\"Alice\"), Student(name=\"Bob\")]\n",
    "materials = [CourseMaterial(material_name=\"Textbook\"), CourseMaterial(material_name=\"Lecture Notes\")]\n",
    "\n",
    "course = UniversityCourse(course_name=\"Computer Science 101\", instructor=instructor, students=students, materials=materials)\n",
    "\n",
    "print(course)\n"
   ]
  },
  {
   "cell_type": "markdown",
   "id": "af14523d-da42-407d-9210-da65e99e85cf",
   "metadata": {},
   "source": [
    "13. Discuss the challenges and drawbacks of composition, such as increased complexity and potential for\n",
    "tight coupling between objects."
   ]
  },
  {
   "cell_type": "markdown",
   "id": "50210a52-a2ce-49c3-a06e-33520ad750f5",
   "metadata": {},
   "source": [
    "13. Challenges and Drawbacks of Composition\n",
    "Challenges and Drawbacks:\n",
    "\n",
    "Increased Complexity: Using composition can sometimes lead to complex object graphs and interactions, making it harder to understand the overall design.\n",
    "\n",
    "Tight Coupling: If not managed properly, composition can lead to tight coupling between objects, where changes in one component require changes in others.\n",
    "\n",
    "Overhead of Composition: More classes and objects mean more overhead in terms of memory and potentially performance.\n",
    "\n",
    "Initialization Complexity: Managing the creation and initialization of many composed objects can become cumbersome."
   ]
  },
  {
   "cell_type": "markdown",
   "id": "1a84ebde-f44a-4b1c-ac57-e6235838e258",
   "metadata": {},
   "source": [
    "14. Create a Python class hierarchy for a restaurant system, using composition to represent menus, dishes,\n",
    "and ingredients."
   ]
  },
  {
   "cell_type": "code",
   "execution_count": 10,
   "id": "9e689b64-b969-45f1-8824-e4aa03648284",
   "metadata": {},
   "outputs": [
    {
     "name": "stdout",
     "output_type": "stream",
     "text": [
      "Pizza with ingredients: Tomato, Cheese\n",
      "Caesar Salad with ingredients: Lettuce, Chicken\n"
     ]
    }
   ],
   "source": [
    "class Ingredient:\n",
    "    def __init__(self, name):\n",
    "        self.name = name\n",
    "\n",
    "    def __str__(self):\n",
    "        return self.name\n",
    "\n",
    "class Dish:\n",
    "    def __init__(self, name, ingredients):\n",
    "        self.name = name\n",
    "        self.ingredients = ingredients  # Composition: Dish \"has many\" Ingredients\n",
    "\n",
    "    def __str__(self):\n",
    "        ingredients_list = \", \".join(str(ingredient) for ingredient in self.ingredients)\n",
    "        return f\"{self.name} with ingredients: {ingredients_list}\"\n",
    "\n",
    "class Menu:\n",
    "    def __init__(self, dishes):\n",
    "        self.dishes = dishes  # Composition: Menu \"has many\" Dishes\n",
    "\n",
    "    def __str__(self):\n",
    "        return \"\\n\".join(str(dish) for dish in self.dishes)\n",
    "\n",
    "# Creating objects\n",
    "ingredients1 = [Ingredient(name=\"Tomato\"), Ingredient(name=\"Cheese\")]\n",
    "ingredients2 = [Ingredient(name=\"Lettuce\"), Ingredient(name=\"Chicken\")]\n",
    "\n",
    "dish1 = Dish(name=\"Pizza\", ingredients=ingredients1)\n",
    "dish2 = Dish(name=\"Caesar Salad\", ingredients=ingredients2)\n",
    "\n",
    "menu = Menu(dishes=[dish1, dish2])\n",
    "\n",
    "print(menu)\n"
   ]
  },
  {
   "cell_type": "markdown",
   "id": "922c849a-0a5d-4fa9-b611-5c89a19c93f8",
   "metadata": {},
   "source": [
    "15. Explain how composition enhances code maintainability and modularity in Python programs."
   ]
  },
  {
   "cell_type": "markdown",
   "id": "85e92958-064f-4286-86aa-8bc18a087f98",
   "metadata": {},
   "source": [
    "15. Composition Enhancing Code Maintainability and Modularity\n",
    "\n",
    "Enhancements:\n",
    "\n",
    "Modularity: Composition allows breaking down complex systems into smaller, manageable components. Each component can be developed, tested, and maintained independently.\n",
    "\n",
    "Maintainability: Changes in one component (e.g., a Printer class) don’t require changes in the classes that use it, as long as the interface remains consistent.\n",
    "\n",
    "Scalability: New features or components can be added without altering existing code, making the system more adaptable to changes."
   ]
  },
  {
   "cell_type": "markdown",
   "id": "9ae4401c-9559-483a-beb8-0851d25d63ed",
   "metadata": {},
   "source": [
    "16. Create a Python class for a computer game character, using composition to represent attributes like\n",
    "weapons, armor, and inventory."
   ]
  },
  {
   "cell_type": "code",
   "execution_count": 11,
   "id": "cba74c02-1e83-4da2-ba47-c7477f4d1c09",
   "metadata": {},
   "outputs": [
    {
     "name": "stdout",
     "output_type": "stream",
     "text": [
      "Character: Knight\n",
      "Weapon: Sword (Damage: 25)\n",
      "Armor: Chainmail (Defense: 15)\n",
      "Inventory: Health Potion\n"
     ]
    }
   ],
   "source": [
    "class Weapon:\n",
    "    def __init__(self, name, damage):\n",
    "        self.name = name\n",
    "        self.damage = damage\n",
    "\n",
    "    def __str__(self):\n",
    "        return f\"{self.name} (Damage: {self.damage})\"\n",
    "\n",
    "class Armor:\n",
    "    def __init__(self, name, defense):\n",
    "        self.name = name\n",
    "        self.defense = defense\n",
    "\n",
    "    def __str__(self):\n",
    "        return f\"{self.name} (Defense: {self.defense})\"\n",
    "\n",
    "class Inventory:\n",
    "    def __init__(self):\n",
    "        self.items = []\n",
    "\n",
    "    def add_item(self, item):\n",
    "        self.items.append(item)\n",
    "\n",
    "    def __str__(self):\n",
    "        return \", \".join(str(item) for item in self.items)\n",
    "\n",
    "class GameCharacter:\n",
    "    def __init__(self, name, weapon, armor, inventory):\n",
    "        self.name = name\n",
    "        self.weapon = weapon\n",
    "        self.armor = armor\n",
    "        self.inventory = inventory  # Composition: Character \"has an\" Inventory\n",
    "\n",
    "    def __str__(self):\n",
    "        return (f\"Character: {self.name}\\n\"\n",
    "                f\"Weapon: {self.weapon}\\n\"\n",
    "                f\"Armor: {self.armor}\\n\"\n",
    "                f\"Inventory: {self.inventory}\")\n",
    "\n",
    "# Creating objects\n",
    "weapon = Weapon(name=\"Sword\", damage=25)\n",
    "armor = Armor(name=\"Chainmail\", defense=15)\n",
    "inventory = Inventory()\n",
    "inventory.add_item(\"Health Potion\")\n",
    "\n",
    "character = GameCharacter(name=\"Knight\", weapon=weapon, armor=armor, inventory=inventory)\n",
    "\n",
    "print(character)\n"
   ]
  },
  {
   "cell_type": "markdown",
   "id": "8cf11e3c-11a0-45dc-ac39-85f7e1d3ca03",
   "metadata": {},
   "source": [
    "17. Describe the concept of \"aggregation\" in composition and how it differs from simple composition."
   ]
  },
  {
   "cell_type": "markdown",
   "id": "06e5ac83-6721-47a9-93e6-8f8cc0bfb964",
   "metadata": {},
   "source": [
    "17. Aggregation vs. Composition\n",
    "\n",
    "Aggregation is a type of association where one class represents a whole and the other represents parts that can exist independently. In composition, the parts are dependent on the whole and typically do not exist independently.\n",
    "\n",
    "Example:\n",
    "\n",
    "Aggregation: A Library class might aggregate Book objects where books can exist without the library.\n",
    "Composition: A House class might compose Room objects where rooms are integral parts of the house and do not exist independently."
   ]
  },
  {
   "cell_type": "markdown",
   "id": "0a114129-630f-4bbc-bca0-182be8897958",
   "metadata": {},
   "source": [
    "18. Create a Python class for a house, using composition to represent rooms, furniture, and appliances."
   ]
  },
  {
   "cell_type": "code",
   "execution_count": 12,
   "id": "d1ce5d78-2e02-4a46-9de4-bae1e0ec8c18",
   "metadata": {},
   "outputs": [
    {
     "name": "stdout",
     "output_type": "stream",
     "text": [
      "House with rooms: Living Room, Bedroom\n",
      "Furniture: Sofa, Bed\n",
      "Appliances: Fridge, Washing Machine\n"
     ]
    }
   ],
   "source": [
    "class Room:\n",
    "    def __init__(self, name):\n",
    "        self.name = name\n",
    "\n",
    "    def __str__(self):\n",
    "        return self.name\n",
    "\n",
    "class Furniture:\n",
    "    def __init__(self, name):\n",
    "        self.name = name\n",
    "\n",
    "    def __str__(self):\n",
    "        return self.name\n",
    "\n",
    "class Appliance:\n",
    "    def __init__(self, name):\n",
    "        self.name = name\n",
    "\n",
    "    def __str__(self):\n",
    "        return self.name\n",
    "\n",
    "class House:\n",
    "    def __init__(self, rooms, furniture, appliances):\n",
    "        self.rooms = rooms  # Composition: House \"has many\" Rooms\n",
    "        self.furniture = furniture  # Composition: House \"has many\" Furniture\n",
    "        self.appliances = appliances  # Composition: House \"has many\" Appliances\n",
    "\n",
    "    def __str__(self):\n",
    "        rooms_list = \", \".join(str(room) for room in self.rooms)\n",
    "        furniture_list = \", \".join(str(item) for item in self.furniture)\n",
    "        appliances_list = \", \".join(str(appliance) for appliance in self.appliances)\n",
    "        return (f\"House with rooms: {rooms_list}\\n\"\n",
    "                f\"Furniture: {furniture_list}\\n\"\n",
    "                f\"Appliances: {appliances_list}\")\n",
    "\n",
    "# Creating objects\n",
    "rooms = [Room(name=\"Living Room\"), Room(name=\"Bedroom\")]\n",
    "furniture = [Furniture(name=\"Sofa\"), Furniture(name=\"Bed\")]\n",
    "appliances = [Appliance(name=\"Fridge\"), Appliance(name=\"Washing Machine\")]\n",
    "\n",
    "house = House(rooms=rooms, furniture=furniture, appliances=appliances)\n",
    "\n",
    "print(house)\n"
   ]
  },
  {
   "cell_type": "markdown",
   "id": "ac03b1af-ac28-42b0-9e60-197de65b8031",
   "metadata": {},
   "source": [
    "19. How can you achieve flexibility in composed objects by allowing them to be replaced or modified\n",
    "dynamically at runtime?"
   ]
  },
  {
   "cell_type": "markdown",
   "id": "9d4ac761-55cf-4e37-8020-f381c3ec5005",
   "metadata": {},
   "source": [
    "19. Achieving Flexibility in Composed Objects\n",
    "\n",
    "Flexibility in composed objects can be achieved through several techniques, which allow you to replace or modify these objects dynamically at runtime:\n",
    "\n",
    "Dependency Injection: Pass dependencies to a class through its constructor or methods. This approach allows you to change the components used by a class without modifying its code."
   ]
  },
  {
   "cell_type": "code",
   "execution_count": 13,
   "id": "02493b31-c936-4086-8ba9-52f6ac51df75",
   "metadata": {},
   "outputs": [
    {
     "name": "stdout",
     "output_type": "stream",
     "text": [
      "Electric engine starting silently...\n",
      "Gas engine starting with a roar...\n"
     ]
    }
   ],
   "source": [
    "class Engine:\n",
    "    def start(self):\n",
    "        raise NotImplementedError\n",
    "\n",
    "class ElectricEngine(Engine):\n",
    "    def start(self):\n",
    "        print(\"Electric engine starting silently...\")\n",
    "\n",
    "class GasEngine(Engine):\n",
    "    def start(self):\n",
    "        print(\"Gas engine starting with a roar...\")\n",
    "\n",
    "class Car:\n",
    "    def __init__(self, engine: Engine):\n",
    "        self.engine = engine  # Dependency injection\n",
    "\n",
    "    def drive(self):\n",
    "        self.engine.start()\n",
    "\n",
    "# Usage\n",
    "electric_engine = ElectricEngine()\n",
    "gas_engine = GasEngine()\n",
    "\n",
    "car = Car(engine=electric_engine)\n",
    "car.drive()  # Uses ElectricEngine\n",
    "\n",
    "car.engine = gas_engine\n",
    "car.drive()  # Now uses GasEngine\n"
   ]
  },
  {
   "cell_type": "markdown",
   "id": "be6c6d22-589c-44ed-b5e0-2d77618bf20d",
   "metadata": {},
   "source": [
    "Abstract Interfaces: Use abstract base classes or interfaces to define the expected behavior. Different concrete implementations can be substituted at runtime.\n",
    "\n",
    "Example:"
   ]
  },
  {
   "cell_type": "code",
   "execution_count": 14,
   "id": "3cd742df-8c71-4448-8adb-011a7dfdadb2",
   "metadata": {},
   "outputs": [
    {
     "name": "stdout",
     "output_type": "stream",
     "text": [
      "Processing $100 through PayPal.\n",
      "Processing $100 through Stripe.\n"
     ]
    }
   ],
   "source": [
    "from abc import ABC, abstractmethod\n",
    "\n",
    "class PaymentProcessor(ABC):\n",
    "    @abstractmethod\n",
    "    def process_payment(self, amount):\n",
    "        pass\n",
    "\n",
    "class PayPalProcessor(PaymentProcessor):\n",
    "    def process_payment(self, amount):\n",
    "        print(f\"Processing ${amount} through PayPal.\")\n",
    "\n",
    "class StripeProcessor(PaymentProcessor):\n",
    "    def process_payment(self, amount):\n",
    "        print(f\"Processing ${amount} through Stripe.\")\n",
    "\n",
    "class OnlineStore:\n",
    "    def __init__(self, payment_processor: PaymentProcessor):\n",
    "        self.payment_processor = payment_processor\n",
    "\n",
    "    def checkout(self, amount):\n",
    "        self.payment_processor.process_payment(amount)\n",
    "\n",
    "# Usage\n",
    "paypal_processor = PayPalProcessor()\n",
    "stripe_processor = StripeProcessor()\n",
    "\n",
    "store = OnlineStore(payment_processor=paypal_processor)\n",
    "store.checkout(100)  # Uses PayPalProcessor\n",
    "\n",
    "store.payment_processor = stripe_processor\n",
    "store.checkout(100)  # Now uses StripeProcessor\n"
   ]
  },
  {
   "cell_type": "markdown",
   "id": "5962fce8-b8af-4544-9e42-05ea1ef9b4ef",
   "metadata": {},
   "source": [
    "Configuration Files or Dependency Injection Containers: Use configuration files or DI containers to manage object creation and dependencies. This approach allows changing configurations without altering the code."
   ]
  },
  {
   "cell_type": "code",
   "execution_count": null,
   "id": "fd17b69d-1ae2-4600-8407-f6369767e8c7",
   "metadata": {},
   "outputs": [],
   "source": [
    "import json\n",
    "\n",
    "class ConfigLoader:\n",
    "    @staticmethod\n",
    "    def load_config(filename):\n",
    "        with open(filename, 'r') as file:\n",
    "            return json.load(file)\n",
    "\n",
    "class Service:\n",
    "    def __init__(self, service_type):\n",
    "        self.service_type = service_type\n",
    "\n",
    "# Assume config.json contains {\"service_type\": \"type1\"}\n",
    "config = ConfigLoader.load_config('config.json')\n",
    "service = Service(service_type=config['service_type'])\n"
   ]
  },
  {
   "cell_type": "markdown",
   "id": "ebed0145-6743-4038-b11f-c5bedbd0da8d",
   "metadata": {},
   "source": [
    "20. Create a Python class for a social media application, using composition to represent users, posts, and\n",
    "comments."
   ]
  },
  {
   "cell_type": "markdown",
   "id": "1b9c39c8-e33f-43f8-98d2-66d9c8449917",
   "metadata": {},
   "source": [
    "20. Social Media Application Using Composition"
   ]
  },
  {
   "cell_type": "code",
   "execution_count": 16,
   "id": "e4de9a94-a2b7-4bd7-ac81-0f269820b491",
   "metadata": {},
   "outputs": [
    {
     "name": "stdout",
     "output_type": "stream",
     "text": [
      "Users:\n",
      "User: alice (alice@example.com)\n",
      "User: bob (bob@example.com)\n",
      "\n",
      "Posts:\n",
      "Post: My First Post by alice\n",
      "Content: Hello World!\n",
      "Comments:\n",
      "Comment by bob: Nice post!\n"
     ]
    }
   ],
   "source": [
    "class User:\n",
    "    def __init__(self, username, email):\n",
    "        self.username = username\n",
    "        self.email = email\n",
    "\n",
    "    def __str__(self):\n",
    "        return f\"User: {self.username} ({self.email})\"\n",
    "\n",
    "class Comment:\n",
    "    def __init__(self, content, author):\n",
    "        self.content = content\n",
    "        self.author = author  # Composition: Comment \"has an\" Author\n",
    "\n",
    "    def __str__(self):\n",
    "        return f\"Comment by {self.author.username}: {self.content}\"\n",
    "\n",
    "class Post:\n",
    "    def __init__(self, title, content, author):\n",
    "        self.title = title\n",
    "        self.content = content\n",
    "        self.author = author  # Composition: Post \"has an\" Author\n",
    "        self.comments = []  # Post \"has many\" Comments\n",
    "\n",
    "    def add_comment(self, comment):\n",
    "        self.comments.append(comment)\n",
    "\n",
    "    def __str__(self):\n",
    "        comments_str = \"\\n\".join(str(comment) for comment in self.comments)\n",
    "        return (f\"Post: {self.title} by {self.author.username}\\n\"\n",
    "                f\"Content: {self.content}\\n\"\n",
    "                f\"Comments:\\n{comments_str}\")\n",
    "\n",
    "class SocialMediaApp:\n",
    "    def __init__(self):\n",
    "        self.users = []  # SocialMediaApp \"has many\" Users\n",
    "        self.posts = []  # SocialMediaApp \"has many\" Posts\n",
    "\n",
    "    def add_user(self, user):\n",
    "        self.users.append(user)\n",
    "\n",
    "    def add_post(self, post):\n",
    "        self.posts.append(post)\n",
    "\n",
    "    def __str__(self):\n",
    "        users_str = \"\\n\".join(str(user) for user in self.users)\n",
    "        posts_str = \"\\n\".join(str(post) for post in self.posts)\n",
    "        return (f\"Users:\\n{users_str}\\n\\n\"\n",
    "                f\"Posts:\\n{posts_str}\")\n",
    "\n",
    "# Creating objects\n",
    "user1 = User(username=\"alice\", email=\"alice@example.com\")\n",
    "user2 = User(username=\"bob\", email=\"bob@example.com\")\n",
    "\n",
    "post1 = Post(title=\"My First Post\", content=\"Hello World!\", author=user1)\n",
    "comment1 = Comment(content=\"Nice post!\", author=user2)\n",
    "post1.add_comment(comment1)\n",
    "\n",
    "app = SocialMediaApp()\n",
    "app.add_user(user1)\n",
    "app.add_user(user2)\n",
    "app.add_post(post1)\n",
    "\n",
    "print(app)\n"
   ]
  },
  {
   "cell_type": "code",
   "execution_count": null,
   "id": "8a98fdf1-aaca-4120-a2e4-a29e3d5c7993",
   "metadata": {},
   "outputs": [],
   "source": []
  },
  {
   "cell_type": "code",
   "execution_count": null,
   "id": "412a6d7c-32aa-4503-8b73-8007b387e40f",
   "metadata": {},
   "outputs": [],
   "source": []
  },
  {
   "cell_type": "code",
   "execution_count": null,
   "id": "436d06a8-1369-478f-9e6f-a211e01dc92b",
   "metadata": {},
   "outputs": [],
   "source": []
  },
  {
   "cell_type": "code",
   "execution_count": null,
   "id": "58c6ff58-303b-430e-b272-7a879367a92f",
   "metadata": {},
   "outputs": [],
   "source": []
  },
  {
   "cell_type": "code",
   "execution_count": null,
   "id": "bd54d8d3-7f20-40e3-8101-88b7f5fe6541",
   "metadata": {},
   "outputs": [],
   "source": []
  },
  {
   "cell_type": "code",
   "execution_count": null,
   "id": "b5a37ef9-688b-41fe-8f72-b47bebf996aa",
   "metadata": {},
   "outputs": [],
   "source": []
  },
  {
   "cell_type": "code",
   "execution_count": null,
   "id": "dca0e343-ae9f-49f7-907a-531f8e083060",
   "metadata": {},
   "outputs": [],
   "source": []
  },
  {
   "cell_type": "code",
   "execution_count": null,
   "id": "f0a514bb-793c-43b8-8626-a7054e6931ee",
   "metadata": {},
   "outputs": [],
   "source": []
  },
  {
   "cell_type": "code",
   "execution_count": null,
   "id": "5fae65cb-b53f-47e0-a9f8-95008213a4db",
   "metadata": {},
   "outputs": [],
   "source": []
  },
  {
   "cell_type": "code",
   "execution_count": null,
   "id": "6cca9b65-6a77-4ffc-a22a-012a1d28490a",
   "metadata": {},
   "outputs": [],
   "source": []
  },
  {
   "cell_type": "code",
   "execution_count": null,
   "id": "b5d2955f-0de9-4b2d-970e-1c8c7bc97d6e",
   "metadata": {},
   "outputs": [],
   "source": []
  },
  {
   "cell_type": "code",
   "execution_count": null,
   "id": "41361dda-660c-4ac8-bf3f-07d41b4b5b6a",
   "metadata": {},
   "outputs": [],
   "source": []
  },
  {
   "cell_type": "code",
   "execution_count": null,
   "id": "93f4e03f-7e2f-40c6-93f8-0a6c4a36887c",
   "metadata": {},
   "outputs": [],
   "source": []
  },
  {
   "cell_type": "code",
   "execution_count": null,
   "id": "bbabc4a8-d952-46c1-91e6-4cf9d7853361",
   "metadata": {},
   "outputs": [],
   "source": []
  },
  {
   "cell_type": "code",
   "execution_count": null,
   "id": "5761b9b8-3fcc-4ea3-b002-c8eeb43b43ce",
   "metadata": {},
   "outputs": [],
   "source": []
  },
  {
   "cell_type": "code",
   "execution_count": null,
   "id": "dc712604-7e69-4a74-88fe-1bb2011626e7",
   "metadata": {},
   "outputs": [],
   "source": []
  },
  {
   "cell_type": "code",
   "execution_count": null,
   "id": "97030bf2-08b3-437a-9046-8487a7bdf885",
   "metadata": {},
   "outputs": [],
   "source": []
  },
  {
   "cell_type": "code",
   "execution_count": null,
   "id": "fb77b3c4-db3e-4d28-8075-37b06680d864",
   "metadata": {},
   "outputs": [],
   "source": []
  },
  {
   "cell_type": "code",
   "execution_count": null,
   "id": "7e75cb87-dfb9-46d3-a585-9759093905dd",
   "metadata": {},
   "outputs": [],
   "source": []
  },
  {
   "cell_type": "code",
   "execution_count": null,
   "id": "695bb092-1e1c-4a16-b4f9-2e1ecacfdb0f",
   "metadata": {},
   "outputs": [],
   "source": []
  },
  {
   "cell_type": "code",
   "execution_count": null,
   "id": "282e26fa-bd72-4380-8f95-0c3a20dda27c",
   "metadata": {},
   "outputs": [],
   "source": []
  }
 ],
 "metadata": {
  "kernelspec": {
   "display_name": "Python 3 (ipykernel)",
   "language": "python",
   "name": "python3"
  },
  "language_info": {
   "codemirror_mode": {
    "name": "ipython",
    "version": 3
   },
   "file_extension": ".py",
   "mimetype": "text/x-python",
   "name": "python",
   "nbconvert_exporter": "python",
   "pygments_lexer": "ipython3",
   "version": "3.11.7"
  }
 },
 "nbformat": 4,
 "nbformat_minor": 5
}
