{
 "cells": [
  {
   "cell_type": "markdown",
   "id": "23d49f59-1576-4628-89b2-55b19f57a02c",
   "metadata": {},
   "source": [
    ". What is inheritance in Python? Explain its significance in object-oriented programming"
   ]
  },
  {
   "cell_type": "markdown",
   "id": "cd550305-d97c-4f8f-a8cf-9eda879e3fc5",
   "metadata": {},
   "source": [
    "Inheritance in Python is a fundamental feature of object-oriented programming (OOP) that allows one class (called the child or subclass) to inherit methods and properties from another class (called the parent or superclass). Here’s a breakdown of its significance:\n",
    "\n",
    "Code Reusability: Inheritance promotes code reuse by allowing a subclass to use methods and attributes defined in its superclass(es). This avoids redundancy and promotes cleaner, more maintainable code.\n",
    "\n",
    "Hierarchy and Organization: Classes can be organized into hierarchical structures where subclasses specialize behavior while inheriting common functionality from their superclasses. This helps in organizing and structuring complex systems.\n",
    "\n",
    "Extensibility: Subclasses can extend the behavior of their superclasses by adding new methods or overriding existing methods. This flexibility allows for customization while maintaining compatibility with the superclass interface.\n",
    "\n",
    "Polymorphism: Inheritance facilitates polymorphism, where objects of different classes can be treated as objects of a common superclass. This allows for more generic and flexible programming patterns.\n",
    "\n",
    "In Python, inheritance is implemented using the syntax:"
   ]
  },
  {
   "cell_type": "code",
   "execution_count": 2,
   "id": "552efc33-d599-4fe3-86e8-b709e522b289",
   "metadata": {},
   "outputs": [],
   "source": [
    "class ParentClass:\n",
    "    pass\n",
    "    # Parent class attributes and methods\n",
    "\n",
    "class ChildClass(ParentClass):\n",
    "    pass\n",
    "    # Child class inherits from ParentClass\n",
    "    # Additional attributes and methods specific to ChildClass\n"
   ]
  },
  {
   "cell_type": "markdown",
   "id": "bb8c76c7-2f8c-41af-8b7d-5bbecf262e31",
   "metadata": {},
   "source": [
    "Here, ChildClass inherits from ParentClass, gaining access to all public attributes and methods of ParentClass. Private attributes and methods (those prefixed with a double underscore __) are not directly inherited unless accessed through public methods.\n",
    "\n",
    "Overall, inheritance in Python enhances code modularity, promotes reusability, and supports the principles of OOP such as encapsulation, polymorphism, and abstraction."
   ]
  },
  {
   "cell_type": "markdown",
   "id": "070283a2-4dd7-4d1c-9117-ddece2d91a32",
   "metadata": {},
   "source": [
    "2. Differentiate between single inheritance and multiple inheritance in Python. Provide examples for each."
   ]
  },
  {
   "cell_type": "markdown",
   "id": "4e8aa733-aa0a-4e9f-86dc-c633e2fdcf61",
   "metadata": {},
   "source": [
    "In Python, single inheritance and multiple inheritance are two types of inheritance mechanisms that allow classes to inherit attributes and methods from other classes.\n",
    "\n",
    "Single Inheritance\n",
    "Single inheritance is when a class (subclass) inherits from only one parent class (superclass)."
   ]
  },
  {
   "cell_type": "code",
   "execution_count": 3,
   "id": "20052666-6d8e-44b6-886f-4ec028e8292b",
   "metadata": {},
   "outputs": [
    {
     "name": "stdout",
     "output_type": "stream",
     "text": [
      "Animal sound\n",
      "Woof!\n"
     ]
    }
   ],
   "source": [
    "class Animal:\n",
    "    def speak(self):\n",
    "        return \"Animal sound\"\n",
    "\n",
    "class Dog(Animal):\n",
    "    def bark(self):\n",
    "        return \"Woof!\"\n",
    "\n",
    "# Creating an instance of Dog\n",
    "dog = Dog()\n",
    "print(dog.speak())  # Output: Animal sound\n",
    "print(dog.bark())   # Output: Woof!\n"
   ]
  },
  {
   "cell_type": "markdown",
   "id": "41047e57-4515-451a-974e-893bd095b718",
   "metadata": {},
   "source": [
    "Multiple Inheritance\n",
    "Multiple inheritance is when a class (subclass) inherits from more than one parent class (superclasses)."
   ]
  },
  {
   "cell_type": "code",
   "execution_count": 4,
   "id": "cefe6c8b-d23b-4d21-9ad9-2321e575bb19",
   "metadata": {},
   "outputs": [
    {
     "name": "stdout",
     "output_type": "stream",
     "text": [
      "Flying\n",
      "Swimming\n",
      "Quack!\n"
     ]
    }
   ],
   "source": [
    "class Flyer:\n",
    "    def fly(self):\n",
    "        return \"Flying\"\n",
    "\n",
    "class Swimmer:\n",
    "    def swim(self):\n",
    "        return \"Swimming\"\n",
    "\n",
    "class Duck(Flyer, Swimmer):\n",
    "    def quack(self):\n",
    "        return \"Quack!\"\n",
    "\n",
    "# Creating an instance of Duck\n",
    "duck = Duck()\n",
    "print(duck.fly())    # Output: Flying\n",
    "print(duck.swim())   # Output: Swimming\n",
    "print(duck.quack())  # Output: Quack!\n"
   ]
  },
  {
   "cell_type": "markdown",
   "id": "95ae8d1c-490c-43b4-abe8-0bedf3a56aea",
   "metadata": {},
   "source": [
    "Key Differences:\n",
    "Number of Parent Classes:\n",
    "\n",
    "Single Inheritance: A class inherits from one parent class.\n",
    "Multiple Inheritance: A class inherits from more than one parent class.\n",
    "Complexity:\n",
    "\n",
    "Single Inheritance: Simpler and less complex hierarchy.\n",
    "Multiple Inheritance: Can lead to more complex hierarchies and potential conflicts, such as the diamond problem.\n",
    "Use Case:\n",
    "\n",
    "Single Inheritance: Suitable when there is a clear, linear relationship between classes.\n",
    "Multiple Inheritance: Useful when a class needs to combine functionalities from multiple sources."
   ]
  },
  {
   "cell_type": "markdown",
   "id": "920f27cd-77ed-4132-8396-256ab7996157",
   "metadata": {},
   "source": [
    "3. Create a Python class called `Vehicle` with attributes `color` and `speed`. Then, create a child class called \n",
    "`Car` that inherits from `Vehicle` and adds a `brand` attribute. Provide an example of creating a `Car` object."
   ]
  },
  {
   "cell_type": "code",
   "execution_count": 12,
   "id": "28c4c44d-c623-4a81-a1c7-0b5b9fba19e4",
   "metadata": {},
   "outputs": [
    {
     "name": "stdout",
     "output_type": "stream",
     "text": [
      "40\n"
     ]
    }
   ],
   "source": [
    "class Vehicle:\n",
    "    def __init__(self,color,speed):\n",
    "        self.color=color\n",
    "        self.speed=speed\n",
    "        \n",
    "class Car(Vehicle):\n",
    "    def __init__(self,color,speed,brand):\n",
    "        super().__init__(color,speed)\n",
    "        self.brand=brand\n",
    "\n",
    "obj=Car('yellow',40,'Hyundai')\n",
    "print(obj.speed)\n",
    "        "
   ]
  },
  {
   "cell_type": "markdown",
   "id": "f1687873-c119-4078-8bce-4a849ef7398c",
   "metadata": {},
   "source": [
    "4. Explain the concept of method overriding in inheritance. Provide a practical example"
   ]
  },
  {
   "cell_type": "markdown",
   "id": "d02d763b-306e-4e62-9f1b-e8d43b2cf93d",
   "metadata": {},
   "source": [
    "Method Overriding in Inheritance\n",
    "Method overriding is a feature in object-oriented programming where a subclass provides a specific implementation of a method that is already defined in its superclass. The overridden method in the subclass has the same name, parameters, and return type as the method in the superclass. This allows the subclass to customize or extend the behavior of the method.\n",
    "\n",
    "Key Points:\n",
    "Same Method Signature: The method in the subclass must have the same name and parameters as the method in the superclass.\n",
    "Polymorphism: Method overriding enables polymorphism, allowing a subclass to be treated as an instance of its superclass while still using the subclass's overridden methods.\n",
    "Super Keyword: The super() function can be used within the overridden method to call the method from the superclass, allowing the subclass to extend rather than completely replace the superclass's behavior.\n",
    "Practical Example\n",
    "Consider a scenario with a Vehicle class and a Car subclass. The Vehicle class has a description method that provides a basic description of the vehicle. The Car subclass overrides this method to provide a more specific description."
   ]
  },
  {
   "cell_type": "code",
   "execution_count": null,
   "id": "be7b22c5-5790-45c4-a899-ab98ca3a43b0",
   "metadata": {},
   "outputs": [],
   "source": [
    "class Vehicle:\n",
    "    def __init__(self, color, speed):\n",
    "        self.color = color\n",
    "        self.speed = speed\n",
    "    \n",
    "    def description(self):\n",
    "        return f\"This vehicle is {self.color} and moves at {self.speed} km/h.\"\n",
    "\n",
    "class Car(Vehicle):\n",
    "    def __init__(self, color, speed, brand):\n",
    "        super().__init__(color, speed)\n",
    "        self.brand = brand\n",
    "    \n",
    "    def description(self):\n",
    "        return f\"This car is a {self.color} {self.brand} and moves at {self.speed} km/h.\"\n",
    "\n",
    "# Creating instances\n",
    "vehicle = Vehicle(\"red\", 50)\n",
    "car = Car(\"blue\", 120, \"Toyota\")\n",
    "\n",
    "# Calling the description method\n",
    "print(vehicle.description())  # Output: This vehicle is red and moves at 50 km/h.\n",
    "print(car.description())      # Output: This car is a blue Toyota and moves at 120 km/h.\n"
   ]
  },
  {
   "cell_type": "markdown",
   "id": "46f915cb-b414-4734-bede-477c2e8aac45",
   "metadata": {},
   "source": [
    "5. How can you access the methods and attributes of a parent class from a child class in Python? Give an \n",
    "example"
   ]
  },
  {
   "cell_type": "markdown",
   "id": "f0ae42a7-7d9b-48bc-b15c-9c2473733dc7",
   "metadata": {},
   "source": [
    "In Python, you can access the methods and attributes of a parent class from a child class using the super() function or by directly using the class name. Here are two common ways to achieve this:\n",
    "\n",
    "Using super(): This is the recommended and more flexible approach, especially when dealing with multiple inheritance.\n",
    "Using the Parent Class Name: This approach can be simpler but is less flexible and does not work well with multiple inheritance.\n",
    "Example Using super()\n",
    "Let's consider a simple example where we have a Parent class with a method and an attribute, and a Child class that inherits from it."
   ]
  },
  {
   "cell_type": "code",
   "execution_count": 14,
   "id": "762e060a-46b6-4636-b2a8-6c7f744c9605",
   "metadata": {},
   "outputs": [
    {
     "name": "stdout",
     "output_type": "stream",
     "text": [
      "Hello, my name is Alice and I am a Parent.\n",
      "Hello, my name is Alice and I am a Parent. I am 10 years old.\n",
      "Alice\n",
      "Parent\n"
     ]
    }
   ],
   "source": [
    "class Parent:\n",
    "    def __init__(self, name):\n",
    "        self.name = name\n",
    "        self.role = \"Parent\"\n",
    "    \n",
    "    def greet(self):\n",
    "        return f\"Hello, my name is {self.name} and I am a {self.role}.\"\n",
    "\n",
    "class Child(Parent):\n",
    "    def __init__(self, name, age):\n",
    "        super().__init__(name)  # Call the Parent class's __init__ method\n",
    "        self.age = age\n",
    "    \n",
    "    def child_greet(self):\n",
    "        parent_greeting = super().greet()  # Call the Parent class's greet method\n",
    "        return f\"{parent_greeting} I am {self.age} years old.\"\n",
    "\n",
    "# Creating an instance of Child\n",
    "child = Child(\"Alice\", 10)\n",
    "\n",
    "# Accessing methods and attributes\n",
    "print(child.greet())         # Output: Hello, my name is Alice and I am a Parent.\n",
    "print(child.child_greet())   # Output: Hello, my name is Alice and I am a Parent. I am 10 years old.\n",
    "print(child.name)            # Output: Alice\n",
    "print(child.role)            # Output: Parent\n"
   ]
  },
  {
   "cell_type": "markdown",
   "id": "719606b7-aca1-4f07-a0d5-ca1e272f8d7e",
   "metadata": {},
   "source": [
    "Example Using the Parent Class Name"
   ]
  },
  {
   "cell_type": "code",
   "execution_count": 15,
   "id": "09f4f29d-5e64-47c5-951c-5e1a85114006",
   "metadata": {},
   "outputs": [
    {
     "name": "stdout",
     "output_type": "stream",
     "text": [
      "Hello, my name is Alice and I am a Parent.\n",
      "Hello, my name is Alice and I am a Parent. I am 10 years old.\n",
      "Alice\n",
      "Parent\n"
     ]
    }
   ],
   "source": [
    "class Parent:\n",
    "    def __init__(self, name):\n",
    "        self.name = name\n",
    "        self.role = \"Parent\"\n",
    "    \n",
    "    def greet(self):\n",
    "        return f\"Hello, my name is {self.name} and I am a {self.role}.\"\n",
    "\n",
    "class Child(Parent):\n",
    "    def __init__(self, name, age):\n",
    "        Parent.__init__(self, name)  # Call the Parent class's __init__ method directly\n",
    "        self.age = age\n",
    "    \n",
    "    def child_greet(self):\n",
    "        parent_greeting = Parent.greet(self)  # Call the Parent class's greet method directly\n",
    "        return f\"{parent_greeting} I am {self.age} years old.\"\n",
    "\n",
    "# Creating an instance of Child\n",
    "child = Child(\"Alice\", 10)\n",
    "\n",
    "# Accessing methods and attributes\n",
    "print(child.greet())         # Output: Hello, my name is Alice and I am a Parent.\n",
    "print(child.child_greet())   # Output: Hello, my name is Alice and I am a Parent. I am 10 years old.\n",
    "print(child.name)            # Output: Alice\n",
    "print(child.role)            # Output: Parent\n"
   ]
  },
  {
   "cell_type": "markdown",
   "id": "71324ad0-d38b-4f96-b485-0eb4c5eac1f7",
   "metadata": {},
   "source": [
    "6. Discuss the use of the `super()` function in Python inheritance. When and why is it used? Provide an \n",
    "example"
   ]
  },
  {
   "cell_type": "markdown",
   "id": "c8e83858-5e58-4a9f-a1cb-fa9d46d30b83",
   "metadata": {},
   "source": [
    "The super() function in Python is used to call methods from a parent class within a child class. It is particularly useful in inheritance scenarios, especially when dealing with multiple inheritance, as it ensures the correct method resolution order (MRO).\n",
    "\n",
    "When and Why super() is Used\n",
    "To Initialize Parent Class Attributes: When a child class needs to initialize attributes or call methods from its parent class.\n",
    "To Avoid Repetition: It avoids code duplication by allowing you to reuse the parent class's methods.\n",
    "Multiple Inheritance: It ensures that the MRO is respected, which means methods are called in the correct order when multiple inheritance is involved.\n",
    "Maintenance and Future-Proofing: It makes the code more maintainable and adaptable to changes. If the parent class implementation changes, you don’t need to manually update the child classes.\n",
    "Example\n",
    "Consider a Vehicle class and a Car subclass. The Vehicle class has an __init__ method that initializes common attributes, and the Car subclass needs to initialize its specific attributes while also using the initialization logic from Vehicle."
   ]
  },
  {
   "cell_type": "code",
   "execution_count": 16,
   "id": "5cf44cbd-b635-4daf-a10a-7bd7ab426508",
   "metadata": {},
   "outputs": [
    {
     "name": "stdout",
     "output_type": "stream",
     "text": [
      "This vehicle is blue and moves at 120 km/h. It is a Toyota car.\n"
     ]
    }
   ],
   "source": [
    "class Vehicle:\n",
    "    def __init__(self, color, speed):\n",
    "        self.color = color\n",
    "        self.speed = speed\n",
    "    \n",
    "    def description(self):\n",
    "        return f\"This vehicle is {self.color} and moves at {self.speed} km/h.\"\n",
    "\n",
    "class Car(Vehicle):\n",
    "    def __init__(self, color, speed, brand):\n",
    "        super().__init__(color, speed)  # Initialize attributes from Vehicle\n",
    "        self.brand = brand\n",
    "    \n",
    "    def description(self):\n",
    "        parent_desc = super().description()  # Call the description method from Vehicle\n",
    "        return f\"{parent_desc} It is a {self.brand} car.\"\n",
    "\n",
    "# Creating an instance of Car\n",
    "car = Car(\"blue\", 120, \"Toyota\")\n",
    "\n",
    "# Accessing methods and attributes\n",
    "print(car.description())  # Output: This vehicle is blue and moves at 120 km/h. It is a Toyota car.\n"
   ]
  },
  {
   "cell_type": "markdown",
   "id": "efdfbc31-b90a-4b16-b095-1eb3214f1904",
   "metadata": {},
   "source": [
    "Multiple Inheritance\n",
    "The super() function is particularly important in multiple inheritance scenarios. Consider a FlyingCar that inherits from both Car and another class FlyingVehicle."
   ]
  },
  {
   "cell_type": "code",
   "execution_count": 17,
   "id": "c40dfeb1-6a68-4dc1-93c2-bcc5c551d12d",
   "metadata": {},
   "outputs": [
    {
     "name": "stdout",
     "output_type": "stream",
     "text": [
      "This vehicle is red and moves at 150 km/h. It is a Tesla car. It can also fly.\n",
      "Flying at an altitude of 10000 meters.\n"
     ]
    }
   ],
   "source": [
    "class FlyingVehicle:\n",
    "    def __init__(self, max_altitude):\n",
    "        self.max_altitude = max_altitude\n",
    "    \n",
    "    def fly(self):\n",
    "        return f\"Flying at an altitude of {self.max_altitude} meters.\"\n",
    "\n",
    "class FlyingCar(Car, FlyingVehicle):\n",
    "    def __init__(self, color, speed, brand, max_altitude):\n",
    "        Car.__init__(self, color, speed, brand)\n",
    "        FlyingVehicle.__init__(self, max_altitude)\n",
    "\n",
    "    def description(self):\n",
    "        return f\"{Car.description(self)} It can also fly.\"\n",
    "\n",
    "# Creating an instance of FlyingCar\n",
    "flying_car = FlyingCar(\"red\", 150, \"Tesla\", 10000)\n",
    "\n",
    "# Accessing methods and attributes\n",
    "print(flying_car.description())  # Output: This vehicle is red and moves at 150 km/h. It is a Tesla car. It can also fly.\n",
    "print(flying_car.fly())          # Output: Flying at an altitude of 10000 meters.\n"
   ]
  },
  {
   "cell_type": "markdown",
   "id": "5ed3e7c3-562f-4775-9f76-7a267ea0e4a5",
   "metadata": {},
   "source": [
    "7. Create a Python class called `Animal` with a method `speak()`. Then, create child classes `Dog` and `Cat`"
   ]
  },
  {
   "cell_type": "code",
   "execution_count": 2,
   "id": "4f71c029-8023-4a04-9d03-ca1dd22c7d44",
   "metadata": {},
   "outputs": [
    {
     "data": {
      "text/plain": [
       "'meow meow'"
      ]
     },
     "execution_count": 2,
     "metadata": {},
     "output_type": "execute_result"
    }
   ],
   "source": [
    "class Animal:\n",
    "    def speak(self):\n",
    "        pass\n",
    "    \n",
    "class dog(Animal):\n",
    "    def speak(self):\n",
    "        return f'bow bow'\n",
    "    \n",
    "class cat(Animal):\n",
    "    def speak(self):\n",
    "        return f'meow meow'\n",
    "    \n",
    "d=dog()\n",
    "d.speak()\n",
    "c=cat()\n",
    "c.speak()\n",
    "    \n",
    "    \n",
    "    \n",
    "    "
   ]
  },
  {
   "cell_type": "code",
   "execution_count": null,
   "id": "600cefa2-03b8-4986-b300-a8e941204f71",
   "metadata": {},
   "outputs": [],
   "source": []
  },
  {
   "cell_type": "markdown",
   "id": "67c075c2-d8e8-408b-abce-58ea14bf7968",
   "metadata": {},
   "source": [
    "The isinstance() function in Python is used to check if an object is an instance or subclass instance of a particular class or a tuple of classes. It plays a crucial role in inheritance and object-oriented programming by allowing you to verify the type of an object, ensuring that it behaves as expected within a given context."
   ]
  },
  {
   "cell_type": "markdown",
   "id": "b7c3d26a-62bd-48e1-a7b6-04543c9ede51",
   "metadata": {},
   "source": [
    "isinstance(object, classinfo)\n"
   ]
  },
  {
   "cell_type": "markdown",
   "id": "d1e9c3e5-b31d-49f3-8619-055a77bdb993",
   "metadata": {},
   "source": [
    "object: The object to be checked.\n",
    "classinfo: A class, type, or a tuple of classes and types.\n",
    "How It Relates to Inheritance\n",
    "When dealing with inheritance, isinstance() can be used to determine whether an object is an instance of a specific class or any of its subclasses. This is particularly useful for:\n",
    "\n",
    "Type Checking: Ensuring that objects are of the expected type or any type that derives from it.\n",
    "Polymorphism: Handling objects differently based on their type, especially in scenarios where a function needs to operate on a hierarchy of classes.\n",
    "Conditional Logic: Implementing logic that depends on the type of objects at runtime.\n",
    "Example\n",
    "Consider an example with a base class Animal and derived classes Dog and Cat"
   ]
  },
  {
   "cell_type": "code",
   "execution_count": 4,
   "id": "a6b4fa4e-3a17-4656-bfe3-8487ada7a71b",
   "metadata": {},
   "outputs": [
    {
     "name": "stdout",
     "output_type": "stream",
     "text": [
      "True\n",
      "True\n",
      "True\n",
      "True\n",
      "False\n",
      "Woof!\n",
      "Meow!\n"
     ]
    }
   ],
   "source": [
    "class Animal:\n",
    "    def speak(self):\n",
    "        raise NotImplementedError(\"Subclass must implement abstract method\")\n",
    "\n",
    "class Dog(Animal):\n",
    "    def speak(self):\n",
    "        return \"Woof!\"\n",
    "\n",
    "class Cat(Animal):\n",
    "    def speak(self):\n",
    "        return \"Meow!\"\n",
    "\n",
    "# Creating instances\n",
    "dog = Dog()\n",
    "cat = Cat()\n",
    "\n",
    "# Using isinstance to check object types\n",
    "print(isinstance(dog, Dog))      # Output: True\n",
    "print(isinstance(cat, Cat))      # Output: True\n",
    "print(isinstance(dog, Animal))   # Output: True\n",
    "print(isinstance(cat, Animal))   # Output: True\n",
    "print(isinstance(dog, Cat))      # Output: False\n",
    "\n",
    "# Using isinstance in a function\n",
    "def animal_sound(animal):\n",
    "    if isinstance(animal, Animal):\n",
    "        print(animal.speak())\n",
    "    else:\n",
    "        print(\"This is not an Animal.\")\n",
    "\n",
    "animal_sound(dog)  # Output: Woof!\n",
    "animal_sound(cat)  # Output: Meow!\n"
   ]
  },
  {
   "cell_type": "markdown",
   "id": "eb6feaa4-6efc-491e-9665-bf62a8890fff",
   "metadata": {},
   "source": [
    "Example with Multiple Types"
   ]
  },
  {
   "cell_type": "code",
   "execution_count": 5,
   "id": "67380f09-a038-4abd-9eab-bed89cf156a1",
   "metadata": {},
   "outputs": [
    {
     "name": "stdout",
     "output_type": "stream",
     "text": [
      "This is a Dog or Cat.\n",
      "This is a Dog or Cat.\n"
     ]
    }
   ],
   "source": [
    "def check_instance(obj):\n",
    "    if isinstance(obj, (Dog, Cat)):\n",
    "        print(\"This is a Dog or Cat.\")\n",
    "    else:\n",
    "        print(\"This is neither a Dog nor a Cat.\")\n",
    "\n",
    "check_instance(dog)  # Output: This is a Dog or Cat.\n",
    "check_instance(cat)  # Output: This is a Dog or Cat.\n"
   ]
  },
  {
   "cell_type": "markdown",
   "id": "b55b3ee4-1918-43fb-93ab-fd76af1d3db3",
   "metadata": {},
   "source": [
    "In this example, isinstance checks if obj is an instance of either Dog or Cat, demonstrating its ability to handle multiple types in a single check."
   ]
  },
  {
   "cell_type": "markdown",
   "id": "7bb81c6c-7254-458b-8f52-c48e99e4e7d0",
   "metadata": {},
   "source": [
    "9. What is the purpose of the `issubclass()` function in Python? Provide an example."
   ]
  },
  {
   "cell_type": "markdown",
   "id": "6a7199e3-377f-46bc-bdae-490b4da74b12",
   "metadata": {},
   "source": [
    "The issubclass() function in Python is used to check if a class is a subclass of another class or a tuple of classes. It helps determine the relationship between classes, specifically in the context of inheritance."
   ]
  },
  {
   "cell_type": "markdown",
   "id": "46635dc9-e286-471b-aa27-fe8698a5f372",
   "metadata": {},
   "source": [
    "issubclass(class, classinfo)\n"
   ]
  },
  {
   "cell_type": "markdown",
   "id": "8524754a-9991-49e3-b64b-98e8cee3a1a1",
   "metadata": {},
   "source": [
    "class: The class to be checked.\n",
    "\n",
    "classinfo: A class, type, or a tuple of classes and types.\n",
    "\n",
    "Purpose\n",
    "\n",
    "Inheritance Check: Verify if a class is derived from another class.\n",
    "\n",
    "Type Safety: Ensure that a class hierarchy is respected, which can be useful in type-checking scenarios.\n",
    "\n",
    "Conditional Logic: Implement logic that depends on the class hierarchy, enabling polymorphism and dynamic behavior based on class types.\n",
    "\n",
    "Example\n",
    "Consider an example with a base class Animal and derived classes Dog and Cat."
   ]
  },
  {
   "cell_type": "code",
   "execution_count": 6,
   "id": "6e4c6427-c1b8-41d4-a127-805a9ada1247",
   "metadata": {},
   "outputs": [
    {
     "name": "stdout",
     "output_type": "stream",
     "text": [
      "True\n",
      "True\n",
      "True\n",
      "True\n",
      "False\n",
      "True\n",
      "True\n",
      "False\n"
     ]
    }
   ],
   "source": [
    "class Animal:\n",
    "    pass\n",
    "\n",
    "class Dog(Animal):\n",
    "    pass\n",
    "\n",
    "class Cat(Animal):\n",
    "    pass\n",
    "\n",
    "class Bulldog(Dog):\n",
    "    pass\n",
    "\n",
    "# Using issubclass to check class relationships\n",
    "print(issubclass(Dog, Animal))       # Output: True\n",
    "print(issubclass(Cat, Animal))       # Output: True\n",
    "print(issubclass(Bulldog, Dog))      # Output: True\n",
    "print(issubclass(Bulldog, Animal))   # Output: True\n",
    "print(issubclass(Dog, Cat))          # Output: False\n",
    "\n",
    "# Using issubclass with a tuple of classes\n",
    "print(issubclass(Bulldog, (Dog, Cat)))  # Output: True\n",
    "print(issubclass(Cat, (Dog, Animal)))   # Output: True\n",
    "print(issubclass(Cat, (Dog, Bulldog)))  # Output: False\n"
   ]
  },
  {
   "cell_type": "markdown",
   "id": "7fa147fa-21fb-4b51-9772-2b169c807dfb",
   "metadata": {},
   "source": [
    "Practical Use Case\n",
    "issubclass can be particularly useful in frameworks or libraries where dynamic type-checking is needed. For example, you might want to ensure that certain classes conform to a required interface or base class before performing specific operations."
   ]
  },
  {
   "cell_type": "code",
   "execution_count": 7,
   "id": "5d21d38d-0c34-4a00-b2b7-f10afaebe669",
   "metadata": {},
   "outputs": [
    {
     "name": "stdout",
     "output_type": "stream",
     "text": [
      "Processing Dog as an Animal.\n",
      "Processing Bulldog as an Animal.\n",
      "str is not a subclass of Animal.\n"
     ]
    }
   ],
   "source": [
    "def process_animal(animal_class):\n",
    "    if issubclass(animal_class, Animal):\n",
    "        print(f\"Processing {animal_class.__name__} as an Animal.\")\n",
    "    else:\n",
    "        print(f\"{animal_class.__name__} is not a subclass of Animal.\")\n",
    "\n",
    "# Test with various classes\n",
    "process_animal(Dog)       # Output: Processing Dog as an Animal.\n",
    "process_animal(Bulldog)   # Output: Processing Bulldog as an Animal.\n",
    "process_animal(str)       # Output: str is not a subclass of Animal.\n"
   ]
  },
  {
   "cell_type": "markdown",
   "id": "605215cd-f556-45f1-bf88-2ea5c789b335",
   "metadata": {},
   "source": [
    "10. Discuss the concept of constructor inheritance in Python. How are constructors inherited in child classes"
   ]
  },
  {
   "cell_type": "markdown",
   "id": "492febf9-1f25-4f58-877e-e8eacb00a7ef",
   "metadata": {},
   "source": [
    "Constructor Inheritance in Python\n",
    "In Python, constructors are special methods used to initialize newly created objects. The constructor method is defined using the __init__ method. When dealing with inheritance, the child class inherits methods and attributes from the parent class, but constructors require explicit handling to ensure that the base class is properly initialized.\n",
    "\n",
    "How Constructors are Inherited\n",
    "Implicit Inheritance:\n",
    "\n",
    "If a child class does not define its own constructor (__init__ method), it inherits the constructor from the parent class.\n",
    "Explicit Inheritance:\n",
    "\n",
    "If a child class defines its own constructor, it can call the parent class's constructor explicitly using the super() function to ensure that the parent class is properly initialized.\n",
    "Implicit Inheritance Example\n",
    "When the child class does not define its own constructor, it inherits the constructor from the parent class:"
   ]
  },
  {
   "cell_type": "code",
   "execution_count": 8,
   "id": "4f5ac532-c4f4-4b7e-a0a2-a90fb75c06dc",
   "metadata": {},
   "outputs": [
    {
     "name": "stdout",
     "output_type": "stream",
     "text": [
      "Alice\n"
     ]
    }
   ],
   "source": [
    "class Parent:\n",
    "    def __init__(self, name):\n",
    "        self.name = name\n",
    "\n",
    "class Child(Parent):\n",
    "    pass\n",
    "\n",
    "# Creating an instance of Child\n",
    "child = Child(\"Alice\")\n",
    "print(child.name)  # Output: Alice\n"
   ]
  },
  {
   "cell_type": "markdown",
   "id": "df423e48-f9db-4e74-a5b5-4748a1e60944",
   "metadata": {},
   "source": [
    "Explicit Inheritance Example\n",
    "When the child class defines its own constructor, it should explicitly call the parent class's constructor to ensure proper initialization:"
   ]
  },
  {
   "cell_type": "code",
   "execution_count": 9,
   "id": "cfd87336-58fc-48dd-a9c2-e332d8db6c39",
   "metadata": {},
   "outputs": [
    {
     "name": "stdout",
     "output_type": "stream",
     "text": [
      "Alice\n",
      "10\n"
     ]
    }
   ],
   "source": [
    "class Parent:\n",
    "    def __init__(self, name):\n",
    "        self.name = name\n",
    "\n",
    "class Child(Parent):\n",
    "    def __init__(self, name, age):\n",
    "        super().__init__(name)  # Call the constructor of the Parent class\n",
    "        self.age = age\n",
    "\n",
    "# Creating an instance of Child\n",
    "child = Child(\"Alice\", 10)\n",
    "print(child.name)  # Output: Alice\n",
    "print(child.age)   # Output: 10\n"
   ]
  },
  {
   "cell_type": "markdown",
   "id": "868973ba-d255-4ab2-aa56-5bd2da421795",
   "metadata": {},
   "source": [
    "Why Use super()?\n",
    "Proper Initialization: Ensures that the parent class is properly initialized, avoiding potential issues related to uninitialized attributes.\n",
    "Code Reusability: Reuses the initialization logic from the parent class, reducing code duplication.\n",
    "Support for Multiple Inheritance: When using multiple inheritance, super() ensures that all parent classes are properly initialized according to the method resolution order (MRO).\n",
    "\n",
    "Multiple Inheritance Example\n",
    "When dealing with multiple inheritance, using super() is crucial to ensure that all parent classes are correctly initialized:"
   ]
  },
  {
   "cell_type": "code",
   "execution_count": 10,
   "id": "8b3d7c88-fd84-4b53-8a28-149be8851d83",
   "metadata": {},
   "outputs": [
    {
     "name": "stdout",
     "output_type": "stream",
     "text": [
      "A's constructor\n",
      "C's constructor\n",
      "B's constructor\n",
      "D's constructor\n"
     ]
    }
   ],
   "source": [
    "class A:\n",
    "    def __init__(self):\n",
    "        print(\"A's constructor\")\n",
    "\n",
    "class B(A):\n",
    "    def __init__(self):\n",
    "        super().__init__()  # Call A's constructor\n",
    "        print(\"B's constructor\")\n",
    "\n",
    "class C(A):\n",
    "    def __init__(self):\n",
    "        super().__init__()  # Call A's constructor\n",
    "        print(\"C's constructor\")\n",
    "\n",
    "class D(B, C):\n",
    "    def __init__(self):\n",
    "        super().__init__()  # Call the constructor of B and C\n",
    "        print(\"D's constructor\")\n",
    "\n",
    "# Creating an instance of D\n",
    "d = D()\n"
   ]
  },
  {
   "cell_type": "markdown",
   "id": "ecc8e981-c884-4f22-9b70-f94b1c41046f",
   "metadata": {},
   "source": [
    "11. Create a Python class called `Shape` with a method `area()` that calculates the area of a shape. Then, create child classes `Circle` and `Rectangle` that inherit from `Shape` and implement the `area()` method \n",
    "accordingly. Provide an example"
   ]
  },
  {
   "cell_type": "code",
   "execution_count": 6,
   "id": "c618a59c-7bd3-40b4-8d10-183610b34194",
   "metadata": {},
   "outputs": [
    {
     "name": "stdout",
     "output_type": "stream",
     "text": [
      "Area of the circle: 314.1592653589793\n",
      "Area of the rectangle: 50\n"
     ]
    }
   ],
   "source": [
    "import math\n",
    "\n",
    "class Shape:\n",
    "    def area(self):\n",
    "        pass\n",
    "\n",
    "class Circle(Shape):  # Use PascalCase for class names\n",
    "    def __init__(self, radius):\n",
    "        self.radius = radius\n",
    "    \n",
    "    def area(self):\n",
    "        return math.pi * self.radius ** 2  # Use self.radius to access the instance variable\n",
    "\n",
    "class Rectangle(Shape):  # Use PascalCase for class names\n",
    "    def __init__(self, length, breadth):\n",
    "        self.length = length\n",
    "        self.breadth = breadth\n",
    "    \n",
    "    def area(self):\n",
    "        return self.length * self.breadth  # Use self.length and self.breadth to access the instance variables\n",
    "\n",
    "# Create instances of Circle and Rectangle\n",
    "c = Circle(10)\n",
    "print(f\"Area of the circle: {c.area()}\")  # Output: Area of the circle: 314.1592653589793\n",
    "\n",
    "r = Rectangle(10, 5)\n",
    "print(f\"Area of the rectangle: {r.area()}\")  # Output: Area of the rectangle: 50\n",
    "\n",
    "    \n",
    "\n",
    "   \n",
    "    \n",
    "    \n",
    "    \n",
    "        \n",
    "    "
   ]
  },
  {
   "cell_type": "markdown",
   "id": "cb9fd592-00d9-408c-a98f-2e2184447d42",
   "metadata": {},
   "source": [
    "12. Explain the use of abstract base classes (ABCs) in Python and how they relate to inheritance. Provide an \n",
    "example using the `abc` module"
   ]
  },
  {
   "cell_type": "markdown",
   "id": "e302a65f-8ab0-4f98-967e-ce404a0ea2aa",
   "metadata": {},
   "source": [
    "Abstract Base Classes (ABCs) in Python provide a way to define common interfaces for a set of subclasses. ABCs allow you to create a blueprint for other classes by defining abstract methods that must be implemented by any concrete (non-abstract) subclass. The abc module in Python provides the infrastructure for defining ABCs.\n",
    "\n",
    "Purpose of ABCs\n",
    "Enforce Method Implementation: Ensure that derived classes implement specific methods.\n",
    "Type Checking: Provide a way to check if a class implements a particular interface.\n",
    "Code Reusability and Consistency: Promote code reusability and consistency by defining common methods in a base class.\n",
    "How ABCs Relate to Inheritance\n",
    "ABCs are used to define a common interface for a set of classes. When a class inherits from an ABC, it must implement all abstract methods defined in the ABC. This ensures that all subclasses provide the necessary functionality defined by the abstract base class.\n",
    "\n",
    "Example Using the abc Module\n",
    "Let's create an example with a Shape abstract base class that defines an abstract method area(). We'll then create Circle and Rectangle subclasses that inherit from Shape and implement the area() method."
   ]
  },
  {
   "cell_type": "code",
   "execution_count": 7,
   "id": "69718903-c0d3-4542-85a8-249de26dfa4f",
   "metadata": {},
   "outputs": [
    {
     "name": "stdout",
     "output_type": "stream",
     "text": [
      "Area of the circle: 314.1592653589793\n",
      "Area of the rectangle: 50\n"
     ]
    }
   ],
   "source": [
    "from abc import ABC, abstractmethod\n",
    "import math\n",
    "\n",
    "class Shape(ABC):\n",
    "    @abstractmethod\n",
    "    def area(self):\n",
    "        pass\n",
    "\n",
    "class Circle(Shape):\n",
    "    def __init__(self, radius):\n",
    "        self.radius = radius\n",
    "    \n",
    "    def area(self):\n",
    "        return math.pi * self.radius ** 2\n",
    "\n",
    "class Rectangle(Shape):\n",
    "    def __init__(self, length, breadth):\n",
    "        self.length = length\n",
    "        self.breadth = breadth\n",
    "    \n",
    "    def area(self):\n",
    "        return self.length * self.breadth\n",
    "\n",
    "# Create instances of Circle and Rectangle\n",
    "c = Circle(10)\n",
    "print(f\"Area of the circle: {c.area()}\")  # Output: Area of the circle: 314.1592653589793\n",
    "\n",
    "r = Rectangle(10, 5)\n",
    "print(f\"Area of the rectangle: {r.area()}\")  # Output: Area of the rectangle: 50\n"
   ]
  },
  {
   "cell_type": "markdown",
   "id": "b6471140-dd2d-4588-99b5-40b8fa80b13a",
   "metadata": {},
   "source": [
    "13. How can you prevent a child class from modifying certain attributes or methods inherited from a parent \n",
    "class in Python?"
   ]
  },
  {
   "cell_type": "markdown",
   "id": "fbb8916f-20cd-4144-a654-de85bad9373d",
   "metadata": {},
   "source": [
    "In Python, there are several ways to prevent a child class from modifying certain attributes or methods inherited from a parent class. While Python does not enforce strict access control like some other programming languages (e.g., Java with private, protected, and public keywords), it provides mechanisms to signal the intended usage of attributes and methods.\n",
    "\n",
    "1. Using Naming Conventions\n",
    "Single Underscore (_)\n",
    "A single leading underscore in the name of an attribute or method indicates that it is intended to be protected, meaning it should not be accessed or modified directly outside the class or its subclasses. This is a convention rather than a strict enforcement."
   ]
  },
  {
   "cell_type": "code",
   "execution_count": 8,
   "id": "b8a92333-9310-4286-b6ee-da98ae3d3d89",
   "metadata": {},
   "outputs": [
    {
     "name": "stdout",
     "output_type": "stream",
     "text": [
      "Protected\n",
      "Modified\n"
     ]
    }
   ],
   "source": [
    "class Parent:\n",
    "    def __init__(self):\n",
    "        self._protected_attribute = \"Protected\"\n",
    "\n",
    "    def _protected_method(self):\n",
    "        return \"This is a protected method\"\n",
    "\n",
    "class Child(Parent):\n",
    "    def modify_protected(self):\n",
    "        # It is possible to modify it, but it is discouraged\n",
    "        self._protected_attribute = \"Modified\"\n",
    "\n",
    "child = Child()\n",
    "print(child._protected_attribute)  # Output: Protected\n",
    "child.modify_protected()\n",
    "print(child._protected_attribute)  # Output: Modified\n"
   ]
  },
  {
   "cell_type": "markdown",
   "id": "b2129e55-34ed-4ebf-8114-0da4c2c610cd",
   "metadata": {},
   "source": [
    "Double Underscore (__)\n",
    "A double leading underscore triggers name mangling, where the interpreter changes the name of the attribute or method to include the class name. This makes it harder (but not impossible) to modify from outside the class.\n"
   ]
  },
  {
   "cell_type": "code",
   "execution_count": 9,
   "id": "fed9af93-bd0b-4713-8ff5-cd23ee89ebe0",
   "metadata": {},
   "outputs": [
    {
     "name": "stdout",
     "output_type": "stream",
     "text": [
      "Private\n",
      "Private\n"
     ]
    }
   ],
   "source": [
    "class Parent:\n",
    "    def __init__(self):\n",
    "        self.__private_attribute = \"Private\"\n",
    "\n",
    "    def __private_method(self):\n",
    "        return \"This is a private method\"\n",
    "\n",
    "    def get_private_attribute(self):\n",
    "        return self.__private_attribute\n",
    "\n",
    "class Child(Parent):\n",
    "    def try_modify_private(self):\n",
    "        # This will not work as intended\n",
    "        self.__private_attribute = \"Modified\"\n",
    "\n",
    "child = Child()\n",
    "print(child.get_private_attribute())  # Output: Private\n",
    "child.try_modify_private()\n",
    "print(child.get_private_attribute())  # Output: Private\n"
   ]
  },
  {
   "cell_type": "markdown",
   "id": "8eadbbcc-7a87-4c4a-9ac5-01d7b7441a8f",
   "metadata": {},
   "source": [
    "2. Using Properties\n",
    "You can use properties to create read-only attributes. This prevents child classes from directly modifying the attribute."
   ]
  },
  {
   "cell_type": "code",
   "execution_count": 10,
   "id": "855ff237-a985-45e7-821e-180bfd9a2d92",
   "metadata": {},
   "outputs": [
    {
     "name": "stdout",
     "output_type": "stream",
     "text": [
      "Immutable\n",
      "can't set attribute 'immutable_attribute'\n"
     ]
    }
   ],
   "source": [
    "class Parent:\n",
    "    def __init__(self):\n",
    "        self._immutable_attribute = \"Immutable\"\n",
    "\n",
    "    @property\n",
    "    def immutable_attribute(self):\n",
    "        return self._immutable_attribute\n",
    "\n",
    "class Child(Parent):\n",
    "    def modify_immutable(self):\n",
    "        # This will raise an AttributeError\n",
    "        self.immutable_attribute = \"Modified\"\n",
    "\n",
    "child = Child()\n",
    "print(child.immutable_attribute)  # Output: Immutable\n",
    "try:\n",
    "    child.modify_immutable()\n",
    "except AttributeError as e:\n",
    "    print(e)  # Output: can't set attribute\n"
   ]
  },
  {
   "cell_type": "markdown",
   "id": "fd8f38bd-6d4c-4622-99f4-f8944319e641",
   "metadata": {},
   "source": [
    "3. Final Methods and Attributes\n",
    "Python does not have a built-in way to mark methods or attributes as final (i.e., unmodifiable or unoverridable), but you can achieve a similar effect using custom decorators and metaclasses.\n",
    "\n",
    "Final Method Decorator"
   ]
  },
  {
   "cell_type": "code",
   "execution_count": 11,
   "id": "e7043a49-9b3f-4b55-bdb6-1990472f586e",
   "metadata": {},
   "outputs": [],
   "source": [
    "def final(func):\n",
    "    func.__is_final__ = True\n",
    "    return func\n",
    "\n",
    "class Parent:\n",
    "    @final\n",
    "    def final_method(self):\n",
    "        return \"This method is final and cannot be overridden\"\n",
    "\n",
    "class Child(Parent):\n",
    "    def final_method(self):\n",
    "        return \"Trying to override\"\n",
    "\n",
    "# This will raise an AttributeError\n",
    "try:\n",
    "    c = Child()\n",
    "except AttributeError as e:\n",
    "    print(e)\n"
   ]
  },
  {
   "cell_type": "markdown",
   "id": "7b378bf6-2eb0-4b12-a47f-4f2f0fe6c285",
   "metadata": {},
   "source": [
    "Final Attribute Using Metaclass"
   ]
  },
  {
   "cell_type": "code",
   "execution_count": 12,
   "id": "5c23ee6a-f4ed-4c8c-98eb-06f7eb6d58ec",
   "metadata": {},
   "outputs": [],
   "source": [
    "class FinalMeta(type):\n",
    "    def __new__(cls, name, bases, dct):\n",
    "        for attr_name, attr_value in dct.items():\n",
    "            if getattr(attr_value, '__is_final__', False):\n",
    "                for base in bases:\n",
    "                    if hasattr(base, attr_name):\n",
    "                        raise TypeError(f\"Cannot override final attribute: {attr_name}\")\n",
    "        return super().__new__(cls, name, bases, dct)\n",
    "\n",
    "class Parent(metaclass=FinalMeta):\n",
    "    def __init__(self):\n",
    "        self._final_attribute = \"Final\"\n",
    "\n",
    "    @property\n",
    "    def final_attribute(self):\n",
    "        return self._final_attribute\n",
    "\n",
    "class Child(Parent):\n",
    "    def __init__(self):\n",
    "        super().__init__()\n",
    "        self._final_attribute = \"Modified\"  # This will raise an exception\n",
    "\n",
    "# This will raise a TypeError\n",
    "try:\n",
    "    c = Child()\n",
    "except TypeError as e:\n",
    "    print(e)\n"
   ]
  },
  {
   "cell_type": "markdown",
   "id": "f9bf7c92-99f3-4bcf-a6c6-5cb9f7a55c25",
   "metadata": {},
   "source": [
    "14. Create a Python class called `Employee` with attributes `name` and `salary`. Then, create a child class \n",
    "`Manager` that inherits from `Employee` and adds an attribute `department`. Provide an example"
   ]
  },
  {
   "cell_type": "code",
   "execution_count": 21,
   "id": "88109877-d99b-4057-a33c-9df5eec4ed30",
   "metadata": {},
   "outputs": [
    {
     "name": "stdout",
     "output_type": "stream",
     "text": [
      "chana\n",
      "10000\n",
      "it\n"
     ]
    }
   ],
   "source": [
    "class employee:\n",
    "    def __init__(self,name,salary):\n",
    "        self.name=name\n",
    "        self.salary=salary\n",
    "        \n",
    "class manager(employee):\n",
    "    def __init__(self,name,salary,department):\n",
    "        super().__init__(name,salary)\n",
    "        self.department=department\n",
    "        \n",
    "m=manager('chana',10000,'it')\n",
    "print(m.name)\n",
    "print(m.salary)\n",
    "print(m.department)\n",
    "        \n",
    "        "
   ]
  },
  {
   "cell_type": "markdown",
   "id": "5dcbb661-23b8-44ac-a0c9-4ae3dc9b575a",
   "metadata": {},
   "source": []
  },
  {
   "cell_type": "markdown",
   "id": "fc44e821-931b-4f68-ac9f-f8695cccce1e",
   "metadata": {},
   "source": [
    "Method Overloading vs. Method Overriding in Python\n",
    "\n",
    "Method Overloading\n",
    "Method overloading refers to the ability to define multiple methods with the same name but different signatures (i.e., different parameter lists) within the same class. In some languages like Java or C++, method overloading is directly supported, but Python does not support method overloading in the traditional sense. Instead, you can achieve similar behavior using default arguments or variable-length argument lists.\n",
    "\n",
    "Example of Method Overloading Using Default Arguments:"
   ]
  },
  {
   "cell_type": "code",
   "execution_count": 24,
   "id": "aad52799-773e-4bd2-8531-1c468525842a",
   "metadata": {},
   "outputs": [
    {
     "name": "stdout",
     "output_type": "stream",
     "text": [
      "3\n",
      "6\n"
     ]
    }
   ],
   "source": [
    "class MathOperations:\n",
    "    def add(self, a, b, c=0):\n",
    "        return a + b + c\n",
    "\n",
    "math_op = MathOperations()\n",
    "print(math_op.add(1, 2))      # Output: 3\n",
    "print(math_op.add(1, 2, 3))   # Output: 6\n"
   ]
  },
  {
   "cell_type": "markdown",
   "id": "28d45a5c-2e02-4677-834f-09812bcb50c9",
   "metadata": {},
   "source": [
    "Example of Method Overloading Using Variable-Length Arguments:"
   ]
  },
  {
   "cell_type": "code",
   "execution_count": 25,
   "id": "b0a47d16-8424-43ff-9f97-d79464f9621f",
   "metadata": {},
   "outputs": [
    {
     "name": "stdout",
     "output_type": "stream",
     "text": [
      "3\n",
      "6\n",
      "10\n"
     ]
    }
   ],
   "source": [
    "class MathOperations:\n",
    "    def add(self, *args):\n",
    "        return sum(args)\n",
    "\n",
    "math_op = MathOperations()\n",
    "print(math_op.add(1, 2))      # Output: 3\n",
    "print(math_op.add(1, 2, 3))   # Output: 6\n",
    "print(math_op.add(1, 2, 3, 4)) # Output: 10\n"
   ]
  },
  {
   "cell_type": "markdown",
   "id": "79b6ea41-39c6-42c0-9337-4d0bb231ddfa",
   "metadata": {},
   "source": [
    "In these examples, the add method can handle different numbers of arguments by using default values or *args to accept a variable number of arguments.\n",
    "\n",
    "Method Overriding\n",
    "Method overriding occurs when a subclass provides a specific implementation for a method that is already defined in its superclass. The overridden method in the subclass should have the same name and signature as the method in the superclass. Method overriding is a core feature of inheritance in object-oriented programming and allows a subclass to customize or extend the behavior of a method inherited from the superclass.\n",
    "\n",
    "Example of Method Overriding:"
   ]
  },
  {
   "cell_type": "code",
   "execution_count": 26,
   "id": "1c37c0cb-17b0-44e3-a3ee-b1bed558c19c",
   "metadata": {},
   "outputs": [
    {
     "name": "stdout",
     "output_type": "stream",
     "text": [
      "Bark\n",
      "Meow\n"
     ]
    }
   ],
   "source": [
    "class Animal:\n",
    "    def sound(self):\n",
    "        return \"Some generic sound\"\n",
    "\n",
    "class Dog(Animal):\n",
    "    def sound(self):\n",
    "        return \"Bark\"\n",
    "\n",
    "class Cat(Animal):\n",
    "    def sound(self):\n",
    "        return \"Meow\"\n",
    "\n",
    "dog = Dog()\n",
    "cat = Cat()\n",
    "print(dog.sound())  # Output: Bark\n",
    "print(cat.sound())  # Output: Meow\n"
   ]
  },
  {
   "cell_type": "markdown",
   "id": "680b1cf4-1c4d-40a9-813f-0e25fae0007a",
   "metadata": {},
   "source": [
    "Practical Example Illustrating Both Concepts"
   ]
  },
  {
   "cell_type": "code",
   "execution_count": 27,
   "id": "d7e3eecf-fff5-4322-ba00-0e12aca0194c",
   "metadata": {},
   "outputs": [
    {
     "name": "stdout",
     "output_type": "stream",
     "text": [
      "6\n",
      "24\n",
      "Multiplying 2, 3, and 1\n",
      "6\n",
      "Multiplying 2, 3, and 4\n",
      "24\n"
     ]
    }
   ],
   "source": [
    "class Calculator:\n",
    "    def multiply(self, a, b, c=1):\n",
    "        return a * b * c  # Method overloading using default argument\n",
    "\n",
    "class AdvancedCalculator(Calculator):\n",
    "    def multiply(self, a, b, c=1):  # Method overriding\n",
    "        result = super().multiply(a, b, c)  # Call the superclass method\n",
    "        print(f\"Multiplying {a}, {b}, and {c}\")\n",
    "        return result\n",
    "\n",
    "basic_calc = Calculator()\n",
    "advanced_calc = AdvancedCalculator()\n",
    "\n",
    "print(basic_calc.multiply(2, 3))       # Output: 6\n",
    "print(basic_calc.multiply(2, 3, 4))    # Output: 24\n",
    "print(advanced_calc.multiply(2, 3))    # Output: Multiplying 2, 3, and 1\\n6\n",
    "print(advanced_calc.multiply(2, 3, 4)) # Output: Multiplying 2, 3, and 4\\n24\n"
   ]
  },
  {
   "cell_type": "markdown",
   "id": "daeb327f-0459-46f4-a040-e5cb6c3a32d7",
   "metadata": {},
   "source": [
    "16. Explain the purpose of the `__init__()` method in Python inheritance and how it is utilized in child classes."
   ]
  },
  {
   "cell_type": "markdown",
   "id": "b31b552f-6a30-47d1-ad44-93ada9d6f469",
   "metadata": {},
   "source": [
    "The __init__() method in Python is a special method known as the constructor. Its primary purpose is to initialize a new instance of a class. In the context of inheritance, the __init__() method plays a crucial role in setting up the initial state of both parent and child class instances.\n",
    "\n",
    "Purpose of the __init__() Method\n",
    "Initialization: It sets the initial values for instance attributes when an object is created. This is where you define and initialize the attributes of the object.\n",
    "Inheritance Setup: When a child class inherits from a parent class, it often needs to call the parent's __init__() method to ensure that the parent class's attributes are properly initialized.\n",
    "Utilizing __init__() in Child Classes\n",
    "When a child class inherits from a parent class, it can:\n",
    "\n",
    "Call the Parent's __init__() Method: Ensure that the initialization code in the parent class is executed. This is typically done using super().__init__(...).\n",
    "Add Additional Initialization: Include additional attributes or logic specific to the child class.\n",
    "Example\n",
    "Here’s a detailed example illustrating how the __init__() method is used in both parent and child classes:"
   ]
  },
  {
   "cell_type": "code",
   "execution_count": 28,
   "id": "72bd1916-12ca-4461-aa8b-c86e2ddec122",
   "metadata": {},
   "outputs": [
    {
     "name": "stdout",
     "output_type": "stream",
     "text": [
      "Name: Alice\n",
      "Age: 12\n",
      "Grade: 7th Grade\n"
     ]
    }
   ],
   "source": [
    "class Parent:\n",
    "    def __init__(self, name, age):\n",
    "        self.name = name\n",
    "        self.age = age\n",
    "\n",
    "class Child(Parent):\n",
    "    def __init__(self, name, age, grade):\n",
    "        super().__init__(name, age)  # Call the parent's __init__() method\n",
    "        self.grade = grade           # Additional initialization for Child\n",
    "\n",
    "# Create an instance of Child\n",
    "child = Child('Alice', 12, '7th Grade')\n",
    "\n",
    "# Access attributes\n",
    "print(f\"Name: {child.name}\")  # Output: Name: Alice\n",
    "print(f\"Age: {child.age}\")    # Output: Age: 12\n",
    "print(f\"Grade: {child.grade}\") # Output: Grade: 7th Grade\n"
   ]
  },
  {
   "cell_type": "markdown",
   "id": "0355ccda-85c3-4f33-a5be-b3cbc7bdb48a",
   "metadata": {},
   "source": [
    "17. Create a Python class called `Bird` with a method `fly()`. Then, create child classes `Eagle` and `Sparrow` that inherit from `Bird` and implement the `fly()` method differently. Provide an example of using these \n",
    "classes"
   ]
  },
  {
   "cell_type": "code",
   "execution_count": 31,
   "id": "4b44ab56-d4fc-458c-b924-c693f1c32bfe",
   "metadata": {},
   "outputs": [
    {
     "name": "stdout",
     "output_type": "stream",
     "text": [
      "wings small\n",
      "wings big\n"
     ]
    }
   ],
   "source": [
    "class bird:\n",
    "    def fly(self):\n",
    "        return 'fly fly'\n",
    "    \n",
    "class eagle(bird):\n",
    "    def fly(self):\n",
    "        return 'wings big'\n",
    "    \n",
    "class sparrow(bird):\n",
    "    def fly(self):\n",
    "        return 'wings small'\n",
    "s=sparrow()\n",
    "print(s.fly())\n",
    "e=eagle()\n",
    "print(e.fly())"
   ]
  },
  {
   "cell_type": "markdown",
   "id": "800ff30c-9c4b-408a-be65-88a2e2d9c5fd",
   "metadata": {},
   "source": [
    "18. What is the \"diamond problem\" in multiple inheritance, and how does Python address it"
   ]
  },
  {
   "cell_type": "markdown",
   "id": "9b57370c-6520-4791-b4f7-0332334d2fb8",
   "metadata": {},
   "source": [
    "The \"diamond problem\" in multiple inheritance is a common issue that arises when a class inherits from two classes that have a common base class. This problem can lead to ambiguity in the method resolution order (MRO), as it's unclear which path in the inheritance hierarchy should be used to resolve method calls.\n",
    "\n",
    "Diamond Problem\n",
    "Consider the following class hierarchy:"
   ]
  },
  {
   "cell_type": "markdown",
   "id": "9a8ff213-76aa-4f0e-ac07-e83d9fb916b6",
   "metadata": {},
   "source": [
    "      A\n",
    "     / \\\n",
    "    B   C\n",
    "     \\ /\n",
    "      D\n"
   ]
  },
  {
   "cell_type": "markdown",
   "id": "b5210268-69b2-4146-adaf-a70fd0b2c9a1",
   "metadata": {},
   "source": [
    "In this diagram:\n",
    "\n",
    "D inherits from both B and C.\n",
    "B and C both inherit from A.\n",
    "The diamond problem arises because if D calls a method from A, it's ambiguous whether D should use the implementation of the method from B or C, since both paths lead to A.\n",
    "\n",
    "\n",
    "How Python Addresses the Diamond Problem\n",
    "Python addresses the diamond problem using a method resolution order (MRO) algorithm, which is based on the C3 linearization algorithm. This algorithm ensures a consistent and deterministic order in which classes are considered for method resolution.\n",
    "\n",
    "\n",
    "Here’s how Python’s MRO works:\n",
    "\n",
    "\n",
    "Linearization: The MRO provides a linear order of classes that Python will follow when looking for a method or attribute. This linearization ensures that each class appears before its base classes and that no class appears more than once.\n",
    "\n",
    "\n",
    "Order of Resolution: The MRO ensures that each class is visited in a consistent order. If a class is required to resolve a method call, Python uses this order to determine which class's method should be executed."
   ]
  },
  {
   "cell_type": "markdown",
   "id": "925bbc64-15b1-4c9d-ab8f-1c3ab524ef9b",
   "metadata": {},
   "source": [
    "Example Demonstrating the Diamond Problem"
   ]
  },
  {
   "cell_type": "code",
   "execution_count": 33,
   "id": "68c88dee-cd46-401c-b580-41f968f5b7a4",
   "metadata": {},
   "outputs": [
    {
     "name": "stdout",
     "output_type": "stream",
     "text": [
      "Method in B\n"
     ]
    }
   ],
   "source": [
    "class A:\n",
    "    def method(self):\n",
    "        print(\"Method in A\")\n",
    "\n",
    "class B(A):\n",
    "    def method(self):\n",
    "        print(\"Method in B\")\n",
    "\n",
    "class C(A):\n",
    "    def method(self):\n",
    "        print(\"Method in C\")\n",
    "\n",
    "class D(B, C):\n",
    "    pass\n",
    "\n",
    "d = D()\n",
    "d.method()\n"
   ]
  },
  {
   "cell_type": "markdown",
   "id": "828771a6-0c34-4d05-98d2-3ab7edc52860",
   "metadata": {},
   "source": [
    "19. Discuss the concept of \"is-a\" and \"has-a\" relationships in inheritance, and provide examples of each."
   ]
  },
  {
   "cell_type": "markdown",
   "id": "e19cc30a-8fd5-499c-bacf-196887322229",
   "metadata": {},
   "source": [
    "In object-oriented programming, the concepts of \"is-a\" and \"has-a\" relationships help define how classes interact with each other and how they are structured. These relationships describe different ways in which classes can be related through inheritance and composition.\n",
    "\n",
    "\"Is-a\" Relationship\n",
    "The \"is-a\" relationship represents inheritance and describes how a subclass is a specific type of its superclass. In other words, the subclass inherits from the superclass and extends or modifies its behavior. This relationship is fundamental to inheritance in object-oriented programming.\n",
    "\n",
    "Characteristics:\n",
    "Inheritance: The subclass inherits attributes and methods from the superclass.\n",
    "Specialization: The subclass is a specialized form of the superclass."
   ]
  },
  {
   "cell_type": "code",
   "execution_count": 34,
   "id": "8c5998de-df7e-44d8-a712-7676384e87a4",
   "metadata": {},
   "outputs": [
    {
     "name": "stdout",
     "output_type": "stream",
     "text": [
      "This animal eats food\n",
      "The dog barks\n"
     ]
    }
   ],
   "source": [
    "class Animal:\n",
    "    def eat(self):\n",
    "        print(\"This animal eats food\")\n",
    "\n",
    "class Dog(Animal):\n",
    "    def bark(self):\n",
    "        print(\"The dog barks\")\n",
    "\n",
    "# Example of \"is-a\" relationship\n",
    "dog = Dog()\n",
    "dog.eat()  # Inherited method from Animal\n",
    "dog.bark()  # Method defined in Dog\n"
   ]
  },
  {
   "cell_type": "markdown",
   "id": "c8fe4151-b69b-4290-9141-141f35d33ff6",
   "metadata": {},
   "source": [
    "\"Has-a\" Relationship\n",
    "\n",
    "The \"has-a\" relationship represents composition and describes how a class contains or uses other objects as attributes. In other words, it describes how a class is composed of other classes, rather than inheriting from them.\n",
    "\n",
    "Characteristics:\n",
    "    \n",
    "Composition: A class contains references to other objects or classes as attributes.\n",
    "\n",
    "Aggregation: The contained objects can be of different types and are used by the class to provide functionality.\n",
    "\n",
    "Example:"
   ]
  },
  {
   "cell_type": "code",
   "execution_count": 35,
   "id": "878c5a23-b6f5-4dbd-8f50-d4eb77db72ac",
   "metadata": {},
   "outputs": [
    {
     "name": "stdout",
     "output_type": "stream",
     "text": [
      "Engine starts\n",
      "Car starts\n"
     ]
    }
   ],
   "source": [
    "class Engine:\n",
    "    def start(self):\n",
    "        print(\"Engine starts\")\n",
    "\n",
    "class Car:\n",
    "    def __init__(self, engine):\n",
    "        self.engine = engine\n",
    "    \n",
    "    def start(self):\n",
    "        self.engine.start()\n",
    "        print(\"Car starts\")\n",
    "\n",
    "# Example of \"has-a\" relationship\n",
    "engine = Engine()\n",
    "car = Car(engine)\n",
    "car.start()\n"
   ]
  },
  {
   "cell_type": "markdown",
   "id": "4d2cb619-1e85-4cb4-8610-e60c77f0211b",
   "metadata": {},
   "source": [
    "20. Create a Python class hierarchy for a university system. Start with a base class `Person` and create child \n",
    "classes `Student` and `Professor`, each with their own attributes and methods. Provide an example of using \n",
    "these classes in a university context"
   ]
  },
  {
   "cell_type": "code",
   "execution_count": 7,
   "id": "f8a4f3f2-9b07-4823-9dc6-4af08ccf920f",
   "metadata": {},
   "outputs": [
    {
     "name": "stdout",
     "output_type": "stream",
     "text": [
      "24\n",
      "ravikiran\n",
      "comp-sci\n"
     ]
    }
   ],
   "source": [
    "class person:\n",
    "    def __init__(self,name):\n",
    "        self.name=name\n",
    "class student(person):\n",
    "    def __init__(self,name,branch,roll_no):\n",
    "        self.name=name\n",
    "        self.branch=branch\n",
    "        self.roll_no=roll_no\n",
    "        \n",
    "class Professor(person):\n",
    "    def __init__(self,name,branch,subject):\n",
    "        super().__init__(name)\n",
    "        self.subject=subject\n",
    "        self.branch=branch\n",
    "        \n",
    "st=student('ravikiran','extc',24)\n",
    "print(st.roll_no)  \n",
    "print(st.name)\n",
    "prof=Professor('kasliwal','comp-sci','c')\n",
    "print(prof.branch)\n",
    "\n",
    "        \n",
    "       "
   ]
  },
  {
   "cell_type": "code",
   "execution_count": null,
   "id": "ff9af699-8007-407c-94b3-48d78fd19455",
   "metadata": {},
   "outputs": [],
   "source": []
  }
 ],
 "metadata": {
  "kernelspec": {
   "display_name": "Python 3 (ipykernel)",
   "language": "python",
   "name": "python3"
  },
  "language_info": {
   "codemirror_mode": {
    "name": "ipython",
    "version": 3
   },
   "file_extension": ".py",
   "mimetype": "text/x-python",
   "name": "python",
   "nbconvert_exporter": "python",
   "pygments_lexer": "ipython3",
   "version": "3.10.8"
  }
 },
 "nbformat": 4,
 "nbformat_minor": 5
}
