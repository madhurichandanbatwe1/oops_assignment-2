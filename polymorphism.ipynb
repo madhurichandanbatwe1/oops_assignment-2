{
 "cells": [
  {
   "cell_type": "markdown",
   "id": "f3035ab4-b839-4731-a2a4-79eb6b067086",
   "metadata": {},
   "source": [
    "1. What is polymorphism in Python? Explain how it is related to object-oriented programming.\n",
    "\n",
    "Polymorphism in Python is the ability of different objects to be treated as instances of the same class through a common interface. It allows methods to have the same name but act differently based on the object calling them. This concept is crucial in object-oriented programming (OOP) as it promotes code reusability and flexibility.\n",
    "\n",
    "Relation to OOP:\n",
    "\n",
    "Inheritance: Polymorphism is closely related to inheritance. When a class inherits from another class, it can override methods of the parent class, providing different implementations.\n",
    "Encapsulation: Polymorphism works alongside encapsulation by hiding the internal workings of objects and providing a unified interface."
   ]
  },
  {
   "cell_type": "markdown",
   "id": "448c1739-0af4-4fac-be45-635941c7fdf4",
   "metadata": {},
   "source": [
    "2. Describe the difference between compile-time polymorphism and runtime polymorphism in Python.\n",
    "\n",
    "Python is primarily a dynamically typed language, which means it mostly uses runtime polymorphism. However, understanding the concepts of compile-time and runtime polymorphism helps in grasping the broader picture.\n",
    "\n",
    "Compile-time Polymorphism: Also known as static polymorphism, it occurs when method overloading or operator overloading is resolved at compile time. Python does not support method overloading (defining multiple methods with the same name but different parameters) in the traditional sense, but it supports operator overloading.\n",
    "\n",
    "Runtime Polymorphism: This occurs when the method that gets executed is determined at runtime. Python achieves this through method overriding in inheritance. For instance, a method defined in a base class can be overridden in a derived class, and the method to be invoked is determined at runtime based on the object type."
   ]
  },
  {
   "cell_type": "markdown",
   "id": "2ce05a4a-21f7-4bbf-87cb-785ed402f9ff",
   "metadata": {},
   "source": [
    "3. Create a Python class hierarchy for shapes (e.g., circle, square, triangle) and demonstrate polymorphism through a common method, such as calculate_area()."
   ]
  },
  {
   "cell_type": "code",
   "execution_count": 1,
   "id": "fa48370c-071b-494e-a3fc-d86cc71a2a9b",
   "metadata": {},
   "outputs": [
    {
     "name": "stdout",
     "output_type": "stream",
     "text": [
      "Area: 78.53981633974483\n",
      "Area: 16\n",
      "Area: 9.0\n"
     ]
    }
   ],
   "source": [
    "import math\n",
    "\n",
    "class Shape:\n",
    "    def calculate_area(self):\n",
    "        raise NotImplementedError(\"Subclasses must implement this method\")\n",
    "\n",
    "class Circle(Shape):\n",
    "    def __init__(self, radius):\n",
    "        self.radius = radius\n",
    "    \n",
    "    def calculate_area(self):\n",
    "        return math.pi * (self.radius ** 2)\n",
    "\n",
    "class Square(Shape):\n",
    "    def __init__(self, side):\n",
    "        self.side = side\n",
    "    \n",
    "    def calculate_area(self):\n",
    "        return self.side * self.side\n",
    "\n",
    "class Triangle(Shape):\n",
    "    def __init__(self, base, height):\n",
    "        self.base = base\n",
    "        self.height = height\n",
    "    \n",
    "    def calculate_area(self):\n",
    "        return 0.5 * self.base * self.height\n",
    "\n",
    "# Demonstrating polymorphism\n",
    "shapes = [Circle(5), Square(4), Triangle(3, 6)]\n",
    "\n",
    "for shape in shapes:\n",
    "    print(f\"Area: {shape.calculate_area()}\")\n"
   ]
  },
  {
   "cell_type": "markdown",
   "id": "f3f6efdb-6cfb-4b7a-a44c-3c568c192ee2",
   "metadata": {},
   "source": [
    "4. Explain the concept of method overriding in polymorphism. Provide an example.\n",
    "\n",
    "Method Overriding occurs when a subclass provides a specific implementation of a method that is already defined in its superclass. This is a way to customize or extend the functionality of the base class methods."
   ]
  },
  {
   "cell_type": "code",
   "execution_count": 2,
   "id": "3326f0d1-bb0d-4aee-84cb-2e8c05ba4288",
   "metadata": {},
   "outputs": [
    {
     "name": "stdout",
     "output_type": "stream",
     "text": [
      "Woof!\n",
      "Meow!\n"
     ]
    }
   ],
   "source": [
    "class Animal:\n",
    "    def speak(self):\n",
    "        raise NotImplementedError(\"Subclasses must implement this method\")\n",
    "\n",
    "class Dog(Animal):\n",
    "    def speak(self):\n",
    "        return \"Woof!\"\n",
    "\n",
    "class Cat(Animal):\n",
    "    def speak(self):\n",
    "        return \"Meow!\"\n",
    "\n",
    "# Demonstrating method overriding\n",
    "animals = [Dog(), Cat()]\n",
    "\n",
    "for animal in animals:\n",
    "    print(animal.speak())\n"
   ]
  },
  {
   "cell_type": "markdown",
   "id": "1b131d4e-9dac-4f9e-91b9-9e2dee243759",
   "metadata": {},
   "source": [
    "5. How is polymorphism different from method overloading in Python? Provide examples for both.\n",
    "\n",
    "Polymorphism allows objects of different classes to be treated as objects of a common superclass. It focuses on the ability to use a common interface to interact with different types of objects.\n",
    "\n",
    "Method Overloading refers to defining multiple methods with the same name but different parameters. Python does not support traditional method overloading, but you can achieve similar functionality using default arguments or variable-length arguments."
   ]
  },
  {
   "cell_type": "code",
   "execution_count": 3,
   "id": "e16a7b04-41b6-4120-889d-4c3ec9415d6e",
   "metadata": {},
   "outputs": [
    {
     "name": "stdout",
     "output_type": "stream",
     "text": [
      "Tweet!\n",
      "Woof!\n"
     ]
    }
   ],
   "source": [
    "class Bird:\n",
    "    def speak(self):\n",
    "        return \"Tweet!\"\n",
    "\n",
    "class Dog:\n",
    "    def speak(self):\n",
    "        return \"Woof!\"\n",
    "\n",
    "def make_animal_speak(animal):\n",
    "    print(animal.speak())\n",
    "\n",
    "make_animal_speak(Bird())\n",
    "make_animal_speak(Dog())\n"
   ]
  },
  {
   "cell_type": "markdown",
   "id": "6a8e0f8c-a63c-4918-aeb5-24fbb99a534f",
   "metadata": {},
   "source": [
    "Example of Method Overloading:\n",
    "\n",
    "Python does not support method overloading in the traditional sense. However, you can use default arguments:"
   ]
  },
  {
   "cell_type": "code",
   "execution_count": 4,
   "id": "2629c293-345b-48fc-8abb-2f746021b9c3",
   "metadata": {},
   "outputs": [
    {
     "name": "stdout",
     "output_type": "stream",
     "text": [
      "3\n",
      "6\n"
     ]
    }
   ],
   "source": [
    "class MathOperations:\n",
    "    def add(self, a, b, c=0):\n",
    "        return a + b + c\n",
    "\n",
    "math_ops = MathOperations()\n",
    "print(math_ops.add(1, 2))    # Outputs: 3\n",
    "print(math_ops.add(1, 2, 3)) # Outputs: 6\n"
   ]
  },
  {
   "cell_type": "markdown",
   "id": "88c61f3d-499f-423b-8958-ab22ce55f02c",
   "metadata": {},
   "source": [
    "6. Create a Python class called Animal with a method speak(). Then, create child classes like Dog, Cat, and Bird, each with their own speak() method. Demonstrate polymorphism by calling the speak() method on objects of different subclasses."
   ]
  },
  {
   "cell_type": "code",
   "execution_count": 5,
   "id": "96760b45-71c6-424a-ba6d-fb3f7adc18fd",
   "metadata": {},
   "outputs": [
    {
     "name": "stdout",
     "output_type": "stream",
     "text": [
      "Woof!\n",
      "Meow!\n",
      "Chirp!\n"
     ]
    }
   ],
   "source": [
    "class Animal:\n",
    "    def speak(self):\n",
    "        raise NotImplementedError(\"Subclasses must implement this method\")\n",
    "\n",
    "class Dog(Animal):\n",
    "    def speak(self):\n",
    "        return \"Woof!\"\n",
    "\n",
    "class Cat(Animal):\n",
    "    def speak(self):\n",
    "        return \"Meow!\"\n",
    "\n",
    "class Bird(Animal):\n",
    "    def speak(self):\n",
    "        return \"Chirp!\"\n",
    "\n",
    "# Demonstrating polymorphism\n",
    "animals = [Dog(), Cat(), Bird()]\n",
    "\n",
    "for animal in animals:\n",
    "    print(animal.speak())\n"
   ]
  },
  {
   "cell_type": "markdown",
   "id": "cb506360-83e9-408a-8ec2-3a161db74e78",
   "metadata": {},
   "source": [
    "7. Discuss the use of abstract methods and classes in achieving polymorphism in Python. Provide an example using the abc module.\n",
    "Abstract methods and classes are used to define a common interface that must be implemented by subclasses. This enforces a contract for subclasses, ensuring they provide specific implementations for abstract methods."
   ]
  },
  {
   "cell_type": "code",
   "execution_count": 6,
   "id": "54ce2b7d-408e-44fa-ab34-de88d781538d",
   "metadata": {},
   "outputs": [
    {
     "name": "stdout",
     "output_type": "stream",
     "text": [
      "Area: 78.53981633974483\n",
      "Area: 16\n"
     ]
    }
   ],
   "source": [
    "from abc import ABC, abstractmethod\n",
    "\n",
    "class Shape(ABC):\n",
    "    @abstractmethod\n",
    "    def area(self):\n",
    "        pass\n",
    "\n",
    "class Circle(Shape):\n",
    "    def __init__(self, radius):\n",
    "        self.radius = radius\n",
    "    \n",
    "    def area(self):\n",
    "        return math.pi * (self.radius ** 2)\n",
    "\n",
    "class Square(Shape):\n",
    "    def __init__(self, side):\n",
    "        self.side = side\n",
    "    \n",
    "    def area(self):\n",
    "        return self.side * self.side\n",
    "\n",
    "# Creating objects and calling area method\n",
    "shapes = [Circle(5), Square(4)]\n",
    "\n",
    "for shape in shapes:\n",
    "    print(f\"Area: {shape.area()}\")\n"
   ]
  },
  {
   "cell_type": "markdown",
   "id": "90e04edf-e1ec-460c-85bb-fed47e5b7223",
   "metadata": {},
   "source": [
    "8. Create a Python class hierarchy for a vehicle system (e.g., car, bicycle, boat) and implement a polymorphic start() method that prints a message specific to each vehicle type"
   ]
  },
  {
   "cell_type": "code",
   "execution_count": 7,
   "id": "c7cea8e1-4836-491f-9817-e6c76fb6f832",
   "metadata": {},
   "outputs": [
    {
     "name": "stdout",
     "output_type": "stream",
     "text": [
      "Car engine started!\n",
      "Bicycle ready to ride!\n",
      "Boat engine running!\n"
     ]
    }
   ],
   "source": [
    "class Vehicle:\n",
    "    def start(self):\n",
    "        raise NotImplementedError(\"Subclasses must implement this method\")\n",
    "\n",
    "class Car(Vehicle):\n",
    "    def start(self):\n",
    "        return \"Car engine started!\"\n",
    "\n",
    "class Bicycle(Vehicle):\n",
    "    def start(self):\n",
    "        return \"Bicycle ready to ride!\"\n",
    "\n",
    "class Boat(Vehicle):\n",
    "    def start(self):\n",
    "        return \"Boat engine running!\"\n",
    "\n",
    "# Demonstrating polymorphism\n",
    "vehicles = [Car(), Bicycle(), Boat()]\n",
    "\n",
    "for vehicle in vehicles:\n",
    "    print(vehicle.start())\n"
   ]
  },
  {
   "cell_type": "markdown",
   "id": "f063e54c-9c9b-43b9-8f7b-99a44379d6ef",
   "metadata": {},
   "source": [
    "9. Explain the significance of the isinstance() and issubclass() functions in Python polymorphism.\n",
    "\n",
    "isinstance(object, classinfo): Checks if an object is an instance of a class or a subclass thereof. It is useful to determine if an object conforms to a specific interface or type."
   ]
  },
  {
   "cell_type": "markdown",
   "id": "8d4b81f7-3c12-491e-9601-b9315df670ca",
   "metadata": {},
   "source": [
    "isinstance(obj, Dog)  # Returns True if obj is an instance of Dog or a subclass of Dog\n"
   ]
  },
  {
   "cell_type": "markdown",
   "id": "9636dc2a-5568-41fb-be59-297358062b6f",
   "metadata": {},
   "source": [
    "issubclass(class, classinfo): Checks if a class is a subclass of another class. It helps in understanding class hierarchies and relationships."
   ]
  },
  {
   "cell_type": "markdown",
   "id": "951a9d1e-2ea4-4b43-8982-146ed215273a",
   "metadata": {},
   "source": [
    "issubclass(Dog, Animal)  # Returns True if Dog is a subclass of Animal\n"
   ]
  },
  {
   "cell_type": "markdown",
   "id": "92d8bae5-7c2a-41d2-af0d-df7900ccb18a",
   "metadata": {},
   "source": [
    "10. What is the role of the @abstractmethod decorator in achieving polymorphism in Python? Provide an example.\n",
    "\n",
    "The @abstractmethod decorator is used to declare methods that must be implemented by subclasses of an abstract class. It ensures that the subclass provides an implementation for the abstract methods, thereby supporting polymorphism."
   ]
  },
  {
   "cell_type": "code",
   "execution_count": 9,
   "id": "cd4ecad7-3880-44bf-a1f9-2cb763549fab",
   "metadata": {},
   "outputs": [
    {
     "name": "stdout",
     "output_type": "stream",
     "text": [
      "Drawing a rectangle.\n",
      "Drawing a circle.\n"
     ]
    }
   ],
   "source": [
    "from abc import ABC, abstractmethod\n",
    "\n",
    "class Shape(ABC):\n",
    "    @abstractmethod\n",
    "    def draw(self):\n",
    "        pass\n",
    "\n",
    "class Rectangle(Shape):\n",
    "    def draw(self):\n",
    "        return \"Drawing a rectangle.\"\n",
    "\n",
    "class Circle(Shape):\n",
    "    def draw(self):\n",
    "        return \"Drawing a circle.\"\n",
    "\n",
    "# Subclasses must implement the abstract method\n",
    "shapes = [Rectangle(), Circle()]\n",
    "\n",
    "for shape in shapes:\n",
    "    print(shape.draw())\n"
   ]
  },
  {
   "cell_type": "markdown",
   "id": "cb67c031-7705-4070-af98-2edc17c04566",
   "metadata": {},
   "source": [
    "11. Create a Python class called Shape with a polymorphic method area() that calculates the area of different shapes (e.g., circle, rectangle, triangle)."
   ]
  },
  {
   "cell_type": "code",
   "execution_count": 11,
   "id": "f1465ecd-450e-46d1-b18c-b275d538300e",
   "metadata": {},
   "outputs": [
    {
     "name": "stdout",
     "output_type": "stream",
     "text": [
      "Area: 78.53981633974483\n",
      "Area: 24\n",
      "Area: 10.5\n"
     ]
    }
   ],
   "source": [
    "import math\n",
    "\n",
    "class Shape:\n",
    "    def area(self):\n",
    "        raise NotImplementedError(\"Subclasses must implement this method\")\n",
    "\n",
    "class Circle(Shape):\n",
    "    def __init__(self, radius):\n",
    "        self.radius = radius\n",
    "    \n",
    "    def area(self):\n",
    "        return math.pi * (self.radius ** 2)\n",
    "\n",
    "class Rectangle(Shape):\n",
    "    def __init__(self, width, height):\n",
    "        self.width = width\n",
    "        self.height = height\n",
    "    \n",
    "    def area(self):\n",
    "        return self.width * self.height\n",
    "\n",
    "class Triangle(Shape):\n",
    "    def __init__(self, base, height):\n",
    "        self.base = base\n",
    "        self.height = height\n",
    "    \n",
    "    def area(self):\n",
    "        return 0.5 * self.base * self.height\n",
    "\n",
    "# Demonstrating polymorphism\n",
    "shapes = [Circle(5), Rectangle(4, 6), Triangle(3, 7)]\n",
    "\n",
    "for shape in shapes:\n",
    "    print(f\"Area: {shape.area()}\")\n"
   ]
  },
  {
   "cell_type": "markdown",
   "id": "0753fae9-7454-4312-a476-faf5e56f3e99",
   "metadata": {},
   "source": [
    "12. Discuss the benefits of polymorphism in terms of code reusability and flexibility in Python programs.\n",
    "\n",
    "Benefits of Polymorphism:\n",
    "\n",
    "Code Reusability: Polymorphism allows you to write code that can work with objects of different types, as long as they implement a certain interface or inherit from a common base class. This means you can write functions or methods that operate on base classes and handle derived classes seamlessly."
   ]
  },
  {
   "cell_type": "code",
   "execution_count": 12,
   "id": "3709120c-f7e9-435d-98d2-42744bdb9db7",
   "metadata": {},
   "outputs": [
    {
     "name": "stdout",
     "output_type": "stream",
     "text": [
      "Area: 78.53981633974483\n",
      "Area: 24\n"
     ]
    }
   ],
   "source": [
    "def print_area(shape: Shape):\n",
    "    print(f\"Area: {shape.area()}\")\n",
    "\n",
    "print_area(Circle(5))\n",
    "print_area(Rectangle(4, 6))\n"
   ]
  },
  {
   "cell_type": "markdown",
   "id": "7404b715-aff0-4a2a-9fc5-799f756bc759",
   "metadata": {},
   "source": [
    "Flexibility: It allows you to change or extend functionality with minimal changes to existing code. For instance, if you add a new shape, you only need to implement the area() method without modifying the existing code that uses polymorphism.\n",
    "\n",
    "Maintainability: Code that uses polymorphism is generally easier to maintain and extend. The behavior of new subclasses is automatically integrated with existing code, reducing the need for extensive modifications"
   ]
  },
  {
   "cell_type": "markdown",
   "id": "262cae67-4b23-42ce-a779-7ac4c8b20506",
   "metadata": {},
   "source": [
    "13. Explain the use of the super() function in Python polymorphism. How does it help call methods of parent classes?\n",
    "\n",
    "The super() function is used to call methods from a parent class in a derived class. It helps in accessing the methods of the parent class and allows extending or modifying the behavior of these methods in the child class."
   ]
  },
  {
   "cell_type": "code",
   "execution_count": 13,
   "id": "ed8a5331-2832-4858-b506-5ec98ff798e6",
   "metadata": {},
   "outputs": [
    {
     "name": "stdout",
     "output_type": "stream",
     "text": [
      "Animal sound - Woof!\n"
     ]
    }
   ],
   "source": [
    "class Animal:\n",
    "    def speak(self):\n",
    "        return \"Animal sound\"\n",
    "\n",
    "class Dog(Animal):\n",
    "    def speak(self):\n",
    "        return super().speak() + \" - Woof!\"\n",
    "\n",
    "dog = Dog()\n",
    "print(dog.speak())  # Outputs: \"Animal sound - Woof!\"\n"
   ]
  },
  {
   "cell_type": "markdown",
   "id": "53019539-587d-4684-803b-b50e87dab597",
   "metadata": {},
   "source": [
    "14. Create a Python class hierarchy for a banking system with various account types (e.g., savings, checking, credit card) and demonstrate polymorphism by implementing a common withdraw() method."
   ]
  },
  {
   "cell_type": "code",
   "execution_count": 14,
   "id": "cf6748cd-e077-40c7-9410-87e318b14621",
   "metadata": {},
   "outputs": [
    {
     "name": "stdout",
     "output_type": "stream",
     "text": [
      "Withdrawal of $100 successful. New balance: $900\n",
      "Withdrawal of $100 successful. New balance: $400\n",
      "Charge of $100 successful. New balance: $100\n"
     ]
    }
   ],
   "source": [
    "class Account:\n",
    "    def withdraw(self, amount):\n",
    "        raise NotImplementedError(\"Subclasses must implement this method\")\n",
    "\n",
    "class SavingsAccount(Account):\n",
    "    def __init__(self, balance):\n",
    "        self.balance = balance\n",
    "    \n",
    "    def withdraw(self, amount):\n",
    "        if amount <= self.balance:\n",
    "            self.balance -= amount\n",
    "            return f\"Withdrawal of ${amount} successful. New balance: ${self.balance}\"\n",
    "        return \"Insufficient funds\"\n",
    "\n",
    "class CheckingAccount(Account):\n",
    "    def __init__(self, balance):\n",
    "        self.balance = balance\n",
    "    \n",
    "    def withdraw(self, amount):\n",
    "        self.balance -= amount\n",
    "        return f\"Withdrawal of ${amount} successful. New balance: ${self.balance}\"\n",
    "\n",
    "class CreditCard(Account):\n",
    "    def __init__(self, limit):\n",
    "        self.limit = limit\n",
    "        self.balance = 0\n",
    "    \n",
    "    def withdraw(self, amount):\n",
    "        if amount <= self.limit - self.balance:\n",
    "            self.balance += amount\n",
    "            return f\"Charge of ${amount} successful. New balance: ${self.balance}\"\n",
    "        return \"Credit limit exceeded\"\n",
    "\n",
    "# Demonstrating polymorphism\n",
    "accounts = [\n",
    "    SavingsAccount(1000),\n",
    "    CheckingAccount(500),\n",
    "    CreditCard(2000)\n",
    "]\n",
    "\n",
    "for account in accounts:\n",
    "    print(account.withdraw(100))\n"
   ]
  },
  {
   "cell_type": "markdown",
   "id": "8791fb8e-4a55-491b-a94d-c2e9fc7542c7",
   "metadata": {},
   "source": [
    "15. Describe the concept of operator overloading in Python and how it relates to polymorphism. Provide examples using operators like + and *.\n",
    "\n",
    "Operator Overloading allows you to define custom behavior for standard operators (e.g., +, *) in your classes. This is done by implementing special methods like __add__ and __mul__."
   ]
  },
  {
   "cell_type": "code",
   "execution_count": 16,
   "id": "bcd37519-447c-4326-9317-516adce84733",
   "metadata": {},
   "outputs": [
    {
     "name": "stdout",
     "output_type": "stream",
     "text": [
      "Vector(6, 4)\n",
      "Vector(6, 9)\n"
     ]
    }
   ],
   "source": [
    "class Vector:\n",
    "    def __init__(self, x, y):\n",
    "        self.x = x\n",
    "        self.y = y\n",
    "    \n",
    "    def __add__(self, other):\n",
    "        return Vector(self.x + other.x, self.y + other.y)\n",
    "    \n",
    "    def __mul__(self, scalar):\n",
    "        return Vector(self.x * scalar, self.y * scalar)\n",
    "    \n",
    "    def __repr__(self):\n",
    "        return f\"Vector({self.x}, {self.y})\"\n",
    "\n",
    "v1 = Vector(2, 3)\n",
    "v2 = Vector(4, 1)\n",
    "\n",
    "print(v1 + v2)  # Outputs: Vector(6, 4)\n",
    "print(v1 * 3)   # Outputs: Vector(6, 9)\n"
   ]
  },
  {
   "cell_type": "markdown",
   "id": "9bacee30-cb33-45d7-b333-79b332d3f41b",
   "metadata": {},
   "source": [
    "16. What is dynamic polymorphism, and how is it achieved in Python?\n",
    "\n",
    "Dynamic Polymorphism occurs when the method or function that gets executed is determined at runtime. In Python, this is achieved through method overriding, where a method in a derived class overrides a method in a base class."
   ]
  },
  {
   "cell_type": "code",
   "execution_count": 17,
   "id": "c8744219-8337-4d1b-98c6-11bea94af9ea",
   "metadata": {},
   "outputs": [
    {
     "name": "stdout",
     "output_type": "stream",
     "text": [
      "Woof!\n",
      "Meow!\n"
     ]
    }
   ],
   "source": [
    "class Animal:\n",
    "    def speak(self):\n",
    "        return \"Animal sound\"\n",
    "\n",
    "class Dog(Animal):\n",
    "    def speak(self):\n",
    "        return \"Woof!\"\n",
    "\n",
    "class Cat(Animal):\n",
    "    def speak(self):\n",
    "        return \"Meow!\"\n",
    "\n",
    "# Demonstrating dynamic polymorphism\n",
    "def make_animal_speak(animal):\n",
    "    print(animal.speak())\n",
    "\n",
    "make_animal_speak(Dog())  # Outputs: Woof!\n",
    "make_animal_speak(Cat())  # Outputs: Meow!\n"
   ]
  },
  {
   "cell_type": "markdown",
   "id": "f972b8e6-bf4c-4e39-a827-8983cbf61a98",
   "metadata": {},
   "source": [
    "17. Create a Python class hierarchy for employees in a company (e.g., manager, developer, designer) and implement polymorphism through a common calculate_salary() method."
   ]
  },
  {
   "cell_type": "code",
   "execution_count": 18,
   "id": "fc83dbab-1295-44e1-8496-2d4ab036357c",
   "metadata": {},
   "outputs": [
    {
     "name": "stdout",
     "output_type": "stream",
     "text": [
      "Salary: $6000.0\n",
      "Salary: $4400.0\n",
      "Salary: $4024.9999999999995\n"
     ]
    }
   ],
   "source": [
    "class Employee:\n",
    "    def calculate_salary(self):\n",
    "        raise NotImplementedError(\"Subclasses must implement this method\")\n",
    "\n",
    "class Manager(Employee):\n",
    "    def __init__(self, base_salary):\n",
    "        self.base_salary = base_salary\n",
    "    \n",
    "    def calculate_salary(self):\n",
    "        return self.base_salary * 1.2  # 20% bonus for managers\n",
    "\n",
    "class Developer(Employee):\n",
    "    def __init__(self, base_salary):\n",
    "        self.base_salary = base_salary\n",
    "    \n",
    "    def calculate_salary(self):\n",
    "        return self.base_salary * 1.1  # 10% bonus for developers\n",
    "\n",
    "class Designer(Employee):\n",
    "    def __init__(self, base_salary):\n",
    "        self.base_salary = base_salary\n",
    "    \n",
    "    def calculate_salary(self):\n",
    "        return self.base_salary * 1.15  # 15% bonus for designers\n",
    "\n",
    "# Demonstrating polymorphism\n",
    "employees = [Manager(5000), Developer(4000), Designer(3500)]\n",
    "\n",
    "for employee in employees:\n",
    "    print(f\"Salary: ${employee.calculate_salary()}\")\n"
   ]
  },
  {
   "cell_type": "markdown",
   "id": "a8660e3b-0963-4ae3-8920-8f4a747ecc19",
   "metadata": {},
   "source": [
    "18. Discuss the concept of function pointers and how they can be used to achieve polymorphism in Python.\n",
    "\n",
    "In Python, function pointers are not explicitly used as they are in some other languages, but Python's dynamic nature allows for similar behavior through first-class functions. You can pass functions as arguments, return them from other functions, and store them in variables."
   ]
  },
  {
   "cell_type": "code",
   "execution_count": 19,
   "id": "9cb3f372-3564-44c0-926e-bec125e245bf",
   "metadata": {},
   "outputs": [
    {
     "name": "stdout",
     "output_type": "stream",
     "text": [
      "8\n",
      "15\n"
     ]
    }
   ],
   "source": [
    "def add(x, y):\n",
    "    return x + y\n",
    "\n",
    "def multiply(x, y):\n",
    "    return x * y\n",
    "\n",
    "def operate(func, a, b):\n",
    "    return func(a, b)\n",
    "\n",
    "print(operate(add, 5, 3))      # Outputs: 8\n",
    "print(operate(multiply, 5, 3)) # Outputs: 15\n"
   ]
  },
  {
   "cell_type": "markdown",
   "id": "ba3456a9-061e-4622-a5d7-05ec35d67bb6",
   "metadata": {},
   "source": [
    "19. Explain the role of interfaces and abstract classes in polymorphism, drawing comparisons between them.\n",
    "\n",
    "Abstract Classes:\n",
    "\n",
    "Define methods that must be implemented by subclasses.\n",
    "Cannot be instantiated directly.\n",
    "Provide a common base class for other classes to inherit from.\n",
    "Interfaces:\n",
    "\n",
    "Define a set of methods that a class must implement.\n",
    "Python does not have explicit interfaces like some other languages, but abstract classes can act as interfaces.\n",
    "Use the abc module to define abstract methods.\n",
    "Comparison:\n",
    "\n",
    "Abstract Classes can have method implementations and state, while interfaces (conceptually) only define method signatures.\n",
    "Abstract Classes can be partially implemented and still be used as base classes, whereas interfaces (conceptually) enforce full implementation in derived classes."
   ]
  },
  {
   "cell_type": "markdown",
   "id": "3928a238-532c-4296-b8ca-5981c7ee82b8",
   "metadata": {},
   "source": [
    "20. Create a Python class for a zoo simulation, demonstrating polymorphism with different animal types (e.g., mammals, birds, reptiles) and their behavior (e.g., eating, sleeping, making sounds)."
   ]
  },
  {
   "cell_type": "code",
   "execution_count": 21,
   "id": "3c86e72b-bd3e-4eaf-b133-d0ba460a0d2b",
   "metadata": {},
   "outputs": [],
   "source": [
    "class Animal:\n",
    "    def eat(self):\n",
    "        raise NotImplementedError(\"Subclasses must implement this method\")\n",
    "    \n",
    "    def sleep(self):\n",
    "        raise NotImplementedError(\"Subclasses must implement this method\")\n",
    "    \n",
    "    def make_sound(self):\n",
    "        raise NotImplementedError(\"Subclasses must implement this method\")\n",
    "\n",
    "class Mammal(Animal):\n",
    "    def eat(self):\n",
    "        return \"Mammal eating\"\n",
    "    \n",
    "    def sleep(self):\n",
    "        return \"Mammal\"\n"
   ]
  },
  {
   "cell_type": "code",
   "execution_count": null,
   "id": "dde61ed8-0926-41cb-9409-9d7de5460bd1",
   "metadata": {},
   "outputs": [],
   "source": []
  }
 ],
 "metadata": {
  "kernelspec": {
   "display_name": "Python 3 (ipykernel)",
   "language": "python",
   "name": "python3"
  },
  "language_info": {
   "codemirror_mode": {
    "name": "ipython",
    "version": 3
   },
   "file_extension": ".py",
   "mimetype": "text/x-python",
   "name": "python",
   "nbconvert_exporter": "python",
   "pygments_lexer": "ipython3",
   "version": "3.11.7"
  }
 },
 "nbformat": 4,
 "nbformat_minor": 5
}
