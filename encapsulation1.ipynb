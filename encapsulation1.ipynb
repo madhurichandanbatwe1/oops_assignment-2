{
 "cells": [
  {
   "cell_type": "markdown",
   "id": "c9d24b6c-da90-4537-9432-6a8404c55ce1",
   "metadata": {},
   "source": [
    "1. Explain the concept of encapsulation in Python. What is its role in object-oriented programming?"
   ]
  },
  {
   "cell_type": "markdown",
   "id": "7bd8af0a-0a0d-4df7-9b8e-31a550809161",
   "metadata": {},
   "source": [
    "1. Encapsulation in Python\n",
    "Encapsulation is a core principle of object-oriented programming (OOP) that involves bundling the data (attributes) and the methods (functions) that operate on the data into a single unit, called a class. It hides the internal state of the object from the outside world and restricts direct access to some of the object's components.\n",
    "\n",
    "Role in OOP:\n",
    "\n",
    "Control Access: Encapsulation allows you to control how the data is accessed and modified.\n",
    "\n",
    "Prevent Misuse: It helps prevent unintended interference and misuse of the data.\n",
    "\n",
    "Abstraction: It simplifies the interface of the class by exposing only necessary information."
   ]
  },
  {
   "cell_type": "markdown",
   "id": "71c38179-8ba3-42ea-8052-7bb136d2762f",
   "metadata": {},
   "source": [
    "2. Describe the key principles of encapsulation, including access control and data hiding."
   ]
  },
  {
   "cell_type": "markdown",
   "id": "c6908c47-b341-4d91-88d3-5f7d828ab3a9",
   "metadata": {},
   "source": [
    "2. Key Principles of Encapsulation\n",
    "Access Control:\n",
    "\n",
    "Public: Attributes or methods that can be accessed from outside the class.\n",
    "\n",
    "Protected: Attributes or methods intended to be used within the class and its subclasses (not strictly enforced in Python).\n",
    "\n",
    "Private: Attributes or methods intended to be used only within the class.\n",
    "\n",
    "Data Hiding:\n",
    "\n",
    "Hides the internal state of the object from direct access and modification, exposing only a controlled interface for interaction."
   ]
  },
  {
   "cell_type": "markdown",
   "id": "6cefe104-ed47-44a4-af3c-62b8377c2562",
   "metadata": {},
   "source": [
    "3. How can you achieve encapsulation in Python classes? Provide an example."
   ]
  },
  {
   "cell_type": "markdown",
   "id": "dc198d26-afbf-4777-b0e4-4b74f9539678",
   "metadata": {},
   "source": [
    " Achieving Encapsulation in Python\n",
    "\n",
    "Encapsulation is achieved using access modifiers. Python does not have strict access control, but it uses naming conventions to indicate the intended visibility of attributes and methods."
   ]
  },
  {
   "cell_type": "code",
   "execution_count": 1,
   "id": "149a21d0-c7ec-4b60-939d-85de04c531e5",
   "metadata": {},
   "outputs": [],
   "source": [
    "class Person:\n",
    "    def __init__(self, name):\n",
    "        self.__name = name  # Private attribute\n",
    "\n",
    "    def get_name(self):\n",
    "        return self.__name  # Getter method\n",
    "\n",
    "    def set_name(self, name):\n",
    "        self.__name = name  # Setter method\n"
   ]
  },
  {
   "cell_type": "markdown",
   "id": "66285aed-d065-4ee0-8c52-acce8e109958",
   "metadata": {},
   "source": [
    "4. Discuss the difference between public, private, and protected access modifiers in Python."
   ]
  },
  {
   "cell_type": "markdown",
   "id": "b2ad284f-0e3a-47fe-884c-9e65e1d01c91",
   "metadata": {},
   "source": [
    "4. Public, Private, and Protected Access Modifiers\n",
    "\n",
    "Public: Accessible from anywhere. Example: self.name.\n",
    "\n",
    "Protected: Intended to be accessed only within the class and its subclasses. In Python, it's indicated by a single underscore (_). Example: self._name.\n",
    "\n",
    "Private: Intended to be accessed only within the class. Indicated by double underscores (__). Example: self.__name."
   ]
  },
  {
   "cell_type": "markdown",
   "id": "9a676ed9-0b91-4c11-9310-d6f83e34625f",
   "metadata": {},
   "source": [
    "5. Create a Python class called `Person` with a private attribute `__name`. Provide methods to get and set the\n",
    "name attribute."
   ]
  },
  {
   "cell_type": "code",
   "execution_count": 2,
   "id": "fb39f5bb-2613-4491-b4b0-e78c008bd680",
   "metadata": {},
   "outputs": [],
   "source": [
    "class Person:\n",
    "    def __init__(self, name):\n",
    "        self.__name = name  # Private attribute\n",
    "\n",
    "    def get_name(self):\n",
    "        return self.__name  # Getter method\n",
    "\n",
    "    def set_name(self, name):\n",
    "        self.__name = name  # Setter method\n"
   ]
  },
  {
   "cell_type": "markdown",
   "id": "32f21ca6-284d-4023-a91b-e8bff04ad187",
   "metadata": {},
   "source": [
    "6. Explain the purpose of getter and setter methods in encapsulation. Provide examples."
   ]
  },
  {
   "cell_type": "markdown",
   "id": "1b30354b-09e4-4e39-9b23-cc70d350805b",
   "metadata": {},
   "source": [
    "6. Purpose of Getter and Setter Methods\n",
    "\n",
    "Getter Method: Allows access to private attributes. Setter Method: Allows modification of private attributes."
   ]
  },
  {
   "cell_type": "code",
   "execution_count": 3,
   "id": "6eee3fa4-c348-43c2-a32b-bf6590079649",
   "metadata": {},
   "outputs": [],
   "source": [
    "class Person:\n",
    "    def __init__(self, name):\n",
    "        self.__name = name\n",
    "\n",
    "    def get_name(self):\n",
    "        return self.__name\n",
    "\n",
    "    def set_name(self, name):\n",
    "        self.__name = name\n"
   ]
  },
  {
   "cell_type": "markdown",
   "id": "f34a856f-2ea5-4859-af8b-29280a9e6d11",
   "metadata": {},
   "source": [
    "7. What is name mangling in Python, and how does it affect encapsulation?"
   ]
  },
  {
   "cell_type": "markdown",
   "id": "34740f36-636a-4d5d-ab80-5d69198c20e8",
   "metadata": {},
   "source": [
    "7. Name Mangling in Python\n",
    "Name mangling is a technique used to make private attributes harder to accidentally access from outside the class. Python does this by altering the name of the attribute to include the class name. For example, __name in class Person is mangled to _Person__name"
   ]
  },
  {
   "cell_type": "code",
   "execution_count": 4,
   "id": "e2f93215-bcd0-497d-9320-a470fdb3d4c9",
   "metadata": {},
   "outputs": [
    {
     "name": "stdout",
     "output_type": "stream",
     "text": [
      "value\n"
     ]
    }
   ],
   "source": [
    "class Example:\n",
    "    def __init__(self):\n",
    "        self.__attribute = 'value'\n",
    "\n",
    "obj = Example()\n",
    "print(obj._Example__attribute)  # Accessing private attribute using name mangling\n"
   ]
  },
  {
   "cell_type": "markdown",
   "id": "3a19b1da-0ab3-44fb-8860-c4ada3884d3c",
   "metadata": {},
   "source": [
    "8.Create a Python class called `BankAccount` with private attributes for the account balance (`__balance`) and account number (`__account_number`). Provide methods for depositing and withdrawing money."
   ]
  },
  {
   "cell_type": "code",
   "execution_count": 5,
   "id": "e11c41da-7d2f-42f5-97f7-025b683df4dd",
   "metadata": {},
   "outputs": [],
   "source": [
    "class BankAccount:\n",
    "    def __init__(self, account_number, balance):\n",
    "        self.__account_number = account_number\n",
    "        self.__balance = balance\n",
    "\n",
    "    def deposit(self, amount):\n",
    "        if amount > 0:\n",
    "            self.__balance += amount\n",
    "\n",
    "    def withdraw(self, amount):\n",
    "        if 0 < amount <= self.__balance:\n",
    "            self.__balance -= amount\n"
   ]
  },
  {
   "cell_type": "markdown",
   "id": "7e86881c-e317-4c73-b3ca-b69d350f2b80",
   "metadata": {},
   "source": [
    "9. Discuss the advantages of encapsulation in terms of code maintainability and security."
   ]
  },
  {
   "cell_type": "markdown",
   "id": "0369068f-cb8d-4ab1-9478-f17d0b69f234",
   "metadata": {},
   "source": [
    "9. Advantages of Encapsulation\n",
    "\n",
    "Code Maintainability: Changes to the internal implementation can be made without affecting external code.\n",
    "\n",
    "Security: Protects the integrity of data by restricting access and modification."
   ]
  },
  {
   "cell_type": "markdown",
   "id": "d75da293-4bb6-4cbe-9f7f-7c593543312d",
   "metadata": {},
   "source": [
    "10. How can you access private attributes in Python? Provide an example demonstrating the use of name\n",
    "mangling."
   ]
  },
  {
   "cell_type": "markdown",
   "id": "3b907660-7db1-442e-b9c7-29553a780683",
   "metadata": {},
   "source": [
    "10. Accessing Private Attributes\n",
    "\n",
    "Private attributes can be accessed using name mangling, but it’s not recommended as it breaks encapsulation principles."
   ]
  },
  {
   "cell_type": "code",
   "execution_count": 6,
   "id": "2317b7eb-45bd-4ca6-bb90-48cd9ee805de",
   "metadata": {},
   "outputs": [
    {
     "name": "stdout",
     "output_type": "stream",
     "text": [
      "hidden\n"
     ]
    }
   ],
   "source": [
    "class MyClass:\n",
    "    def __init__(self):\n",
    "        self.__private = 'hidden'\n",
    "\n",
    "obj = MyClass()\n",
    "print(obj._MyClass__private)  # Access using name mangling\n"
   ]
  },
  {
   "cell_type": "markdown",
   "id": "41b789ce-3893-415f-a5c5-80131d5fa0ae",
   "metadata": {},
   "source": [
    "11. Create a Python class hierarchy for a school system, including classes for students, teachers, and courses,\n",
    "and implement encapsulation principles to protect sensitive information."
   ]
  },
  {
   "cell_type": "code",
   "execution_count": 7,
   "id": "b1f13d3d-f5a0-4b99-a65f-ccf1b73b4f4e",
   "metadata": {},
   "outputs": [],
   "source": [
    "class Person:\n",
    "    def __init__(self, name):\n",
    "        self.__name = name\n",
    "\n",
    "    def get_name(self):\n",
    "        return self.__name\n",
    "\n",
    "class Student(Person):\n",
    "    def __init__(self, name, student_id):\n",
    "        super().__init__(name)\n",
    "        self.__student_id = student_id\n",
    "\n",
    "class Teacher(Person):\n",
    "    def __init__(self, name, employee_id):\n",
    "        super().__init__(name)\n",
    "        self.__employee_id = employee_id\n",
    "\n",
    "class Course:\n",
    "    def __init__(self, title):\n",
    "        self.__title = title\n",
    "        self.__students = []\n",
    "        self.__teacher = None\n",
    "\n",
    "    def add_student(self, student):\n",
    "        self.__students.append(student)\n",
    "\n",
    "    def set_teacher(self, teacher):\n",
    "        self.__teacher = teacher\n"
   ]
  },
  {
   "cell_type": "markdown",
   "id": "3d7067ea-118f-4f9b-8c8a-ca035e0ef2b0",
   "metadata": {},
   "source": [
    "12. Explain the concept of property decorators in Python and how they relate to encapsulation."
   ]
  },
  {
   "cell_type": "markdown",
   "id": "2d51d360-4187-48c6-bb9e-0c1c4e1aee54",
   "metadata": {},
   "source": [
    "12. Property Decorators\n",
    "\n",
    "Property decorators (@property, @attribute.setter) allow you to define methods in a class that can be accessed like attributes. They provide a way to control access to private attributes."
   ]
  },
  {
   "cell_type": "code",
   "execution_count": 8,
   "id": "23f1ebf3-f5c5-4a9f-bbea-35261bf69a88",
   "metadata": {},
   "outputs": [],
   "source": [
    "class Person:\n",
    "    def __init__(self, name):\n",
    "        self.__name = name\n",
    "\n",
    "    @property\n",
    "    def name(self):\n",
    "        return self.__name\n",
    "\n",
    "    @name.setter\n",
    "    def name(self, value):\n",
    "        self.__name = value\n"
   ]
  },
  {
   "cell_type": "markdown",
   "id": "8ece419f-206f-44e4-a432-7c2d6d258e3a",
   "metadata": {},
   "source": [
    "13. What is data hiding, and why is it important in encapsulation? Provide examples."
   ]
  },
  {
   "cell_type": "markdown",
   "id": "d0b99335-c44c-4faa-97ee-66222d3db195",
   "metadata": {},
   "source": [
    "13. Data Hiding\n",
    "\n",
    "Data hiding is the practice of keeping the internal state of an object hidden from the outside world. This prevents unintended changes and ensures data integrity."
   ]
  },
  {
   "cell_type": "code",
   "execution_count": 9,
   "id": "cd7e5290-7a02-4470-bc16-dd077318a483",
   "metadata": {},
   "outputs": [],
   "source": [
    "class Person:\n",
    "    def __init__(self, name):\n",
    "        self.__name = name\n",
    "\n",
    "    def get_name(self):\n",
    "        return self.__name\n"
   ]
  },
  {
   "cell_type": "markdown",
   "id": "f7b89688-a4ea-4177-8745-7f17b9d3c606",
   "metadata": {},
   "source": [
    "14. Create a Python class called `Employee` with private attributes for salary (`__salary`) and employee ID (`__employee_id`). Provide a method to calculate yearly bonuses."
   ]
  },
  {
   "cell_type": "code",
   "execution_count": 10,
   "id": "56144776-ed6a-4012-bfe4-7bfad186ee98",
   "metadata": {},
   "outputs": [],
   "source": [
    "class Employee:\n",
    "    def __init__(self, salary, employee_id):\n",
    "        self.__salary = salary\n",
    "        self.__employee_id = employee_id\n",
    "\n",
    "    def calculate_bonus(self, percentage):\n",
    "        return self.__salary * (percentage / 100)\n"
   ]
  },
  {
   "cell_type": "markdown",
   "id": "8cab1fd6-0e82-4e80-8500-9ed69708efb0",
   "metadata": {},
   "source": [
    "15. Discuss the use of accessors and mutators in encapsulation. How do they help maintain control over\n",
    "attribute access?"
   ]
  },
  {
   "cell_type": "markdown",
   "id": "2e95ea43-6ddf-4d65-9558-ac4c4dbb3335",
   "metadata": {},
   "source": [
    "15. Accessors and Mutators\n",
    "\n",
    "Accessors (Getters): Provide read access to private attributes. Mutators (Setters): Provide write access to private attributes."
   ]
  },
  {
   "cell_type": "code",
   "execution_count": 11,
   "id": "b4fa75b2-a5b2-4fd1-8cfa-e45c99a2fa12",
   "metadata": {},
   "outputs": [],
   "source": [
    "class Example:\n",
    "    def __init__(self, value):\n",
    "        self.__value = value\n",
    "\n",
    "    @property\n",
    "    def value(self):\n",
    "        return self.__value\n",
    "\n",
    "    @value.setter\n",
    "    def value(self, value):\n",
    "        self.__value = value\n"
   ]
  },
  {
   "cell_type": "markdown",
   "id": "ca25dfd8-2e55-4a1f-b079-fe68290bf511",
   "metadata": {},
   "source": [
    "16. What are the potential drawbacks or disadvantages of using encapsulation in Python?"
   ]
  },
  {
   "cell_type": "markdown",
   "id": "b1c52acf-b104-4a48-8e3f-7239246b3ade",
   "metadata": {},
   "source": [
    "16. Drawbacks of Encapsulation\n",
    "\n",
    "Complexity: Adds additional layers of complexity to the code.\n",
    "\n",
    "Overhead: May lead to performance overhead due to additional method calls"
   ]
  },
  {
   "cell_type": "markdown",
   "id": "9172e298-13ff-4dc2-b508-44e0bb318c4d",
   "metadata": {},
   "source": [
    "17. Create a Python class for a library system that encapsulates book information, including titles, authors,\n",
    "and availability status."
   ]
  },
  {
   "cell_type": "code",
   "execution_count": 12,
   "id": "f90b5eeb-2420-4d2d-9797-ab836e0e3fb9",
   "metadata": {},
   "outputs": [],
   "source": [
    "class Book:\n",
    "    def __init__(self, title, author, availability):\n",
    "        self.__title = title\n",
    "        self.__author = author\n",
    "        self.__availability = availability\n",
    "\n",
    "    def check_availability(self):\n",
    "        return self.__availability\n",
    "\n",
    "    def update_availability(self, status):\n",
    "        self.__availability = status\n"
   ]
  },
  {
   "cell_type": "markdown",
   "id": "00113941-b9fe-440c-b838-84753ca26c1c",
   "metadata": {},
   "source": [
    "18. Explain how encapsulation enhances code reusability and modularity in Python programs."
   ]
  },
  {
   "cell_type": "markdown",
   "id": "7b683c83-a394-428f-bf3f-f6636c2031f1",
   "metadata": {},
   "source": [
    "18. Encapsulation and Code Reusability\n",
    "\n",
    "Encapsulation enhances reusability by allowing you to create modular and self-contained classes. It simplifies code maintenance and debugging by limiting changes to specific areas."
   ]
  },
  {
   "cell_type": "markdown",
   "id": "e5414b5a-1d7a-4740-88d4-6ef875584ed2",
   "metadata": {},
   "source": [
    "19. Describe the concept of information hiding in encapsulation. Why is it essential in software development?"
   ]
  },
  {
   "cell_type": "markdown",
   "id": "36dbe706-19c5-4b36-bafc-27fbd1bca8cf",
   "metadata": {},
   "source": [
    "19. Information Hiding\n",
    "\n",
    "Information hiding is the practice of concealing the implementation details of a class. It is essential for creating reliable and maintainable software by ensuring that the internal workings of a class are not exposed unnecessarily"
   ]
  },
  {
   "cell_type": "markdown",
   "id": "10386f74-6191-4dc1-9d18-775a653b97be",
   "metadata": {},
   "source": [
    "20. Create a Python class called `Customer` with private attributes for customer details like name, address,\n",
    "and contact information. Implement encapsulation to ensure data integrity and security."
   ]
  },
  {
   "cell_type": "code",
   "execution_count": 13,
   "id": "3419d810-8f12-465f-91ad-c2d3f5109f1e",
   "metadata": {},
   "outputs": [],
   "source": [
    "class Customer:\n",
    "    def __init__(self, name, address, contact_info):\n",
    "        self.__name = name\n",
    "        self.__address = address\n",
    "        self.__contact_info = contact_info\n",
    "\n",
    "    @property\n",
    "    def name(self):\n",
    "        return self.__name\n",
    "\n",
    "    @name.setter\n",
    "    def name(self, value):\n",
    "        self.__name = value\n",
    "\n",
    "    @property\n",
    "    def address(self):\n",
    "        return self.__address\n",
    "\n",
    "    @address.setter\n",
    "    def address(self, value):\n",
    "        self.__address = value\n",
    "\n",
    "    @property\n",
    "    def contact_info(self):\n",
    "        return self.__contact_info\n",
    "\n",
    "    @contact_info.setter\n",
    "    def contact_info(self, value):\n",
    "        self.__contact_info = value\n"
   ]
  },
  {
   "cell_type": "code",
   "execution_count": null,
   "id": "b7c42f5e-cb85-4bcb-9008-fe1843eea5e4",
   "metadata": {},
   "outputs": [],
   "source": []
  },
  {
   "cell_type": "code",
   "execution_count": null,
   "id": "e073e0b3-f7b5-4f15-8870-0dd9532be19a",
   "metadata": {},
   "outputs": [],
   "source": []
  }
 ],
 "metadata": {
  "kernelspec": {
   "display_name": "Python 3 (ipykernel)",
   "language": "python",
   "name": "python3"
  },
  "language_info": {
   "codemirror_mode": {
    "name": "ipython",
    "version": 3
   },
   "file_extension": ".py",
   "mimetype": "text/x-python",
   "name": "python",
   "nbconvert_exporter": "python",
   "pygments_lexer": "ipython3",
   "version": "3.11.7"
  }
 },
 "nbformat": 4,
 "nbformat_minor": 5
}
