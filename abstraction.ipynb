{
 "cells": [
  {
   "cell_type": "markdown",
   "id": "8330179b-77af-4daf-a268-4415578e11ba",
   "metadata": {},
   "source": [
    "1. What is abstraction in Python, and how does it relate to object-oriented programming?\n",
    "\n",
    "Abstraction in Python is a concept in object-oriented programming (OOP) where the focus is on hiding the complex implementation details of a class and exposing only the necessary features to the user. It allows the user to interact with an object through a simplified interface, without needing to understand the underlying complexity. This is achieved by defining abstract classes and methods.\n",
    "\n",
    "In OOP, abstraction is achieved through:\n",
    "\n",
    "Abstract Classes: Classes that cannot be instantiated on their own and are meant to be subclassed. They define abstract methods that must be implemented by subclasses.\n",
    "Interfaces: Abstract methods or properties that are intended to be implemented by derived classes, ensuring that a common interface is followed."
   ]
  },
  {
   "cell_type": "markdown",
   "id": "90d8bbad-d388-464a-9596-800a901d1499",
   "metadata": {},
   "source": [
    "2. Describe the benefits of abstraction in terms of code organization and complexity reduction.\n",
    "\n",
    "Abstraction offers several benefits:\n",
    "\n",
    "Code Organization: By defining abstract classes and methods, you can create a clear hierarchy of classes, making the codebase easier to navigate and understand.\n",
    "\n",
    "Complexity Reduction: Abstraction helps manage complexity by allowing developers to work with higher-level interfaces rather than dealing with low-level details. This makes it easier to maintain and extend code.\n",
    "\n",
    "Code Reusability: Common functionality can be defined in abstract classes and reused by multiple subclasses.\n",
    "Flexibility: Abstraction allows for changes in the implementation details without affecting the code that relies on the abstract interface."
   ]
  },
  {
   "cell_type": "markdown",
   "id": "cfef4447-bdcb-4155-940e-021780fc693a",
   "metadata": {},
   "source": [
    "3. Create a Python class called Shape with an abstract method calculate_area(). Then, create child classes (e.g., Circle, Rectangle) that implement the calculate_area() method. Provide an example of using these classes."
   ]
  },
  {
   "cell_type": "code",
   "execution_count": 1,
   "id": "f96da70c-229f-4921-8231-b575ff3fda75",
   "metadata": {},
   "outputs": [
    {
     "name": "stdout",
     "output_type": "stream",
     "text": [
      "Circle area: 78.53981633974483\n",
      "Rectangle area: 24\n"
     ]
    }
   ],
   "source": [
    "from abc import ABC, abstractmethod\n",
    "import math\n",
    "\n",
    "class Shape(ABC):\n",
    "    @abstractmethod\n",
    "    def calculate_area(self):\n",
    "        pass\n",
    "\n",
    "class Circle(Shape):\n",
    "    def __init__(self, radius):\n",
    "        self.radius = radius\n",
    "\n",
    "    def calculate_area(self):\n",
    "        return math.pi * (self.radius ** 2)\n",
    "\n",
    "class Rectangle(Shape):\n",
    "    def __init__(self, width, height):\n",
    "        self.width = width\n",
    "        self.height = height\n",
    "\n",
    "    def calculate_area(self):\n",
    "        return self.width * self.height\n",
    "\n",
    "# Example usage\n",
    "circle = Circle(5)\n",
    "rectangle = Rectangle(4, 6)\n",
    "\n",
    "print(f\"Circle area: {circle.calculate_area()}\")\n",
    "print(f\"Rectangle area: {rectangle.calculate_area()}\")\n"
   ]
  },
  {
   "cell_type": "markdown",
   "id": "eaef1135-e996-4169-8f35-d01b43738170",
   "metadata": {},
   "source": [
    "4. Explain the concept of abstract classes in Python and how they are defined using the abc module. Provide an example.\n",
    "\n",
    "Abstract classes in Python are classes that cannot be instantiated directly and are intended to be subclassed. They can include abstract methods, which are methods that must be implemented by any non-abstract subclass."
   ]
  },
  {
   "cell_type": "code",
   "execution_count": 2,
   "id": "3e2d48f1-a87f-4694-937c-90ea67a1cf5c",
   "metadata": {},
   "outputs": [],
   "source": [
    "from abc import ABC, abstractmethod\n",
    "\n",
    "class AbstractClass(ABC):\n",
    "    @abstractmethod\n",
    "    def abstract_method(self):\n",
    "        pass\n",
    "\n",
    "class ConcreteClass(AbstractClass):\n",
    "    def abstract_method(self):\n",
    "        return \"Implemented method\"\n"
   ]
  },
  {
   "cell_type": "markdown",
   "id": "6c8fcfc2-950b-44bb-8eec-9b9957deb728",
   "metadata": {},
   "source": [
    "In this example, AbstractClass is an abstract class with an abstract method abstract_method(). ConcreteClass is a subclass that implements abstract_method()."
   ]
  },
  {
   "cell_type": "markdown",
   "id": "0ae68945-5955-470b-af82-b068f7bac373",
   "metadata": {},
   "source": [
    "5. How do abstract classes differ from regular classes in Python? Discuss their use cases.\n",
    "\n",
    "Abstract classes differ from regular classes in the following ways:\n",
    "\n",
    "Instantiation: Abstract classes cannot be instantiated directly. Regular classes can be instantiated.\n",
    "\n",
    "Abstract Methods: Abstract classes can include abstract methods that must be implemented by subclasses. Regular classes do not have this restriction.\n",
    "Purpose: Abstract classes are used to define a common interface or base class that other classes should follow. They are meant to provide a blueprint for other classes.\n",
    "Use cases for abstract classes include:\n",
    "\n",
    "Defining a Common Interface: To ensure that all subclasses implement certain methods.\n",
    "Creating a Base Class: For shared functionality and enforcing a certain structure in a class hierarchy."
   ]
  },
  {
   "cell_type": "markdown",
   "id": "81fabea8-b552-4c7b-ab0a-1b4682bb9d2e",
   "metadata": {},
   "source": [
    "6. Create a Python class for a bank account and demonstrate abstraction by hiding the account balance and providing methods to deposit and withdraw funds."
   ]
  },
  {
   "cell_type": "code",
   "execution_count": 3,
   "id": "24568603-d5e8-4710-b456-f58176458b32",
   "metadata": {},
   "outputs": [
    {
     "name": "stdout",
     "output_type": "stream",
     "text": [
      "Account balance: 120\n"
     ]
    }
   ],
   "source": [
    "class BankAccount:\n",
    "    def __init__(self, initial_balance=0):\n",
    "        self._balance = initial_balance  # Hidden attribute\n",
    "\n",
    "    def deposit(self, amount):\n",
    "        if amount > 0:\n",
    "            self._balance += amount\n",
    "        else:\n",
    "            print(\"Deposit amount must be positive.\")\n",
    "\n",
    "    def withdraw(self, amount):\n",
    "        if 0 < amount <= self._balance:\n",
    "            self._balance -= amount\n",
    "        else:\n",
    "            print(\"Insufficient funds or invalid amount.\")\n",
    "\n",
    "    def get_balance(self):\n",
    "        return self._balance\n",
    "\n",
    "# Example usage\n",
    "account = BankAccount(100)\n",
    "account.deposit(50)\n",
    "account.withdraw(30)\n",
    "print(f\"Account balance: {account.get_balance()}\")\n"
   ]
  },
  {
   "cell_type": "markdown",
   "id": "8544dc51-a10e-4383-b179-a6ddd55a9b7e",
   "metadata": {},
   "source": [
    "In this example, the _balance attribute is hidden (by convention, with a leading underscore) and is manipulated only through deposit and withdraw methods."
   ]
  },
  {
   "cell_type": "markdown",
   "id": "8b648eb9-7edd-47e9-9ffe-afc8a008154a",
   "metadata": {},
   "source": [
    "7. Discuss the concept of interface classes in Python and their role in achieving abstraction.\n",
    "\n",
    "Interface classes in Python are classes that define a set of methods that must be implemented by any class that inherits from them. Unlike abstract classes, interface classes might not contain any implementation of the methods but only the method signatures.\n",
    "\n",
    "In Python, you typically achieve this using abstract base classes (ABCs) from the abc module, where you define methods that must be overridden in subclasses."
   ]
  },
  {
   "cell_type": "markdown",
   "id": "e4bb705b-f947-43e7-be00-c3fc0a7d78e9",
   "metadata": {},
   "source": [
    "8. Create a Python class hierarchy for animals and implement abstraction by defining common methods (e.g., eat(), sleep()) in an abstract base class."
   ]
  },
  {
   "cell_type": "code",
   "execution_count": 4,
   "id": "889b03f6-ddad-4aa9-86d8-37920a7b780d",
   "metadata": {},
   "outputs": [
    {
     "name": "stdout",
     "output_type": "stream",
     "text": [
      "Dog is eating\n",
      "Dog is sleeping\n",
      "Cat is eating\n",
      "Cat is sleeping\n"
     ]
    }
   ],
   "source": [
    "from abc import ABC, abstractmethod\n",
    "\n",
    "class Animal(ABC):\n",
    "    @abstractmethod\n",
    "    def eat(self):\n",
    "        pass\n",
    "\n",
    "    @abstractmethod\n",
    "    def sleep(self):\n",
    "        pass\n",
    "\n",
    "class Dog(Animal):\n",
    "    def eat(self):\n",
    "        return \"Dog is eating\"\n",
    "\n",
    "    def sleep(self):\n",
    "        return \"Dog is sleeping\"\n",
    "\n",
    "class Cat(Animal):\n",
    "    def eat(self):\n",
    "        return \"Cat is eating\"\n",
    "\n",
    "    def sleep(self):\n",
    "        return \"Cat is sleeping\"\n",
    "\n",
    "# Example usage\n",
    "dog = Dog()\n",
    "cat = Cat()\n",
    "\n",
    "print(dog.eat())\n",
    "print(dog.sleep())\n",
    "print(cat.eat())\n",
    "print(cat.sleep())\n"
   ]
  },
  {
   "cell_type": "markdown",
   "id": "a4a96704-1a7e-4ab2-9ddc-5c2d83714ac0",
   "metadata": {},
   "source": [
    "9. Explain the significance of encapsulation in achieving abstraction. Provide examples.\n",
    "\n",
    "Encapsulation is a key concept in OOP that involves bundling data (attributes) and methods that operate on the data into a single unit (a class) and restricting access to some of the object's components. This is achieved by making attributes private or protected and providing public methods to access or modify them.\n",
    "\n",
    "Encapsulation supports abstraction by hiding the internal state of an object and exposing only necessary parts through a public interface. For example"
   ]
  },
  {
   "cell_type": "code",
   "execution_count": 5,
   "id": "1f97a2c9-dd52-4215-9af1-8137eeff388b",
   "metadata": {},
   "outputs": [
    {
     "name": "stdout",
     "output_type": "stream",
     "text": [
      "150\n"
     ]
    }
   ],
   "source": [
    "class Account:\n",
    "    def __init__(self, balance):\n",
    "        self.__balance = balance  # Private attribute\n",
    "\n",
    "    def deposit(self, amount):\n",
    "        if amount > 0:\n",
    "            self.__balance += amount\n",
    "\n",
    "    def withdraw(self, amount):\n",
    "        if 0 < amount <= self.__balance:\n",
    "            self.__balance -= amount\n",
    "\n",
    "    def get_balance(self):\n",
    "        return self.__balance\n",
    "\n",
    "# Example usage\n",
    "acc = Account(100)\n",
    "acc.deposit(50)\n",
    "print(acc.get_balance())  # Outputs: 150\n"
   ]
  },
  {
   "cell_type": "markdown",
   "id": "4c688144-e574-41ac-9e61-fb27dcd8c2b1",
   "metadata": {},
   "source": [
    "10. What is the purpose of abstract methods, and how do they enforce abstraction in Python classes?\n",
    "\n",
    "Abstract methods are methods declared in an abstract class that have no implementation. They serve the following purposes:\n",
    "\n",
    "Enforcing Implementation: Subclasses must implement abstract methods, ensuring a consistent interface across different implementations.\n",
    "\n",
    "Defining a Contract: Abstract methods define a contract that derived classes must adhere to, providing a clear expectation of what methods should be available.\n",
    "By using abstract methods, you enforce that any concrete subclass provides specific behaviors, thus maintaining a clear and consistent structure in your code."
   ]
  },
  {
   "cell_type": "markdown",
   "id": "08d84041-5c1e-4000-8e69-7bae7dbe617e",
   "metadata": {},
   "source": [
    "11. Create a Python class for a vehicle system and demonstrate abstraction by defining common methods (e.g., start(), stop()) in an abstract base class"
   ]
  },
  {
   "cell_type": "code",
   "execution_count": 6,
   "id": "54f3984c-2ee0-4975-a238-f7ed10c7f806",
   "metadata": {},
   "outputs": [
    {
     "name": "stdout",
     "output_type": "stream",
     "text": [
      "Car started\n",
      "Car stopped\n",
      "Bike started\n",
      "Bike stopped\n"
     ]
    }
   ],
   "source": [
    "from abc import ABC, abstractmethod\n",
    "\n",
    "class Vehicle(ABC):\n",
    "    @abstractmethod\n",
    "    def start(self):\n",
    "        pass\n",
    "\n",
    "    @abstractmethod\n",
    "    def stop(self):\n",
    "        pass\n",
    "\n",
    "class Car(Vehicle):\n",
    "    def start(self):\n",
    "        return \"Car started\"\n",
    "\n",
    "    def stop(self):\n",
    "        return \"Car stopped\"\n",
    "\n",
    "class Bike(Vehicle):\n",
    "    def start(self):\n",
    "        return \"Bike started\"\n",
    "\n",
    "    def stop(self):\n",
    "        return \"Bike stopped\"\n",
    "\n",
    "# Example usage\n",
    "car = Car()\n",
    "bike = Bike()\n",
    "\n",
    "print(car.start())\n",
    "print(car.stop())\n",
    "print(bike.start())\n",
    "print(bike.stop())\n"
   ]
  },
  {
   "cell_type": "markdown",
   "id": "877ccb22-d0a1-4051-9001-1a8404d811af",
   "metadata": {},
   "source": [
    "12. Describe the use of abstract properties in Python and how they can be employed in abstract classes.\n",
    "\n",
    "Abstract properties are used to define properties in an abstract class that must be implemented by subclasses. They ensure that subclasses provide specific properties with getters and setters."
   ]
  },
  {
   "cell_type": "code",
   "execution_count": 7,
   "id": "b1e2a601-331b-4f89-a8de-fb380aaf859e",
   "metadata": {},
   "outputs": [
    {
     "name": "stdout",
     "output_type": "stream",
     "text": [
      "Circle area: 78.53981633974483\n"
     ]
    }
   ],
   "source": [
    "from abc import ABC, abstractmethod\n",
    "\n",
    "class Shape(ABC):\n",
    "    @property\n",
    "    @abstractmethod\n",
    "    def area(self):\n",
    "        pass\n",
    "\n",
    "class Circle(Shape):\n",
    "    def __init__(self, radius):\n",
    "        self.radius = radius\n",
    "\n",
    "    @property\n",
    "    def area(self):\n",
    "        return math.pi * (self.radius ** 2)\n",
    "\n",
    "# Example usage\n",
    "circle = Circle(5)\n",
    "print(f\"Circle area: {circle.area}\")\n"
   ]
  },
  {
   "cell_type": "markdown",
   "id": "b0781098-95e3-4639-9ff7-a038c7e7c60a",
   "metadata": {},
   "source": [
    "13. Create a Python class hierarchy for employees in a company (e.g., manager, developer, designer) and implement abstraction by defining a common get_salary() method."
   ]
  },
  {
   "cell_type": "code",
   "execution_count": 8,
   "id": "d2b0826f-e7ad-4bf9-80f9-31018bd91dda",
   "metadata": {},
   "outputs": [
    {
     "name": "stdout",
     "output_type": "stream",
     "text": [
      "Manager's salary: $60000\n",
      "Developer's salary: $45000\n",
      "Designer's salary: $38000\n"
     ]
    }
   ],
   "source": [
    "from abc import ABC, abstractmethod\n",
    "\n",
    "class Employee(ABC):\n",
    "    @abstractmethod\n",
    "    def get_salary(self):\n",
    "        pass\n",
    "\n",
    "class Manager(Employee):\n",
    "    def __init__(self, base_salary, bonus):\n",
    "        self.base_salary = base_salary\n",
    "        self.bonus = bonus\n",
    "\n",
    "    def get_salary(self):\n",
    "        return self.base_salary + self.bonus\n",
    "\n",
    "class Developer(Employee):\n",
    "    def __init__(self, base_salary, overtime_pay):\n",
    "        self.base_salary = base_salary\n",
    "        self.overtime_pay = overtime_pay\n",
    "\n",
    "    def get_salary(self):\n",
    "        return self.base_salary + self.overtime_pay\n",
    "\n",
    "class Designer(Employee):\n",
    "    def __init__(self, base_salary, project_bonus):\n",
    "        self.base_salary = base_salary\n",
    "        self.project_bonus = project_bonus\n",
    "\n",
    "    def get_salary(self):\n",
    "        return self.base_salary + self.project_bonus\n",
    "\n",
    "# Example usage\n",
    "manager = Manager(50000, 10000)\n",
    "developer = Developer(40000, 5000)\n",
    "designer = Designer(35000, 3000)\n",
    "\n",
    "print(f\"Manager's salary: ${manager.get_salary()}\")\n",
    "print(f\"Developer's salary: ${developer.get_salary()}\")\n",
    "print(f\"Designer's salary: ${designer.get_salary()}\")\n"
   ]
  },
  {
   "cell_type": "markdown",
   "id": "2944276f-b345-41a7-b8bc-954e4878c453",
   "metadata": {},
   "source": [
    "In this example, Employee is an abstract base class with an abstract method get_salary(). Each subclass (Manager, Developer, Designer) implements this method to calculate the salary based on different factors."
   ]
  },
  {
   "cell_type": "markdown",
   "id": "ac2944f6-bfe0-4bf6-a342-2f4829f2aa39",
   "metadata": {},
   "source": [
    "14. Discuss the differences between abstract classes and concrete classes in Python, including their instantiation.\n",
    "\n",
    "Abstract Classes:\n",
    "\n",
    "Instantiation: Abstract classes cannot be instantiated directly. They are meant to be subclasses and provide a blueprint for other classes.\n",
    "\n",
    "Purpose: They define methods and properties that must be implemented by subclasses. They can include abstract methods with no implementation.\n",
    "\n",
    "Usage: Used to establish a common interface or base class that other classes must adhere to.\n",
    "Concrete Classes:\n",
    "\n",
    "Instantiation: Concrete classes can be instantiated directly. They provide full implementations of methods and properties.\n",
    "\n",
    "Purpose: They implement or provide concrete behavior as defined by abstract classes or their own design.\n",
    "\n",
    "Usage: Used to create objects and perform actual operations defined by the class."
   ]
  },
  {
   "cell_type": "markdown",
   "id": "e7d8c4a7-d5c0-4808-80ae-f4b7fe0c9de8",
   "metadata": {},
   "source": [
    "15. Explain the concept of abstract data types (ADTs) and their role in achieving abstraction in Python.\n",
    "\n",
    "Abstract Data Types (ADTs) are theoretical concepts that define a data type by its behavior from the point of view of a user, specifically by the operations that can be performed on the data and the constraints on those operations. ADTs do not specify how the data is implemented but rather how it should behave.\n",
    "\n",
    "Role in Abstraction:\n",
    "\n",
    "Encapsulation: ADTs hide the details of implementation from the user, providing a clear interface for interacting with the data.\n",
    "Interchangeability: By focusing on behavior rather than implementation, different implementations of the same ADT can be used interchangeably.\n",
    "Modularity: ADTs support modular design by allowing components to interact through well-defined interfaces."
   ]
  },
  {
   "cell_type": "code",
   "execution_count": 9,
   "id": "dddce3f9-9b3e-40ce-a768-38c453c05ac5",
   "metadata": {},
   "outputs": [],
   "source": [
    "class Stack:\n",
    "    def __init__(self):\n",
    "        self._items = []\n",
    "\n",
    "    def push(self, item):\n",
    "        self._items.append(item)\n",
    "\n",
    "    def pop(self):\n",
    "        if not self.is_empty():\n",
    "            return self._items.pop()\n",
    "        raise IndexError(\"Pop from empty stack\")\n",
    "\n",
    "    def is_empty(self):\n",
    "        return len(self._items) == 0\n",
    "\n",
    "    def peek(self):\n",
    "        if not self.is_empty():\n",
    "            return self._items[-1]\n",
    "        raise IndexError(\"Peek from empty stack\")\n"
   ]
  },
  {
   "cell_type": "markdown",
   "id": "77f19836-55f1-46ab-ac35-35f50fe58071",
   "metadata": {},
   "source": [
    "16. Create a Python class for a computer system, demonstrating abstraction by defining common methods (e.g., power_on(), shutdown()) in an abstract base class."
   ]
  },
  {
   "cell_type": "code",
   "execution_count": 10,
   "id": "8e2888a1-5866-4589-afeb-d23abab2c09d",
   "metadata": {},
   "outputs": [
    {
     "name": "stdout",
     "output_type": "stream",
     "text": [
      "Desktop powering on\n",
      "Desktop shutting down\n",
      "Laptop powering on\n",
      "Laptop shutting down\n"
     ]
    }
   ],
   "source": [
    "from abc import ABC, abstractmethod\n",
    "\n",
    "class ComputerSystem(ABC):\n",
    "    @abstractmethod\n",
    "    def power_on(self):\n",
    "        pass\n",
    "\n",
    "    @abstractmethod\n",
    "    def shutdown(self):\n",
    "        pass\n",
    "\n",
    "class Desktop(ComputerSystem):\n",
    "    def power_on(self):\n",
    "        return \"Desktop powering on\"\n",
    "\n",
    "    def shutdown(self):\n",
    "        return \"Desktop shutting down\"\n",
    "\n",
    "class Laptop(ComputerSystem):\n",
    "    def power_on(self):\n",
    "        return \"Laptop powering on\"\n",
    "\n",
    "    def shutdown(self):\n",
    "        return \"Laptop shutting down\"\n",
    "\n",
    "# Example usage\n",
    "desktop = Desktop()\n",
    "laptop = Laptop()\n",
    "\n",
    "print(desktop.power_on())\n",
    "print(desktop.shutdown())\n",
    "print(laptop.power_on())\n",
    "print(laptop.shutdown())\n"
   ]
  },
  {
   "cell_type": "markdown",
   "id": "20caf7b8-6c2c-4624-9357-6653d0f3e989",
   "metadata": {},
   "source": [
    "17. Discuss the benefits of using abstraction in large-scale software development projects.\n",
    "Benefits of Abstraction in Large-Scale Projects:\n",
    "\n",
    "Improved Code Organization: Abstraction helps in organizing code by defining clear interfaces and hiding complex details, making the codebase easier to manage.\n",
    "\n",
    "Enhanced Maintainability: Changes in implementation details do not affect the code that uses the abstract interfaces, making the system easier to maintain and extend.\n",
    "\n",
    "Increased Flexibility: Abstraction allows for different implementations of the same interface, making it easier to adapt or replace components.\n",
    "\n",
    "Encapsulation of Complexity: By hiding complex logic and providing a simplified interface, abstraction makes it easier for developers to understand and use components without needing to know the internal workings."
   ]
  },
  {
   "cell_type": "markdown",
   "id": "602c23ea-b1ce-4634-9069-b9bb09c3b186",
   "metadata": {},
   "source": [
    "18. Explain how abstraction enhances code reusability and modularity in Python programs.\n",
    "Abstraction Enhances Reusability and Modularity:\n",
    "\n",
    "Code Reusability: Abstract classes and interfaces allow you to define common behaviors once and reuse them across multiple subclasses or modules. This reduces code duplication and promotes consistency.\n",
    "\n",
    "Modularity: Abstraction divides a program into distinct components that interact through well-defined interfaces. This modular approach makes it easier to develop, test, and maintain different parts of the program independently."
   ]
  },
  {
   "cell_type": "code",
   "execution_count": 11,
   "id": "bad6c8c4-55bf-49e2-8329-46fa9f35f09b",
   "metadata": {},
   "outputs": [
    {
     "name": "stdout",
     "output_type": "stream",
     "text": [
      "Bark\n",
      "Meow\n"
     ]
    }
   ],
   "source": [
    "class Animal(ABC):\n",
    "    @abstractmethod\n",
    "    def make_sound(self):\n",
    "        pass\n",
    "\n",
    "class Dog(Animal):\n",
    "    def make_sound(self):\n",
    "        return \"Bark\"\n",
    "\n",
    "class Cat(Animal):\n",
    "    def make_sound(self):\n",
    "        return \"Meow\"\n",
    "\n",
    "def print_animal_sound(animal: Animal):\n",
    "    print(animal.make_sound())\n",
    "\n",
    "# Usage\n",
    "dog = Dog()\n",
    "cat = Cat()\n",
    "\n",
    "print_animal_sound(dog)  # Outputs: Bark\n",
    "print_animal_sound(cat)  # Outputs: Meow\n"
   ]
  },
  {
   "cell_type": "markdown",
   "id": "4551ee1d-231e-4453-b282-edc3bd68be13",
   "metadata": {},
   "source": [
    "19. Create a Python class for a library system, implementing abstraction by defining common methods (e.g., add_book(), borrow_book()) in an abstract base class."
   ]
  },
  {
   "cell_type": "code",
   "execution_count": 12,
   "id": "f99c6dc9-60bf-4363-9e37-3582fce0850a",
   "metadata": {},
   "outputs": [
    {
     "name": "stdout",
     "output_type": "stream",
     "text": [
      "You borrowed '1984'\n",
      "'1984' is not available\n"
     ]
    }
   ],
   "source": [
    "from abc import ABC, abstractmethod\n",
    "\n",
    "class LibrarySystem(ABC):\n",
    "    @abstractmethod\n",
    "    def add_book(self, book_title):\n",
    "        pass\n",
    "\n",
    "    @abstractmethod\n",
    "    def borrow_book(self, book_title):\n",
    "        pass\n",
    "\n",
    "class PublicLibrary(LibrarySystem):\n",
    "    def __init__(self):\n",
    "        self.books = {}\n",
    "\n",
    "    def add_book(self, book_title):\n",
    "        self.books[book_title] = True\n",
    "\n",
    "    def borrow_book(self, book_title):\n",
    "        if self.books.get(book_title):\n",
    "            self.books[book_title] = False\n",
    "            return f\"You borrowed '{book_title}'\"\n",
    "        return f\"'{book_title}' is not available\"\n",
    "\n",
    "# Example usage\n",
    "library = PublicLibrary()\n",
    "library.add_book(\"1984\")\n",
    "print(library.borrow_book(\"1984\"))\n",
    "print(library.borrow_book(\"1984\"))  # Trying to borrow again\n"
   ]
  },
  {
   "cell_type": "markdown",
   "id": "6b7e3c59-53c6-4396-800f-5d3eb6df9023",
   "metadata": {},
   "source": [
    "20. Describe the concept of method abstraction in Python and how it relates to polymorphism.\n",
    "\n",
    "Method Abstraction: Method abstraction involves defining a method in an abstract class without providing an implementation. Subclasses that inherit from the abstract class are required to provide concrete implementations of these methods.\n",
    "\n",
    "Relation to Polymorphism:\n",
    "\n",
    "Polymorphism: This concept allows objects of different classes to be treated as objects of a common superclass. The method calls are resolved at runtime, allowing the same method to behave differently based on the object’s class."
   ]
  },
  {
   "cell_type": "code",
   "execution_count": 13,
   "id": "37e02142-20e3-4dbd-855b-82ed36c7e7ca",
   "metadata": {},
   "outputs": [
    {
     "name": "stdout",
     "output_type": "stream",
     "text": [
      "Drawing a Circle\n",
      "Drawing a Square\n"
     ]
    }
   ],
   "source": [
    "from abc import ABC, abstractmethod\n",
    "\n",
    "class Shape(ABC):\n",
    "    @abstractmethod\n",
    "    def draw(self):\n",
    "        pass\n",
    "\n",
    "class Circle(Shape):\n",
    "    def draw(self):\n",
    "        return \"Drawing a Circle\"\n",
    "\n",
    "class Square(Shape):\n",
    "    def draw(self):\n",
    "        return \"Drawing a Square\"\n",
    "\n",
    "def render_shape(shape: Shape):\n",
    "    print(shape.draw())\n",
    "\n",
    "# Example usage\n",
    "circle = Circle()\n",
    "square = Square()\n",
    "\n",
    "render_shape(circle)  # Outputs: Drawing a Circle\n",
    "render_shape(square)  # Outputs: Drawing a Square\n"
   ]
  },
  {
   "cell_type": "markdown",
   "id": "6f894336-13b0-450a-bc02-10d7c147e5ac",
   "metadata": {},
   "source": [
    "In this example, render_shape() can handle any object that is a subclass of Shape, demonstrating polymorphism through method abstraction."
   ]
  },
  {
   "cell_type": "code",
   "execution_count": null,
   "id": "8b9a1625-a085-405b-a602-3fe337f4dc09",
   "metadata": {},
   "outputs": [],
   "source": []
  },
  {
   "cell_type": "code",
   "execution_count": null,
   "id": "07bc59c7-3605-4fd8-8ec0-4bda498338d0",
   "metadata": {},
   "outputs": [],
   "source": []
  },
  {
   "cell_type": "code",
   "execution_count": null,
   "id": "4ac2270d-d51e-49bf-90f2-0415acb849ff",
   "metadata": {},
   "outputs": [],
   "source": []
  },
  {
   "cell_type": "code",
   "execution_count": null,
   "id": "cf0396f2-546e-4739-b30f-12e44784407e",
   "metadata": {},
   "outputs": [],
   "source": []
  },
  {
   "cell_type": "code",
   "execution_count": null,
   "id": "0dc88c62-fd5b-424d-b3dc-c7c7bfe780ec",
   "metadata": {},
   "outputs": [],
   "source": []
  },
  {
   "cell_type": "code",
   "execution_count": null,
   "id": "b14bd02c-1564-459f-9c92-9503dd5290da",
   "metadata": {},
   "outputs": [],
   "source": []
  },
  {
   "cell_type": "code",
   "execution_count": null,
   "id": "6826915a-d0b1-4ede-bce5-86ffab8cee4a",
   "metadata": {},
   "outputs": [],
   "source": []
  },
  {
   "cell_type": "code",
   "execution_count": null,
   "id": "ddbc0197-2e60-4ea7-9481-3e43f3813577",
   "metadata": {},
   "outputs": [],
   "source": []
  }
 ],
 "metadata": {
  "kernelspec": {
   "display_name": "Python 3 (ipykernel)",
   "language": "python",
   "name": "python3"
  },
  "language_info": {
   "codemirror_mode": {
    "name": "ipython",
    "version": 3
   },
   "file_extension": ".py",
   "mimetype": "text/x-python",
   "name": "python",
   "nbconvert_exporter": "python",
   "pygments_lexer": "ipython3",
   "version": "3.11.7"
  }
 },
 "nbformat": 4,
 "nbformat_minor": 5
}
