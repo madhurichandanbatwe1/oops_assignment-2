{
 "cells": [
  {
   "cell_type": "markdown",
   "id": "7b2bc003-c4c1-4e72-821e-568bd7748c05",
   "metadata": {},
   "source": [
    "1. Explain the concept of encapsulation in Python. What is its role in object-oriented programming?"
   ]
  },
  {
   "cell_type": "markdown",
   "id": "cf609dd9-52f0-45c0-b9cb-71a5c59d6908",
   "metadata": {},
   "source": [
    "Encapsulation is a fundamental concept in object-oriented programming (OOP) that refers to the bundling of data (attributes) and methods (functions) that operate on the data into a single unit called a class. It restricts direct access to some of the object's components, which is a means of preventing accidental interference and misuse of the data.\n",
    "\n",
    "Key Points of Encapsulation:\n",
    "Data Hiding:\n",
    "\n",
    "Encapsulation allows the internal representation of an object to be hidden from the outside. This is achieved by making attributes private (by prefixing their names with a double underscore, e.g., __attribute), and by providing public methods to access and modify these attributes (getter and setter methods).\n",
    "Control Access:\n",
    "\n",
    "It provides controlled access to the data. For example, you can validate values before updating an attribute to ensure that the object remains in a valid state.\n",
    "Modularity:\n",
    "\n",
    "Encapsulation helps in organizing and grouping related code together, making the code more modular and easier to manage.\n",
    "Security:\n",
    "\n",
    "By controlling access to the data, encapsulation helps in securing the data from unauthorized access and modification."
   ]
  },
  {
   "cell_type": "code",
   "execution_count": 1,
   "id": "19eeea8c-37aa-4bef-9341-22ba920b09ff",
   "metadata": {},
   "outputs": [
    {
     "name": "stdout",
     "output_type": "stream",
     "text": [
      "Added 50 to the balance\n",
      "Withdrew 30 from the balance\n",
      "120\n"
     ]
    }
   ],
   "source": [
    "class Account:\n",
    "    def __init__(self, owner, balance=0):\n",
    "        self.owner = owner\n",
    "        self.__balance = balance  # Private attribute\n",
    "\n",
    "    def deposit(self, amount):\n",
    "        if amount > 0:\n",
    "            self.__balance += amount\n",
    "            return f\"Added {amount} to the balance\"\n",
    "        else:\n",
    "            return \"Invalid amount\"\n",
    "\n",
    "    def withdraw(self, amount):\n",
    "        if 0 < amount <= self.__balance:\n",
    "            self.__balance -= amount\n",
    "            return f\"Withdrew {amount} from the balance\"\n",
    "        else:\n",
    "            return \"Invalid or insufficient amount\"\n",
    "\n",
    "    def get_balance(self):\n",
    "        return self.__balance  # Accessor method (getter)\n",
    "\n",
    "    def set_balance(self, amount):\n",
    "        if amount >= 0:\n",
    "            self.__balance = amount  # Mutator method (setter)\n",
    "        else:\n",
    "            return \"Invalid balance\"\n",
    "\n",
    "# Usage\n",
    "account = Account(\"John\", 100)\n",
    "print(account.deposit(50))  # Added 50 to the balance\n",
    "print(account.withdraw(30))  # Withdrew 30 from the balance\n",
    "print(account.get_balance())  # 120\n",
    "\n",
    "# Direct access to private attribute is not allowed\n",
    "# print(account.__balance)  # AttributeError: 'Account' object has no attribute '__balance'\n"
   ]
  },
  {
   "cell_type": "markdown",
   "id": "8d76b2b1-a2d9-4eb9-baf7-163fbaa1c8ec",
   "metadata": {},
   "source": [
    "In this example:\n",
    "\n",
    "The __balance attribute is private and cannot be accessed directly from outside the class.\n",
    "The get_balance and set_balance methods provide controlled access to the __balance attribute.\n",
    "The deposit and withdraw methods encapsulate the logic for modifying the balance, ensuring that the balance cannot be set to an invalid state directly.\n",
    "Role in Object-Oriented Programming:\n",
    "Encapsulation promotes the following principles in OOP:\n",
    "\n",
    "Abstraction: Hides the internal implementation details and shows only the necessary features of an object.\n",
    "Maintainability: Makes the code more manageable and easier to maintain, as changes to the internal implementation do not affect the external interface.\n",
    "Reusability: Encapsulated code can be reused across different parts of a program or in different programs without modification.\n",
    "Flexibility: Allows for the implementation to be changed or improved without affecting other parts of the program that rely on the object."
   ]
  },
  {
   "cell_type": "markdown",
   "id": "a56e1056-5948-4798-9806-e47ff853a7e3",
   "metadata": {},
   "source": [
    "2. Describe the key principles of encapsulation, including access control and data hiding"
   ]
  },
  {
   "cell_type": "markdown",
   "id": "e866b87d-4b94-4683-9bb3-4327fe578def",
   "metadata": {},
   "source": [
    "The key principles of encapsulation in object-oriented programming (OOP) include access control and data hiding. These principles ensure that the internal state of an object is protected from unauthorized access and modification, which contributes to the robustness and maintainability of the code.\n",
    "\n",
    "Key Principles of Encapsulation:\n",
    "Access Control:\n",
    "\n",
    "Public Access: Attributes and methods that are accessible from outside the class. In Python, these do not have any special prefix.\n",
    "Protected Access: Attributes and methods that are intended to be accessed within the class and its subclasses. In Python, these are prefixed with a single underscore (_).\n",
    "Private Access: Attributes and methods that are intended to be accessed only within the class itself. In Python, these are prefixed with a double underscore (__).\n",
    "Access control allows the programmer to define the visibility and accessibility of class members, ensuring that only appropriate interactions with the object's data and behavior are allowed"
   ]
  },
  {
   "cell_type": "code",
   "execution_count": 2,
   "id": "09d5c19a-1167-4b08-b2ab-1809fdf13438",
   "metadata": {},
   "outputs": [
    {
     "name": "stdout",
     "output_type": "stream",
     "text": [
      "I am public\n",
      "I am protected\n",
      "I am private\n"
     ]
    }
   ],
   "source": [
    "class Example:\n",
    "    def __init__(self):\n",
    "        self.public = \"I am public\"\n",
    "        self._protected = \"I am protected\"\n",
    "        self.__private = \"I am private\"\n",
    "\n",
    "    def get_private(self):\n",
    "        return self.__private\n",
    "\n",
    "obj = Example()\n",
    "print(obj.public)       # Accessible\n",
    "print(obj._protected)   # Accessible but discouraged\n",
    "# print(obj.__private)  # AttributeError\n",
    "print(obj.get_private()) # Accessible via a method\n"
   ]
  },
  {
   "cell_type": "markdown",
   "id": "84cb72a0-85eb-40dd-844e-ba3cc948db55",
   "metadata": {},
   "source": [
    "Data Hiding:\n",
    "\n",
    "Data hiding involves restricting direct access to an object's data. Instead of allowing direct access to the attributes, access is provided through methods (getters and setters). This prevents accidental or unauthorized modification of the object's state and allows for validation and error checking before any changes are made."
   ]
  },
  {
   "cell_type": "code",
   "execution_count": 3,
   "id": "12e10b8a-c43a-4d19-a424-03efec1c1c71",
   "metadata": {},
   "outputs": [
    {
     "name": "stdout",
     "output_type": "stream",
     "text": [
      "100\n",
      "150\n"
     ]
    }
   ],
   "source": [
    "class BankAccount:\n",
    "    def __init__(self, owner, balance=0):\n",
    "        self.owner = owner\n",
    "        self.__balance = balance  # Private attribute\n",
    "\n",
    "    def deposit(self, amount):\n",
    "        if amount > 0:\n",
    "            self.__balance += amount\n",
    "            return f\"Added {amount} to the balance\"\n",
    "        else:\n",
    "            return \"Invalid amount\"\n",
    "\n",
    "    def withdraw(self, amount):\n",
    "        if 0 < amount <= self.__balance:\n",
    "            self.__balance -= amount\n",
    "            return f\"Withdrew {amount} from the balance\"\n",
    "        else:\n",
    "            return \"Invalid or insufficient amount\"\n",
    "\n",
    "    def get_balance(self):\n",
    "        return self.__balance  # Accessor method (getter)\n",
    "\n",
    "    def set_balance(self, amount):\n",
    "        if amount >= 0:\n",
    "            self.__balance = amount  # Mutator method (setter)\n",
    "        else:\n",
    "            return \"Invalid balance\"\n",
    "\n",
    "account = BankAccount(\"Alice\", 100)\n",
    "print(account.get_balance())  # 100\n",
    "account.deposit(50)\n",
    "print(account.get_balance())  # 150\n"
   ]
  },
  {
   "cell_type": "markdown",
   "id": "279eec5d-2bf2-4a4b-a925-4aaab2cf9565",
   "metadata": {},
   "source": [
    "Benefits of Encapsulation:\n",
    "Improved Maintainability:\n",
    "\n",
    "Encapsulation helps in keeping the code modular and manageable. Changes to the internal implementation of a class do not affect code that uses the class.\n",
    "Increased Security:\n",
    "\n",
    "By restricting access to an object's internal state, encapsulation protects the data from unintended interference and corruption.\n",
    "Enhanced Flexibility:\n",
    "\n",
    "Encapsulation allows for the internal implementation of a class to be changed without affecting the external interface, providing greater flexibility in modifying and extending the code.\n",
    "Clearer Separation of Concerns:\n",
    "\n",
    "Encapsulation enforces a clear separation between an object's interface (what it does) and its implementation (how it does it), making the code easier to understand and use.\n",
    "By adhering to these principles, encapsulation ensures that objects are used and modified in a controlled and predictable manner, promoting better software design and development practices.\n",
    "\n",
    "\n",
    "\n",
    "\n",
    "\n",
    "\n"
   ]
  },
  {
   "cell_type": "markdown",
   "id": "3325c82e-6402-4116-a302-7d47970e9fe1",
   "metadata": {},
   "source": [
    "3. How can you achieve encapsulation in Python classes? Provide an example"
   ]
  },
  {
   "cell_type": "markdown",
   "id": "33582da7-f1f1-48d5-a7ea-27c1db891d6c",
   "metadata": {},
   "source": [
    "Encapsulation in Python classes can be achieved by using access specifiers to control the visibility of attributes and methods. In Python, this is typically done using:\n",
    "\n",
    "Public attributes and methods, which are accessible from anywhere.\n",
    "Protected attributes and methods, which are intended to be accessible within the class and its subclasses.\n",
    "Private attributes and methods, which are intended to be accessible only within the class itself.\n",
    "Here's an example demonstrating how to achieve encapsulation in Python:"
   ]
  },
  {
   "cell_type": "code",
   "execution_count": 4,
   "id": "59c1a42c-86a6-4699-94fd-0e3ea46992d3",
   "metadata": {},
   "outputs": [
    {
     "name": "stdout",
     "output_type": "stream",
     "text": [
      "Alice\n",
      "100\n",
      "Added 50 to the balance\n",
      "150\n",
      "Withdrew 30 from the balance\n",
      "120\n",
      "120\n",
      "This is a protected method\n",
      "This is a private method\n"
     ]
    }
   ],
   "source": [
    "class BankAccount:\n",
    "    def __init__(self, owner, balance=0):\n",
    "        self.owner = owner            # Public attribute\n",
    "        self._balance = balance       # Protected attribute\n",
    "\n",
    "    def deposit(self, amount):\n",
    "        if amount > 0:\n",
    "            self._balance += amount\n",
    "            return f\"Added {amount} to the balance\"\n",
    "        else:\n",
    "            return \"Invalid amount\"\n",
    "\n",
    "    def withdraw(self, amount):\n",
    "        if 0 < amount <= self._balance:\n",
    "            self._balance -= amount\n",
    "            return f\"Withdrew {amount} from the balance\"\n",
    "        else:\n",
    "            return \"Invalid or insufficient amount\"\n",
    "\n",
    "    def get_balance(self):\n",
    "        return self._balance          # Accessor method (getter)\n",
    "\n",
    "    def set_balance(self, amount):\n",
    "        if amount >= 0:\n",
    "            self._balance = amount    # Mutator method (setter)\n",
    "        else:\n",
    "            return \"Invalid balance\"\n",
    "\n",
    "    def _internal_method(self):\n",
    "        # A protected method meant for internal use\n",
    "        return \"This is a protected method\"\n",
    "\n",
    "    def __private_method(self):\n",
    "        # A private method meant for internal use only\n",
    "        return \"This is a private method\"\n",
    "\n",
    "# Usage\n",
    "account = BankAccount(\"Alice\", 100)\n",
    "print(account.owner)                # Accessible (Public)\n",
    "print(account.get_balance())        # 100 (Protected via getter method)\n",
    "\n",
    "# Deposit and Withdraw\n",
    "print(account.deposit(50))          # Added 50 to the balance\n",
    "print(account.get_balance())        # 150\n",
    "print(account.withdraw(30))         # Withdrew 30 from the balance\n",
    "print(account.get_balance())        # 120\n",
    "\n",
    "# Accessing Protected and Private Members\n",
    "print(account._balance)             # Accessible but discouraged (Protected)\n",
    "print(account._internal_method())   # Accessible but discouraged (Protected)\n",
    "# print(account.__private_method()) # AttributeError: 'BankAccount' object has no attribute '__private_method'\n",
    "\n",
    "# Accessing private method using name mangling\n",
    "print(account._BankAccount__private_method())  # This is a private method\n"
   ]
  },
  {
   "cell_type": "markdown",
   "id": "0ba970b9-63ae-4892-bcfb-2b3c5328bd5d",
   "metadata": {},
   "source": [
    "Explanation:\n",
    "Public Attribute:\n",
    "\n",
    "owner is a public attribute and can be accessed directly from outside the class.\n",
    "Protected Attribute:\n",
    "\n",
    "_balance is a protected attribute, intended to be accessed within the class and its subclasses. It can be accessed directly, but it's generally discouraged.\n",
    "Private Method:\n",
    "\n",
    "__private_method is a private method and can only be accessed within the class itself. To access it outside the class, you can use name mangling, which renames the method to _ClassName__methodName.\n",
    "Getter and Setter Methods:\n",
    "\n",
    "get_balance and set_balance are public methods that provide controlled access to the _balance attribute. This ensures that balance modifications are validated.\n",
    "Protected Method:\n",
    "\n",
    "_internal_method is a protected method intended for internal use within the class or its subclasses.\n",
    "By using these techniques, encapsulation helps to protect the internal state of the object and provides a clear and controlled interface for interacting with the object's data."
   ]
  },
  {
   "cell_type": "markdown",
   "id": "cdbbc63e-5a40-498a-ad3b-3f997273a6f6",
   "metadata": {},
   "source": [
    "4. Discuss the difference between public, private, and protected access modifiers in Python."
   ]
  },
  {
   "cell_type": "markdown",
   "id": "33696cd6-5eb1-47cd-84fa-f1c621b12f8f",
   "metadata": {},
   "source": [
    "In Python, access modifiers control the accessibility of class members (attributes and methods) from outside the class. Although Python does not have the same strict access control keywords (like public, private, and protected in languages like Java or C++), it uses naming conventions to indicate the intended level of access. These conventions are not enforced by the language itself but are a common practice among Python developers.\n",
    "\n",
    "1. Public Members:\n",
    "Public members are accessible from anywhere, both inside and outside the class. In Python, any attribute or method that is not prefixed with an underscore is considered public.\n",
    "\n",
    "Naming Convention: No prefix or a single underscore for protected members (see below)."
   ]
  },
  {
   "cell_type": "code",
   "execution_count": 5,
   "id": "10ba4613-f94d-4c8b-a814-d62967ebb9bc",
   "metadata": {},
   "outputs": [
    {
     "name": "stdout",
     "output_type": "stream",
     "text": [
      "Hello\n",
      "This is a public method\n"
     ]
    }
   ],
   "source": [
    "class PublicExample:\n",
    "    def __init__(self, value):\n",
    "        self.public_attribute = value\n",
    "\n",
    "    def public_method(self):\n",
    "        return \"This is a public method\"\n",
    "\n",
    "obj = PublicExample(\"Hello\")\n",
    "print(obj.public_attribute)  # Accessible from outside\n",
    "print(obj.public_method())   # Accessible from outside\n"
   ]
  },
  {
   "cell_type": "markdown",
   "id": "a9bc9cbe-62c8-46a5-a40a-ccc3732d335b",
   "metadata": {},
   "source": [
    "2. Protected Members:\n",
    "Protected members are intended to be accessed only within the class and its subclasses. They are not meant to be used outside the class hierarchy. However, this is a convention rather than a strict rule, as Python does not enforce this access control.\n",
    "\n",
    "Naming Convention: Prefix with a single underscore (_)."
   ]
  },
  {
   "cell_type": "code",
   "execution_count": 6,
   "id": "76cccd1a-0403-4491-8aa2-920bd70dbe34",
   "metadata": {},
   "outputs": [
    {
     "name": "stdout",
     "output_type": "stream",
     "text": [
      "Hello\n",
      "This is a protected method\n"
     ]
    }
   ],
   "source": [
    "class ProtectedExample:\n",
    "    def __init__(self, value):\n",
    "        self._protected_attribute = value\n",
    "\n",
    "    def _protected_method(self):\n",
    "        return \"This is a protected method\"\n",
    "\n",
    "obj = ProtectedExample(\"Hello\")\n",
    "print(obj._protected_attribute)  # Accessible but discouraged\n",
    "print(obj._protected_method())   # Accessible but discouraged\n"
   ]
  },
  {
   "cell_type": "markdown",
   "id": "22f057cf-ce1a-400f-93e2-cdd2582a293c",
   "metadata": {},
   "source": [
    "3. Private Members:\n",
    "Private members are intended to be accessible only within the class in which they are defined. This is achieved through name mangling, where the attribute or method name is prefixed with two underscores (__). Python internally changes the name of the private member to include the class name, which makes it more difficult to access from outside the class.\n",
    "\n",
    "Naming Convention: Prefix with double underscores (__)."
   ]
  },
  {
   "cell_type": "code",
   "execution_count": 7,
   "id": "3835b8e3-82ce-45ff-bb39-d6331b041a57",
   "metadata": {},
   "outputs": [
    {
     "name": "stdout",
     "output_type": "stream",
     "text": [
      "Hello\n",
      "This is a private method\n"
     ]
    }
   ],
   "source": [
    "class PrivateExample:\n",
    "    def __init__(self, value):\n",
    "        self.__private_attribute = value\n",
    "\n",
    "    def __private_method(self):\n",
    "        return \"This is a private method\"\n",
    "\n",
    "    def access_private_method(self):\n",
    "        return self.__private_method()\n",
    "\n",
    "obj = PrivateExample(\"Hello\")\n",
    "# print(obj.__private_attribute)  # AttributeError: 'PrivateExample' object has no attribute '__private_attribute'\n",
    "# print(obj.__private_method())   # AttributeError: 'PrivateExample' object has no attribute '__private_method'\n",
    "\n",
    "# Accessing private members via name mangling\n",
    "print(obj._PrivateExample__private_attribute)  # \"Hello\"\n",
    "print(obj._PrivateExample__private_method())   # \"This is a private method\"\n"
   ]
  },
  {
   "cell_type": "markdown",
   "id": "769a23b0-a943-459f-9a9e-e384d543c349",
   "metadata": {},
   "source": [
    "Key Points to Remember:\n",
    "Public members can be accessed from anywhere.\n",
    "\n",
    "Protected members are intended for internal use within the class and its subclasses. Although they can be accessed from outside, it's considered a bad practice.\n",
    "\n",
    "Private members are intended for internal use within the class. They are not directly accessible outside the class, but can still be accessed using name mangling (by prepending _ClassName to the attribute name)."
   ]
  },
  {
   "cell_type": "markdown",
   "id": "732a0b12-4936-4c5d-99f4-e96196083022",
   "metadata": {},
   "source": [
    "5. Create a Python class called `Person` with a private attribute `__name`. Provide methods to get and set the \n",
    "name attribute"
   ]
  },
  {
   "cell_type": "code",
   "execution_count": 26,
   "id": "02b048af-a36e-4602-9149-2cd5881c3a40",
   "metadata": {},
   "outputs": [
    {
     "name": "stdout",
     "output_type": "stream",
     "text": [
      "madhu\n",
      "bhagu\n"
     ]
    }
   ],
   "source": [
    "class person:\n",
    "    def __init__(self,name):\n",
    "        self.__name=name\n",
    "    \n",
    "    @property \n",
    "    def name1(self):\n",
    "        return self.__name\n",
    "    \n",
    "    @name1.setter\n",
    "    def name1(self,name):\n",
    "        self.__name=name\n",
    "        \n",
    "    @name1.getter\n",
    "    def name1(self):\n",
    "        return self.__name\n",
    "    \n",
    "p=person('madhu')\n",
    "print(p.name1)\n",
    "p.name1='bhagu'\n",
    "print(p.name1)\n",
    "    "
   ]
  },
  {
   "cell_type": "markdown",
   "id": "eae62f07-a7f6-4c43-af1f-7c6202888ea1",
   "metadata": {},
   "source": [
    "6. Explain the purpose of getter and setter methods in encapsulation. Provide examples"
   ]
  },
  {
   "cell_type": "code",
   "execution_count": 27,
   "id": "525256ee-c3c2-4493-9448-9f7c83a3f247",
   "metadata": {},
   "outputs": [
    {
     "name": "stdout",
     "output_type": "stream",
     "text": [
      "Alice\n",
      "30\n",
      "Bob\n",
      "35\n",
      "Name must be a non-empty string\n",
      "Age must be an integer between 0 and 120\n"
     ]
    }
   ],
   "source": [
    "class Person:\n",
    "    def __init__(self, name, age):\n",
    "        self.__name = name  # Private attribute\n",
    "        self.__age = age    # Private attribute\n",
    "\n",
    "    @property\n",
    "    def name(self):\n",
    "        return self.__name  # Getter method for name\n",
    "\n",
    "    @name.setter\n",
    "    def name(self, name):\n",
    "        if isinstance(name, str) and name:\n",
    "            self.__name = name  # Setter method for name with validation\n",
    "        else:\n",
    "            raise ValueError(\"Name must be a non-empty string\")\n",
    "\n",
    "    @property\n",
    "    def age(self):\n",
    "        return self.__age  # Getter method for age\n",
    "\n",
    "    @age.setter\n",
    "    def age(self, age):\n",
    "        if isinstance(age, int) and 0 <= age <= 120:\n",
    "            self.__age = age  # Setter method for age with validation\n",
    "        else:\n",
    "            raise ValueError(\"Age must be an integer between 0 and 120\")\n",
    "\n",
    "# Usage\n",
    "p = Person('Alice', 30)\n",
    "print(p.name)  # Outputs: Alice\n",
    "print(p.age)   # Outputs: 30\n",
    "\n",
    "# Using the setter methods\n",
    "p.name = 'Bob'\n",
    "p.age = 35\n",
    "print(p.name)  # Outputs: Bob\n",
    "print(p.age)   # Outputs: 35\n",
    "\n",
    "# Trying to set invalid values\n",
    "try:\n",
    "    p.name = ''  # Raises ValueError: Name must be a non-empty string\n",
    "except ValueError as e:\n",
    "    print(e)\n",
    "\n",
    "try:\n",
    "    p.age = 150  # Raises ValueError: Age must be an integer between 0 and 120\n",
    "except ValueError as e:\n",
    "    print(e)\n"
   ]
  },
  {
   "cell_type": "markdown",
   "id": "d9a61abf-3258-4787-9b5b-321563f30e5e",
   "metadata": {},
   "source": [
    "Explanation\n",
    "Initialization:\n",
    "\n",
    "The __init__ method initializes the private attributes __name and __age with the provided values.\n",
    "Getter Methods:\n",
    "\n",
    "The name property method acts as a getter for the __name attribute, and the age property method acts as a getter for the __age attribute.\n",
    "Setter Methods:\n",
    "\n",
    "The name setter method includes validation to ensure that the name is a non-empty string.\n",
    "The age setter method includes validation to ensure that the age is an integer between 0 and 120."
   ]
  },
  {
   "cell_type": "markdown",
   "id": "940fbd11-448a-429a-b492-1a4e69b3aacc",
   "metadata": {},
   "source": [
    "7. What is name mangling in Python, and how does it affect encapsulation"
   ]
  },
  {
   "cell_type": "markdown",
   "id": "f96470ed-beb9-4a68-be24-1d134120dd6e",
   "metadata": {},
   "source": [
    "Name mangling is a mechanism used in Python to make attributes and methods with double underscores (__) before their names more secure from being accidentally overridden or accessed from outside the class. It effectively alters the name of the attribute to include the class name, which helps to avoid naming conflicts in subclasses and external code.\n",
    "\n",
    "How Name Mangling Works\n",
    "When you define a private attribute or method with a name that starts with two underscores, Python internally changes the name of that attribute or method by adding _ClassName as a prefix. This process is known as name mangling.\n",
    "\n",
    "For example, if you define a class Person with a private attribute __name, Python will internally change the name of the attribute to _Person__name.\n",
    "\n",
    "Example of Name Mangling"
   ]
  },
  {
   "cell_type": "code",
   "execution_count": 28,
   "id": "948372e5-b4e4-47c0-862a-77b69a12b45f",
   "metadata": {},
   "outputs": [
    {
     "name": "stdout",
     "output_type": "stream",
     "text": [
      "Alice\n",
      "Alice\n"
     ]
    }
   ],
   "source": [
    "class Person:\n",
    "    def __init__(self, name):\n",
    "        self.__name = name  # Private attribute\n",
    "\n",
    "    def get_name(self):\n",
    "        return self.__name  # Accessing the private attribute\n",
    "\n",
    "# Usage\n",
    "p = Person('Alice')\n",
    "print(p.get_name())          # Outputs: Alice\n",
    "# print(p.__name)           # AttributeError: 'Person' object has no attribute '__name'\n",
    "\n",
    "# Accessing the mangled name directly\n",
    "print(p._Person__name)       # Outputs: Alice\n"
   ]
  },
  {
   "cell_type": "markdown",
   "id": "09da47dc-8f73-4a9c-94a8-ea72f551aa21",
   "metadata": {},
   "source": [
    "    8. Create a Python class called `BankAccount` with private attributes for the account balance (`__balance`) and account number (`__account_number`). Provide methods for depositing and withdrawing mone"
   ]
  },
  {
   "cell_type": "code",
   "execution_count": 34,
   "id": "7d9f49b2-3a41-405e-9bd9-64455497b2d9",
   "metadata": {},
   "outputs": [
    {
     "name": "stdout",
     "output_type": "stream",
     "text": [
      "100200\n",
      "100000\n"
     ]
    }
   ],
   "source": [
    "class bankaccount:\n",
    "    def __init__(self,balance,account_number):\n",
    "        self.__balance=balance\n",
    "        self.__account_number=account_number\n",
    "        \n",
    "    def deposit(self,amt):\n",
    "        self.__balance=self.__balance+amt\n",
    "        return self.__balance\n",
    "    \n",
    "    def withdraw(self,amt):\n",
    "        self.__balance=self.__balance-amt\n",
    "        return self.__balance\n",
    "    \n",
    "bc=bankaccount(100000,2345)\n",
    "new_bal=bc.deposit(200)\n",
    "print(new_bal)\n",
    "new_bal1=bc.withdraw(200)\n",
    "print(new_bal1)"
   ]
  },
  {
   "cell_type": "markdown",
   "id": "cc6133ff-47aa-40dc-b90d-26cc87ab509d",
   "metadata": {},
   "source": [
    "9. Discuss the advantages of encapsulation in terms of code maintainability and securit"
   ]
  },
  {
   "cell_type": "markdown",
   "id": "7a0848ca-e68f-4a6d-9330-368d289cda2f",
   "metadata": {},
   "source": [
    "Encapsulation is a fundamental principle of object-oriented programming (OOP) that involves bundling the data (attributes) and the methods (functions) that operate on the data into a single unit, typically a class. This concept also restricts direct access to some of the object's components, which can only be modified through well-defined interfaces (methods). Here are the advantages of encapsulation in terms of code maintainability and security:\n",
    "\n",
    "### Code Maintainability\n",
    "1. **Modularity**:\n",
    "   - Encapsulation allows the internal implementation of a class to be hidden from the rest of the application. This means changes to the internal workings of a class can be made with minimal impact on the rest of the codebase, as long as the public interface remains consistent.\n",
    "\n",
    "2. **Ease of Updates**:\n",
    "   - Since the implementation details are hidden, developers can update or improve the internal workings of a class without affecting other parts of the program that depend on it. This makes the code easier to maintain and extend over time.\n",
    "\n",
    "3. **Reduced Complexity**:\n",
    "   - Encapsulation helps in managing complexity by keeping classes focused on a single responsibility. This makes understanding and managing the code easier, as each class has a clear and distinct role.\n",
    "\n",
    "4. **Improved Debugging**:\n",
    "   - Encapsulated code segments are easier to debug. Since each class is responsible for its own data and behavior, it is easier to isolate and fix bugs within a specific class.\n",
    "\n",
    "5. **Clearer Interfaces**:\n",
    "   - Encapsulation forces developers to define clear interfaces for interacting with an object's data. This makes the code more readable and easier to understand, as it is clear how to use each class and what each method does.\n",
    "\n",
    "### Security\n",
    "1. **Data Protection**:\n",
    "   - By restricting direct access to the data (attributes) of an object, encapsulation protects the integrity of the data. This ensures that data can only be modified in controlled ways, typically through setter methods that can include validation and error-checking logic.\n",
    "\n",
    "2. **Controlled Access**:\n",
    "   - Encapsulation allows for controlled access to the data and methods of a class. Through the use of access modifiers (like private, protected, and public), developers can control which parts of the code can access certain data or methods. This minimizes the risk of unintended interference and misuse.\n",
    "\n",
    "3. **Prevents Inconsistent States**:\n",
    "   - Encapsulation ensures that an object cannot be put into an invalid or inconsistent state. By validating input data within setter methods, encapsulation ensures that only valid data can be assigned to an object's attributes.\n",
    "\n",
    "4. **Encourages Good Coding Practices**:\n",
    "   - Encapsulation encourages developers to think about the design and structure of their code more carefully. By forcing developers to consider how data and methods are accessed and modified, encapsulation promotes the creation of well-defined and secure code structures.\n",
    "\n",
    "5. **Encapsulation and Inheritance**:\n",
    "   - Encapsulation works hand-in-hand with inheritance to provide a mechanism for extending existing classes in a secure and controlled manner. By using protected attributes and methods, base classes can allow derived classes to access certain data and behaviors without exposing them to the rest of the program.\n",
    "\n",
    "Overall, encapsulation enhances code maintainability by promoting modularity, reducing complexity, and facilitating easier updates and debugging. It improves security by protecting data, controlling access, preventing inconsistent states, and encouraging good coding practices."
   ]
  },
  {
   "cell_type": "markdown",
   "id": "eb8e7357-3c5b-4719-a78e-69e97ccedf90",
   "metadata": {},
   "source": [
    "10. How can you access private attributes in Python? Provide an example demonstrating the use of name \n",
    "mangling."
   ]
  },
  {
   "cell_type": "markdown",
   "id": "87af4006-5c6d-4aad-aa71-29df5c255008",
   "metadata": {},
   "source": [
    "In Python, private attributes are denoted by prefixing the attribute name with double underscores (__). This triggers name mangling, where the attribute name is changed in a way that makes it harder to accidentally access it from outside the class. However, it is still possible to access these attributes if needed by using the mangled name.\n",
    "\n",
    "Here's an example demonstrating the use of name mangling:"
   ]
  },
  {
   "cell_type": "code",
   "execution_count": 35,
   "id": "f4864dc4-7120-4a6e-bb3f-595a116d4e51",
   "metadata": {},
   "outputs": [
    {
     "name": "stdout",
     "output_type": "stream",
     "text": [
      "Access using public method: 42\n",
      "Access using name mangling: 42\n",
      "Error: 'ExampleClass' object has no attribute '__private_attribute'\n"
     ]
    }
   ],
   "source": [
    "class ExampleClass:\n",
    "    def __init__(self, value):\n",
    "        self.__private_attribute = value\n",
    "\n",
    "    def get_private_attribute(self):\n",
    "        return self.__private_attribute\n",
    "\n",
    "# Creating an instance of the class\n",
    "example = ExampleClass(42)\n",
    "\n",
    "# Accessing the private attribute using the public method\n",
    "print(\"Access using public method:\", example.get_private_attribute())\n",
    "\n",
    "# Accessing the private attribute directly using name mangling\n",
    "# The name is mangled to _ClassName__attributeName\n",
    "print(\"Access using name mangling:\", example._ExampleClass__private_attribute)\n",
    "\n",
    "# Attempting to access the private attribute directly without name mangling\n",
    "# This will result in an AttributeError\n",
    "try:\n",
    "    print(\"Direct access attempt:\", example.__private_attribute)\n",
    "except AttributeError as e:\n",
    "    print(\"Error:\", e)\n"
   ]
  },
  {
   "cell_type": "markdown",
   "id": "aca81427-73f3-4aa1-b0e0-cbe137024eae",
   "metadata": {},
   "source": [
    "11. Create a Python class hierarchy for a school system, including classes for students, teachers, and courses, \n",
    "and implement encapsulation principles to protect sensitive information"
   ]
  },
  {
   "cell_type": "code",
   "execution_count": 36,
   "id": "a6454724-d118-4849-999d-db3b07c80c11",
   "metadata": {},
   "outputs": [
    {
     "name": "stdout",
     "output_type": "stream",
     "text": [
      "Math Course Info: Course Name: Mathematics, Course Code: MTH101\n",
      "Enrolled Students: ['Student ID: S001, Name: Alice, Age: 20', 'Student ID: S002, Name: Bob, Age: 22']\n",
      "Student 1 Info: Student ID: S001, Name: Alice, Age: 20\n",
      "Teacher 1 Info: Employee ID: T001, Name: Dr. Smith, Age: 40\n"
     ]
    }
   ],
   "source": [
    "class Course:\n",
    "    def __init__(self, course_name, course_code):\n",
    "        self.__course_name = course_name\n",
    "        self.__course_code = course_code\n",
    "        self.__enrolled_students = []\n",
    "\n",
    "    def add_student(self, student):\n",
    "        if isinstance(student, Student) and student not in self.__enrolled_students:\n",
    "            self.__enrolled_students.append(student)\n",
    "        else:\n",
    "            print(\"Invalid student or student already enrolled\")\n",
    "\n",
    "    def get_course_info(self):\n",
    "        return f\"Course Name: {self.__course_name}, Course Code: {self.__course_code}\"\n",
    "\n",
    "    def get_enrolled_students(self):\n",
    "        return [student.get_student_info() for student in self.__enrolled_students]\n",
    "\n",
    "class Person:\n",
    "    def __init__(self, name, age):\n",
    "        self.__name = name\n",
    "        self.__age = age\n",
    "\n",
    "    def get_person_info(self):\n",
    "        return f\"Name: {self.__name}, Age: {self.__age}\"\n",
    "\n",
    "class Student(Person):\n",
    "    def __init__(self, name, age, student_id):\n",
    "        super().__init__(name, age)\n",
    "        self.__student_id = student_id\n",
    "\n",
    "    def get_student_info(self):\n",
    "        return f\"Student ID: {self.__student_id}, {self.get_person_info()}\"\n",
    "\n",
    "class Teacher(Person):\n",
    "    def __init__(self, name, age, employee_id):\n",
    "        super().__init__(name, age)\n",
    "        self.__employee_id = employee_id\n",
    "\n",
    "    def get_teacher_info(self):\n",
    "        return f\"Employee ID: {self.__employee_id}, {self.get_person_info()}\"\n",
    "\n",
    "# Example usage\n",
    "math_course = Course(\"Mathematics\", \"MTH101\")\n",
    "science_course = Course(\"Science\", \"SCI102\")\n",
    "\n",
    "student1 = Student(\"Alice\", 20, \"S001\")\n",
    "student2 = Student(\"Bob\", 22, \"S002\")\n",
    "\n",
    "teacher1 = Teacher(\"Dr. Smith\", 40, \"T001\")\n",
    "\n",
    "math_course.add_student(student1)\n",
    "math_course.add_student(student2)\n",
    "\n",
    "print(\"Math Course Info:\", math_course.get_course_info())\n",
    "print(\"Enrolled Students:\", math_course.get_enrolled_students())\n",
    "print(\"Student 1 Info:\", student1.get_student_info())\n",
    "print(\"Teacher 1 Info:\", teacher1.get_teacher_info())\n"
   ]
  },
  {
   "cell_type": "markdown",
   "id": "bb1667e4-4921-4125-8a99-2bb943a4f76c",
   "metadata": {},
   "source": [
    "12. Explain the concept of property decorators in Python and how they relate to encapsulation"
   ]
  },
  {
   "cell_type": "markdown",
   "id": "9ddd6ec8-0c8c-4324-aae2-b9e55ecea387",
   "metadata": {},
   "source": [
    "In Python, property decorators are a powerful feature that provides a way to define methods in a class that can be accessed like attributes. They are used to manage access to private attributes and control how values are retrieved and set, thus relating closely to the concept of encapsulation.\n",
    "\n",
    "Concept of Property Decorators\n",
    "Property decorators in Python are used to define getter, setter, and deleter methods for an attribute. They allow you to define methods that can be accessed like attributes while still providing control over their access and modification. This is particularly useful for encapsulating data while maintaining a clean and intuitive interface.\n",
    "\n",
    "Property Decorator Syntax\n",
    "The property decorator is used to define a method as a property. It allows you to define a method that will be called when the property is accessed. Here’s a basic example:"
   ]
  },
  {
   "cell_type": "code",
   "execution_count": 37,
   "id": "7d749803-56a0-4a5b-8f63-baf5de2e3c56",
   "metadata": {},
   "outputs": [
    {
     "name": "stdout",
     "output_type": "stream",
     "text": [
      "Alice\n",
      "30\n",
      "Bob\n",
      "Age must be an integer between 0 and 120\n"
     ]
    }
   ],
   "source": [
    "class Person:\n",
    "    def __init__(self, name, age):\n",
    "        self.__name = name\n",
    "        self.__age = age\n",
    "\n",
    "    @property\n",
    "    def name(self):\n",
    "        return self.__name\n",
    "\n",
    "    @name.setter\n",
    "    def name(self, value):\n",
    "        if isinstance(value, str) and value:\n",
    "            self.__name = value\n",
    "        else:\n",
    "            raise ValueError(\"Name must be a non-empty string\")\n",
    "\n",
    "    @property\n",
    "    def age(self):\n",
    "        return self.__age\n",
    "\n",
    "    @age.setter\n",
    "    def age(self, value):\n",
    "        if isinstance(value, int) and 0 <= value <= 120:\n",
    "            self.__age = value\n",
    "        else:\n",
    "            raise ValueError(\"Age must be an integer between 0 and 120\")\n",
    "\n",
    "# Example usage\n",
    "person = Person(\"Alice\", 30)\n",
    "print(person.name)  # Accessing the property 'name'\n",
    "print(person.age)   # Accessing the property 'age'\n",
    "\n",
    "person.name = \"Bob\"  # Setting a new value for 'name'\n",
    "print(person.name)\n",
    "\n",
    "try:\n",
    "    person.age = 150  # Attempting to set an invalid age\n",
    "except ValueError as e:\n",
    "    print(e)\n"
   ]
  },
  {
   "cell_type": "markdown",
   "id": "947d9896-4cdb-4676-a07b-36b20ad1005a",
   "metadata": {},
   "source": [
    "Getter Method:\n",
    "\n",
    "The @property decorator is used to define a getter method for an attribute. It allows you to access the private attribute (__name or __age in this case) as if it were a public attribute.\n",
    "Setter Method:\n",
    "\n",
    "The @name.setter and @age.setter decorators are used to define setter methods that are called when a value is assigned to the property. This allows you to validate and control how the attribute is modified.\n",
    "Property as an Attribute:\n",
    "\n",
    "Despite being defined by methods, properties can be accessed like attributes, making the code more readable and intuitive.\n",
    "Encapsulation:\n",
    "\n",
    "Properties help maintain encapsulation by keeping internal data private and providing controlled access through getter and setter methods. This ensures that data can only be accessed or modified in well-defined ways, and validation can be enforced.\n",
    "Read-Only Properties:\n",
    "\n",
    "If only the getter method is defined and not the setter, the property becomes read-only. This means you can access the attribute but cannot modify it from outside the class."
   ]
  },
  {
   "cell_type": "markdown",
   "id": "bdf98e63-361c-4a69-a193-cad2ceaa3dfa",
   "metadata": {},
   "source": [
    "13. What is data hiding, and why is it important in encapsulation? Provide examples."
   ]
  },
  {
   "cell_type": "markdown",
   "id": "d9811796-c87f-4634-932b-8e8f89dc9454",
   "metadata": {},
   "source": [
    "Data hiding is a concept in object-oriented programming that involves restricting direct access to the internal state of an object. This is typically achieved by marking attributes as private or protected and providing controlled access through public methods. Data hiding is a key aspect of encapsulation, which aims to bundle data and the methods that operate on that data into a single unit (class) and control how the data is accessed and modified.\n",
    "\n",
    "Importance of Data Hiding\n",
    "Protection of Internal State:\n",
    "\n",
    "By hiding the internal state of an object, you prevent external code from directly modifying or corrupting the data. This helps maintain the integrity and consistency of the object's state.\n",
    "Control Over Data Access:\n",
    "\n",
    "Data hiding allows you to define how and when an object's data can be accessed or modified. This ensures that only valid operations are performed on the data, enforcing business rules and data integrity.\n",
    "Encapsulation:\n",
    "\n",
    "Data hiding is a fundamental part of encapsulation, which bundles data and methods into a single unit. It provides a clear interface for interacting with an object while keeping the internal implementation details hidden.\n",
    "Ease of Maintenance:\n",
    "\n",
    "Hiding the internal details of an object means you can change the internal implementation without affecting external code that uses the object. This makes the code easier to maintain and extend.\n",
    "Improved Debugging:\n",
    "\n",
    "When the internal state is hidden, you can more easily isolate and fix issues within the object. Since external code cannot directly access or modify the internal state, you can control how the state is modified and debug problems more effectively."
   ]
  },
  {
   "cell_type": "code",
   "execution_count": 38,
   "id": "87125d6c-31f5-477e-a41f-ce11ed25b76f",
   "metadata": {},
   "outputs": [
    {
     "name": "stdout",
     "output_type": "stream",
     "text": [
      "Initial Balance: 1000\n",
      "Balance after deposit: 1500\n",
      "Balance after withdrawal: 1300\n",
      "Balance cannot be negative\n"
     ]
    }
   ],
   "source": [
    "class BankAccount:\n",
    "    def __init__(self, balance):\n",
    "        self.__balance = balance  # Private attribute\n",
    "\n",
    "    @property\n",
    "    def balance(self):\n",
    "        return self.__balance  # Getter method for balance\n",
    "\n",
    "    @balance.setter\n",
    "    def balance(self, amount):\n",
    "        if amount >= 0:\n",
    "            self.__balance = amount  # Setter method for balance\n",
    "        else:\n",
    "            raise ValueError(\"Balance cannot be negative\")\n",
    "\n",
    "    def deposit(self, amount):\n",
    "        if amount > 0:\n",
    "            self.__balance += amount\n",
    "        else:\n",
    "            raise ValueError(\"Deposit amount must be positive\")\n",
    "\n",
    "    def withdraw(self, amount):\n",
    "        if 0 < amount <= self.__balance:\n",
    "            self.__balance -= amount\n",
    "        else:\n",
    "            raise ValueError(\"Insufficient funds or invalid amount\")\n",
    "\n",
    "# Example usage\n",
    "account = BankAccount(1000)\n",
    "\n",
    "print(\"Initial Balance:\", account.balance)\n",
    "\n",
    "account.deposit(500)\n",
    "print(\"Balance after deposit:\", account.balance)\n",
    "\n",
    "account.withdraw(200)\n",
    "print(\"Balance after withdrawal:\", account.balance)\n",
    "\n",
    "try:\n",
    "    account.balance = -100  # Attempting to set a negative balance\n",
    "except ValueError as e:\n",
    "    print(e)\n",
    "\n",
    "try:\n",
    "    account.__balance = 2000  # Attempting to directly modify private attribute\n",
    "except AttributeError as e:\n",
    "    print(\"Error:\", e)\n"
   ]
  },
  {
   "cell_type": "markdown",
   "id": "5cca5ba9-fa8a-4061-9b69-acb243adea5d",
   "metadata": {},
   "source": [
    "14. Create a Python class called `Employee` with private attributes for salary (`__salary`) and employee ID (`__employee_id`). Provide a method to calculate yearly bonuses"
   ]
  },
  {
   "cell_type": "code",
   "execution_count": 40,
   "id": "5355bf7e-09e4-4ed3-af9f-fbeef082f75f",
   "metadata": {},
   "outputs": [
    {
     "name": "stdout",
     "output_type": "stream",
     "text": [
      "50000.0\n"
     ]
    }
   ],
   "source": [
    "class employee:\n",
    "    def __init__(self,salary,employee_id):\n",
    "        self.__salary=salary\n",
    "        self.__employee_id=employee_id\n",
    "        \n",
    "    def yearly_bonus(self,bonus_percentage):\n",
    "        self.bonus=(self.__salary*bonus_percentage)/100\n",
    "        return self.bonus\n",
    "\n",
    "ut=employee(100000,9307)\n",
    "print(ut.yearly_bonus(50))"
   ]
  },
  {
   "cell_type": "markdown",
   "id": "160c6c68-501b-45b8-9c03-68caf175079d",
   "metadata": {},
   "source": [
    "15. Discuss the use of accessors and mutators in encapsulation. How do they help maintain control over \n",
    "attribute access?"
   ]
  },
  {
   "cell_type": "markdown",
   "id": "e8c26c3a-3c36-4174-9745-d25c857c00bf",
   "metadata": {},
   "source": [
    "Accessors and mutators are key components of encapsulation in object-oriented programming (OOP). They help maintain control over attribute access by managing how data is read from and written to an object's attributes. Here’s a deeper look at how they work:\n",
    "\n",
    "Accessors\n",
    "Accessors, also known as \"getter\" methods, are used to retrieve the value of an object's attribute. They provide a controlled way to access the private data of an object."
   ]
  },
  {
   "cell_type": "code",
   "execution_count": 41,
   "id": "8c9b0c56-a0db-4baa-8236-988cacee8d0c",
   "metadata": {},
   "outputs": [],
   "source": [
    "class Person:\n",
    "    def __init__(self, name, age):\n",
    "        self.__name = name\n",
    "        self.__age = age\n",
    "\n",
    "    def get_name(self):\n",
    "        return self.__name\n",
    "\n",
    "    def get_age(self):\n",
    "        return self.__age\n"
   ]
  },
  {
   "cell_type": "markdown",
   "id": "ce1ee9a0-b2a3-452c-acc0-37cbed15953c",
   "metadata": {},
   "source": [
    "Benefits:\n",
    "\n",
    "Read-Only Access: Accessors allow controlled read-only access to the attributes. They ensure that the internal state of an object is not directly exposed, maintaining control over how data is accessed.\n",
    "Validation: Accessor methods can include logic to format or validate the data before returning it.\n",
    "Mutators\n",
    "Mutators, or \"setter\" methods, are used to set or modify the value of an object's attribute. They provide a controlled way to change the data of an object."
   ]
  },
  {
   "cell_type": "code",
   "execution_count": 42,
   "id": "ab5bef30-6a53-4ca1-ba07-1ba1a7821d44",
   "metadata": {},
   "outputs": [],
   "source": [
    "class Person:\n",
    "    def __init__(self, name, age):\n",
    "        self.__name = name\n",
    "        self.__age = age\n",
    "\n",
    "    def set_name(self, name):\n",
    "        if isinstance(name, str) and name:\n",
    "            self.__name = name\n",
    "        else:\n",
    "            raise ValueError(\"Name must be a non-empty string.\")\n",
    "\n",
    "    def set_age(self, age):\n",
    "        if isinstance(age, int) and age > 0:\n",
    "            self.__age = age\n",
    "        else:\n",
    "            raise ValueError(\"Age must be a positive integer.\")\n"
   ]
  },
  {
   "cell_type": "markdown",
   "id": "e4120997-f991-4464-a147-4ffdde58528f",
   "metadata": {},
   "source": [
    "Benefits:\n",
    "\n",
    "Controlled Modification: Mutators allow controlled modification of the attributes. They can enforce constraints and validation rules, ensuring that the object’s state remains valid.\n",
    "Encapsulation: By using mutators, you hide the internal implementation details from the outside world, exposing only what is necessary.\n",
    "Encapsulation and Control\n",
    "Encapsulation is about bundling the data (attributes) and methods (accessors and mutators) that operate on the data into a single unit or class. Accessors and mutators play a crucial role in this by:\n",
    "\n",
    "Hiding Internal Data: They prevent direct access to the internal state of an object, allowing changes only through controlled interfaces.\n",
    "Ensuring Data Integrity: They ensure that any modification or retrieval of data goes through a controlled process, which can enforce rules and validation.\n",
    "Providing Flexibility: They allow changes to the internal representation of data without affecting external code that uses the class. For example, you could change the internal implementation of how data is stored but keep the public interface (accessors and mutators) the same.\n",
    "By using accessors and mutators, you can maintain a clean and reliable interface for interacting with the data of your objects, while keeping the implementation details hidden and protected"
   ]
  },
  {
   "cell_type": "markdown",
   "id": "9dc7b565-54e9-4907-8f63-e55e00e8c414",
   "metadata": {},
   "source": [
    "16. What are the potential drawbacks or disadvantages of using encapsulation in Python?"
   ]
  },
  {
   "cell_type": "markdown",
   "id": "3b76f6b5-b8c9-445a-b792-e7b3f460720f",
   "metadata": {},
   "source": [
    "While encapsulation provides several benefits, such as improving data security and modularity, it does come with potential drawbacks or disadvantages, particularly in the context of Python, where encapsulation is implemented in a more relaxed manner compared to some other languages. Here are some potential drawbacks:\n",
    "\n",
    "### 1. **Increased Complexity**\n",
    "   - **Learning Curve:** For beginners, encapsulation might introduce additional complexity in understanding how to properly structure classes and use accessors and mutators.\n",
    "   - **Code Overhead:** Implementing getters and setters can add boilerplate code, which might make the class more cumbersome and harder to read, especially in cases where attributes are simple and don’t require validation.\n",
    "\n",
    "### 2. **Performance Overheads**\n",
    "   - **Method Calls:** Accessing attributes through getters and setters introduces method calls, which can be slightly less efficient compared to direct attribute access. In performance-critical applications, this overhead might be noticeable.\n",
    "   - **Extra Layers:** Adding encapsulation layers with accessors and mutators might add unnecessary complexity for simple data structures where direct access is sufficient and safe.\n",
    "\n",
    "### 3. **Python’s Relaxed Encapsulation**\n",
    "   - **Weak Encapsulation:** Python’s approach to encapsulation is more relaxed. For instance, attributes prefixed with a single underscore (`_attribute`) are considered \"protected,\" and those with double underscores (`__attribute`) are \"private,\" but these conventions can be bypassed using name mangling. This can lead to situations where developers might inadvertently or intentionally access private attributes, undermining the encapsulation.\n",
    "   - **Conventional Enforcement:** Unlike languages with strict access controls (e.g., Java or C++), Python relies heavily on conventions rather than strict enforcement. This can lead to less predictable behavior and potential misuse of the class internals.\n",
    "\n",
    "### 4. **Maintenance Overhead**\n",
    "   - **Refactoring:** Changing the internal representation of a class might require updating multiple accessor and mutator methods, which can be tedious and error-prone.\n",
    "   - **Overuse:** Overusing encapsulation can sometimes lead to over-engineering, where the complexity introduced by numerous getters and setters outweighs the benefits. This can make the codebase harder to maintain and understand.\n",
    "\n",
    "### 5. **Limited Flexibility**\n",
    "   - **Inheritance Challenges:** Inheritance can complicate encapsulation. Subclasses might need to interact with or override methods of the superclass, leading to complex dependencies and potential issues if not managed carefully.\n",
    "\n",
    "### 6. **False Sense of Security**\n",
    "   - **Not a Security Mechanism:** Encapsulation is about data protection and abstraction, but it doesn’t inherently provide security against all forms of misuse or errors. It’s not a substitute for other forms of validation and security practices.\n",
    "\n",
    "### Summary\n",
    "While encapsulation is a powerful tool for managing complexity and ensuring data integrity, it is important to balance its use with considerations of code simplicity, performance, and Python’s inherent flexibility. Careful design decisions and a clear understanding of the trade-offs involved can help mitigate these potential drawbacks."
   ]
  },
  {
   "cell_type": "markdown",
   "id": "2c2df3ad-fd18-47b1-87ac-12603cb26eef",
   "metadata": {},
   "source": [
    "17. Create a Python class for a library system that encapsulates book information, including titles, authors, \n",
    "and availability status."
   ]
  },
  {
   "cell_type": "code",
   "execution_count": 43,
   "id": "de07235d-1972-4c18-83f9-03aa9362beb8",
   "metadata": {},
   "outputs": [
    {
     "name": "stdout",
     "output_type": "stream",
     "text": [
      "Title: The Great Gatsby, Author: F. Scott Fitzgerald, Status: Available\n",
      "Title: The Great Gatsby, Author: F. Scott Fitzgerald, Status: Checked Out\n",
      "Title: The Great Gatsby\n",
      "Author: F. Scott Fitzgerald\n",
      "Available: False\n"
     ]
    }
   ],
   "source": [
    "class Book:\n",
    "    def __init__(self, title, author, available=True):\n",
    "        self.__title = title\n",
    "        self.__author = author\n",
    "        self.__available = available\n",
    "\n",
    "    # Accessor methods\n",
    "    def get_title(self):\n",
    "        return self.__title\n",
    "\n",
    "    def get_author(self):\n",
    "        return self.__author\n",
    "\n",
    "    def is_available(self):\n",
    "        return self.__available\n",
    "\n",
    "    # Mutator methods\n",
    "    def set_title(self, title):\n",
    "        if isinstance(title, str) and title:\n",
    "            self.__title = title\n",
    "        else:\n",
    "            raise ValueError(\"Title must be a non-empty string.\")\n",
    "\n",
    "    def set_author(self, author):\n",
    "        if isinstance(author, str) and author:\n",
    "            self.__author = author\n",
    "        else:\n",
    "            raise ValueError(\"Author must be a non-empty string.\")\n",
    "\n",
    "    def set_availability(self, available):\n",
    "        if isinstance(available, bool):\n",
    "            self.__available = available\n",
    "        else:\n",
    "            raise ValueError(\"Availability must be a boolean value.\")\n",
    "\n",
    "    def __str__(self):\n",
    "        availability_status = \"Available\" if self.__available else \"Checked Out\"\n",
    "        return f\"Title: {self.__title}, Author: {self.__author}, Status: {availability_status}\"\n",
    "\n",
    "# Example usage\n",
    "if __name__ == \"__main__\":\n",
    "    # Create a new book\n",
    "    book1 = Book(\"The Great Gatsby\", \"F. Scott Fitzgerald\")\n",
    "    \n",
    "    # Display book information\n",
    "    print(book1)  # Output: Title: The Great Gatsby, Author: F. Scott Fitzgerald, Status: Available\n",
    "    \n",
    "    # Update availability\n",
    "    book1.set_availability(False)\n",
    "    \n",
    "    # Display updated book information\n",
    "    print(book1)  # Output: Title: The Great Gatsby, Author: F. Scott Fitzgerald, Status: Checked Out\n",
    "    \n",
    "    # Access book details\n",
    "    print(\"Title:\", book1.get_title())  # Output: Title: The Great Gatsby\n",
    "    print(\"Author:\", book1.get_author())  # Output: Author: F. Scott Fitzgerald\n",
    "    print(\"Available:\", book1.is_available())  # Output: Available: False\n"
   ]
  },
  {
   "cell_type": "markdown",
   "id": "11de95c8-6705-4f26-bd7c-6bfcedb20d14",
   "metadata": {},
   "source": [
    "18. Explain how encapsulation enhances code reusability and modularity in Python programs."
   ]
  },
  {
   "cell_type": "markdown",
   "id": "4f46ef8e-a776-428d-9b72-8486c328049b",
   "metadata": {},
   "source": [
    "Encapsulation enhances code reusability and modularity in Python programs by organizing and protecting data and behavior within a class. Here’s how encapsulation contributes to these principles:\n",
    "\n",
    "1. Code Reusability\n",
    "Reusable Components: Encapsulation allows you to create self-contained classes that encapsulate data and related methods. Once a class is defined, it can be instantiated and reused in different parts of the program or even in different projects. This promotes the reuse of well-defined, tested code components.\n",
    "\n",
    "Example: If you have a Book class as defined earlier, you can reuse this class in different parts of your library system or in different projects that require similar book management functionalities.\n",
    "\n",
    "Ease of Extension: Encapsulation allows you to extend functionality by creating subclasses that inherit from a base class. You can build on existing functionality without modifying the original class, adhering to the open/closed principle (open for extension, closed for modification)."
   ]
  },
  {
   "cell_type": "code",
   "execution_count": 44,
   "id": "aedbcddb-4e82-4414-806a-7f86e1e77d0b",
   "metadata": {},
   "outputs": [],
   "source": [
    "class EBook(Book):\n",
    "    def __init__(self, title, author, file_size):\n",
    "        super().__init__(title, author)\n",
    "        self.__file_size = file_size\n",
    "\n",
    "    def get_file_size(self):\n",
    "        return self.__file_size\n",
    "\n",
    "    def set_file_size(self, file_size):\n",
    "        if file_size > 0:\n",
    "            self.__file_size = file_size\n",
    "        else:\n",
    "            raise ValueError(\"File size must be positive.\")\n"
   ]
  },
  {
   "cell_type": "markdown",
   "id": "7c00d23a-4439-406e-b3ae-f41471512785",
   "metadata": {},
   "source": [
    "Encapsulation of Complexity: By encapsulating complex logic within methods, classes abstract away the details from the user. This means you can reuse classes without needing to understand or modify their internal workings.\n",
    "\n",
    "Example: A class handling complex calculations or data manipulations can provide simple methods to interact with the results without exposing the underlying complexities.\n",
    "\n",
    "2. Modularity\n",
    "Separation of Concerns: Encapsulation helps in separating different concerns or functionalities into distinct classes. Each class can manage its own data and methods, which leads to modular design where changes in one module (class) have minimal impact on others.\n",
    "\n",
    "Example: In a library management system, you could have separate classes for Book, Member, Loan, and Library. Each class encapsulates its own data and behaviors, leading to a modular and manageable design.\n",
    "\n",
    "Simplified Maintenance: When classes are well-encapsulated, you can make changes to the internal implementation of a class without affecting other parts of the code. This means that bugs can be isolated and fixed within specific classes, making maintenance easier.\n",
    "\n",
    "Example: If you need to update the way books are tracked in the Book class, you can do so without needing to alter the code that uses the Book class, provided the public interface remains the same.\n",
    "\n",
    "Improved Collaboration: Encapsulation makes it easier for teams to collaborate on larger projects. Each team or developer can work on different classes or modules independently, knowing that the encapsulated interface will remain consistent.\n",
    "\n",
    "Example: One developer might work on the Book class while another works on the Member class, with clear interfaces defined for how these classes interact.\n",
    "\n",
    "Summary\n",
    "Encapsulation promotes code reusability by allowing you to create self-contained, reusable components and extend or modify functionality without altering existing code. It enhances modularity by promoting a clear separation of concerns, simplifying maintenance, and supporting collaborative development. This leads to more maintainable, flexible, and scalable codebases.\n",
    "\n",
    "\n",
    "\n",
    "\n",
    "\n",
    "\n",
    "\n",
    "\n"
   ]
  },
  {
   "cell_type": "markdown",
   "id": "5bf27bf4-ef95-42fc-95ba-e391ba68998b",
   "metadata": {},
   "source": [
    "19. Describe the concept of information hiding in encapsulation. Why is it essential in software development"
   ]
  },
  {
   "cell_type": "markdown",
   "id": "4eb63f5c-7cb5-4e38-8195-b4e9c55c9e53",
   "metadata": {},
   "source": [
    "Information hiding is a core concept in encapsulation and plays a crucial role in software development. It involves restricting access to the internal details of a class or module and exposing only the necessary parts through well-defined interfaces. Here’s a detailed explanation of information hiding and its importance:\n",
    "\n",
    "Concept of Information Hiding\n",
    "Definition:\n",
    "Information hiding is the practice of concealing the internal implementation details of a component (such as a class or module) from the outside world. This means that the internal workings and data structures of the component are hidden from other parts of the program, and only a controlled interface is exposed for interaction.\n",
    "\n",
    "How It Works:\n",
    "\n",
    "Private Data and Methods: In object-oriented programming, information hiding is typically achieved by making data attributes and methods private or protected. For example, in Python, attributes prefixed with double underscores (__) are private, and those with a single underscore (_) are considered protected."
   ]
  },
  {
   "cell_type": "code",
   "execution_count": 45,
   "id": "43f6b474-0775-4512-9db4-e55ae67b8e34",
   "metadata": {},
   "outputs": [],
   "source": [
    "class Account:\n",
    "    def __init__(self, balance):\n",
    "        self.__balance = balance  # Private attribute\n",
    "\n",
    "    def deposit(self, amount):\n",
    "        if amount > 0:\n",
    "            self.__balance += amount\n",
    "        else:\n",
    "            raise ValueError(\"Deposit amount must be positive.\")\n",
    "\n",
    "    def get_balance(self):\n",
    "        return self.__balance\n"
   ]
  },
  {
   "cell_type": "markdown",
   "id": "8389c9d9-3338-4a50-9737-1fbf8477eafd",
   "metadata": {},
   "source": [
    "Public Interface: The class or module provides a public interface (through methods or functions) that allows other parts of the program to interact with it. This interface defines how users can access or modify the data without exposing the underlying implementation details."
   ]
  },
  {
   "cell_type": "code",
   "execution_count": 46,
   "id": "03dbd8c3-1fd5-4190-b9f4-27a6c93e14b3",
   "metadata": {},
   "outputs": [
    {
     "name": "stdout",
     "output_type": "stream",
     "text": [
      "150\n"
     ]
    }
   ],
   "source": [
    "acc = Account(100)\n",
    "acc.deposit(50)\n",
    "print(acc.get_balance())  # Output: 150\n"
   ]
  },
  {
   "cell_type": "markdown",
   "id": "110fd172-b912-4669-bc33-d1cf7bd01c71",
   "metadata": {},
   "source": [
    "mportance of Information Hiding\n",
    "Encapsulation of Complexity:\n",
    "\n",
    "Simplifies Use: By hiding complex implementation details, information hiding allows users to interact with a component through a simple interface. This makes it easier to understand and use the component without needing to know its internal workings.\n",
    "Improves Maintainability:\n",
    "\n",
    "Isolation of Changes: Changes to the internal implementation of a component can be made without affecting other parts of the program that use it. As long as the public interface remains the same, the internal changes are isolated.\n",
    "Enhances Security:\n",
    "\n",
    "Protects Data Integrity: Information hiding helps protect the internal state of an object from unintended modifications. By controlling access to data through methods, you can enforce validation and ensure that the object remains in a valid state.\n",
    "Reduces Coupling:\n",
    "\n",
    "Minimizes Dependencies: By exposing only the necessary interface and hiding implementation details, information hiding reduces the dependency between different parts of the program. This promotes loose coupling and makes the code more modular.\n",
    "Facilitates Code Reusability:\n",
    "\n",
    "Encapsulated Components: Components that hide their internal details can be reused in different contexts without needing to modify their internals. The encapsulated nature ensures that the component can be easily integrated into new applications.\n",
    "Supports Abstraction:\n",
    "\n",
    "Provides a Clear Interface: Information hiding helps in creating abstract representations of complex systems. It allows developers to focus on what a component does rather than how it does it, aligning with the principles of abstraction.\n",
    "Summary\n",
    "Information hiding is an essential aspect of encapsulation that improves code quality by simplifying interactions with complex components, protecting data integrity, reducing dependencies, and supporting modular design. It enhances maintainability, security, and reusability, which are crucial for developing robust and scalable software systems."
   ]
  },
  {
   "cell_type": "markdown",
   "id": "3628bdee-4a44-4f27-8477-7de03199117e",
   "metadata": {},
   "source": [
    "20. Create a Python class called `Customer` with private attributes for customer details like name, address, \n",
    "and contact information. Implement encapsulation to ensure data integrity and security"
   ]
  },
  {
   "cell_type": "code",
   "execution_count": 48,
   "id": "6dbd77e4-5bb6-4b7a-96c2-2c44e21454a7",
   "metadata": {
    "tags": []
   },
   "outputs": [
    {
     "name": "stdout",
     "output_type": "stream",
     "text": [
      "Customer(Name: Alice Johnson, Address: 123 Elm St, Contact Info: alice.johnson@example.com)\n",
      "Customer(Name: Alice Smith, Address: 902 Oak St, Contact Info: alice.smith@example.com)\n",
      "Name: Alice Smith\n",
      "Address: 902 Oak St\n",
      "Contact Info: alice.smith@example.com\n"
     ]
    }
   ],
   "source": [
    "class Customer:\n",
    "    def __init__(self, name, address, contact_info):\n",
    "        # Private attributes\n",
    "        self.__name = name\n",
    "        self.__address = address\n",
    "        self.__contact_info = contact_info\n",
    "\n",
    "    # Accessor methods\n",
    "    def get_name(self):\n",
    "        return self.__name\n",
    "\n",
    "    def get_address(self):\n",
    "        return self.__address\n",
    "\n",
    "    def get_contact_info(self):\n",
    "        return self.__contact_info\n",
    "\n",
    "    # Mutator methods\n",
    "    def set_name(self, name):\n",
    "        if isinstance(name, str) and name.strip():\n",
    "            self.__name = name\n",
    "        else:\n",
    "            raise ValueError(\"Name must be a non-empty string.\")\n",
    "\n",
    "    def set_address(self, address):\n",
    "        if isinstance(address, str) and address.strip():\n",
    "            self.__address = address\n",
    "        else:\n",
    "            raise ValueError(\"Address must be a non-empty string.\")\n",
    "\n",
    "    def set_contact_info(self, contact_info):\n",
    "        # Basic validation for contact info (e.g., phone number or email)\n",
    "        if isinstance(contact_info, str) and contact_info.strip():\n",
    "            self.__contact_info = contact_info\n",
    "        else:\n",
    "            raise ValueError(\"Contact info must be a non-empty string.\")\n",
    "\n",
    "    def __str__(self):\n",
    "        return (f\"Customer(Name: {self.__name}, Address: {self.__address}, \"\n",
    "                f\"Contact Info: {self.__contact_info})\")\n",
    "\n",
    "# Example usage\n",
    "if __name__ == \"__main__\":\n",
    "    # Create a new customer\n",
    "    customer1 = Customer(\"Alice Johnson\", \"123 Elm St\", \"alice.johnson@example.com\")\n",
    "\n",
    "    # Display customer information\n",
    "    print(customer1)  # Output: Customer(Name: Alice Johnson, Address: 123 Elm St, Contact Info: alice.johnson@example.com)\n",
    "\n",
    "    # Update customer details\n",
    "    customer1.set_name(\"Alice Smith\")\n",
    "    customer1.set_address(\"902 Oak St\")\n",
    "    customer1.set_contact_info(\"alice.smith@example.com\")\n",
    "\n",
    "    # Display updated customer information\n",
    "    print(customer1)  # Output: Customer(Name: Alice Smith, Address: 456 Oak St, Contact Info: alice.smith@example.com)\n",
    "\n",
    "    # Access customer details\n",
    "    print(\"Name:\", customer1.get_name())  # Output: Name: Alice Smith\n",
    "    print(\"Address:\", customer1.get_address())  # Output: Address: 456 Oak St\n",
    "    print(\"Contact Info:\", customer1.get_contact_info())  # Output: Contact Info: alice.smith@example.com\n"
   ]
  },
  {
   "cell_type": "code",
   "execution_count": null,
   "id": "85634c55-f090-4327-9ff4-8230479af10b",
   "metadata": {},
   "outputs": [],
   "source": []
  }
 ],
 "metadata": {
  "kernelspec": {
   "display_name": "Python 3 (ipykernel)",
   "language": "python",
   "name": "python3"
  },
  "language_info": {
   "codemirror_mode": {
    "name": "ipython",
    "version": 3
   },
   "file_extension": ".py",
   "mimetype": "text/x-python",
   "name": "python",
   "nbconvert_exporter": "python",
   "pygments_lexer": "ipython3",
   "version": "3.10.8"
  }
 },
 "nbformat": 4,
 "nbformat_minor": 5
}
